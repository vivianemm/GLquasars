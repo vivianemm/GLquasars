{
 "cells": [
  {
   "cell_type": "code",
   "execution_count": 1,
   "metadata": {},
   "outputs": [],
   "source": [
    "from bs4 import BeautifulSoup\n",
    "import pandas as pd\n",
    "import numpy as np"
   ]
  },
  {
   "cell_type": "code",
   "execution_count": 6,
   "metadata": {},
   "outputs": [],
   "source": [
    "#filename = \"/home/viviane/GravLens/Scraping/masterlens/masterlens_44.html\"  # list with dfs from tables\n",
    "filename = '/home/vivianemm/PycharmProjects/GravLens/Database/Scraping/masterlens/masterlens_1.html'\n",
    "df_list = pd.read_html(filename)"
   ]
  },
  {
   "cell_type": "code",
   "execution_count": 7,
   "metadata": {},
   "outputs": [
    {
     "name": "stdout",
     "output_type": "stream",
     "text": [
      "[0]\n",
      "[0 1 2 3]\n",
      "[0 1 2 3 4 5]\n",
      "[0]\n",
      "[0 1]\n",
      "[0 1]\n",
      "[0 1]\n",
      "[0 1]\n",
      "[0 1 2]\n",
      "[0 1]\n",
      "[0 1]\n",
      "[0 1]\n",
      "[0 1 2 3]\n",
      "[0 1]\n",
      "[0 1 2 3]\n",
      "[0 1 2 3 4 5 6 7]\n",
      "[ 0  1  2  3  4  5  6  7  8  9 10]\n",
      "[ 0  1  2  3  4  5  6  7  8  9 10]\n",
      "[0 1 2 3 4 5]\n",
      "[0 1 2 3 4 5 6 7 8]\n",
      "[0 1]\n",
      "[0 1]\n",
      "[0 1 2 3 4 5 6 7 8]\n"
     ]
    }
   ],
   "source": [
    "# important dfs: 5,6,7,11,12,13,14,16,17,18,19,20,21\n",
    "for i in df_list:\n",
    "    print(i.columns.values)"
   ]
  },
  {
   "cell_type": "markdown",
   "metadata": {},
   "source": [
    "### Defining functions"
   ]
  },
  {
   "cell_type": "code",
   "execution_count": 8,
   "metadata": {},
   "outputs": [],
   "source": [
    "def pick_table(df_list, key):\n",
    "    for df in df_list:\n",
    "        list_labels = list(df.columns.values)\n",
    "        if any(isinstance(i, tuple) for i in list_labels):  # if labels is nested list\n",
    "            labels = [item for t in list_labels for item in t]  # flatten\n",
    "        else:\n",
    "            labels = list_labels\n",
    "\n",
    "        list_values = df.values.tolist()\n",
    "        if any(isinstance(i, list) for i in list_values):  # if values is nested list\n",
    "            values = [item for t in list_values for item in t]  # flatten\n",
    "        else:\n",
    "            values = list_values\n",
    "              \n",
    "        if key in values or key in labels:\n",
    "            #df_list.remove(df)\n",
    "            return df"
   ]
  },
  {
   "cell_type": "code",
   "execution_count": 9,
   "metadata": {},
   "outputs": [],
   "source": [
    "def drop_nans(df):\n",
    "    df.dropna(axis=0, how='all', inplace=True)\n",
    "    df.dropna(axis=1, how='all', inplace=True)\n",
    "    return None"
   ]
  },
  {
   "cell_type": "code",
   "execution_count": 10,
   "metadata": {},
   "outputs": [],
   "source": [
    "def split_col(df, old_new_list):  # old_new_list = [[oldname, newname], ...]\n",
    "    for pair in old_new_list:\n",
    "        if pair[0] in df.columns and type(list(df[pair[0]])[0]) == str and \"±\" in list(df[pair[0]])[0]:\n",
    "            df[[pair[1], pair[1] + '_err']] = df[pair[0]].str.split(\"±\", n = 1, expand = True)\n",
    "            df.drop(pair[0], axis=1, inplace=True)\n",
    "        else:\n",
    "            pass\n",
    "    return None"
   ]
  },
  {
   "cell_type": "code",
   "execution_count": 11,
   "metadata": {},
   "outputs": [],
   "source": [
    "def get_table_links(table):\n",
    "    href_list = []\n",
    "    \n",
    "    if isinstance(table, list):\n",
    "        for row in table:\n",
    "            href = row.find('a')['href']\n",
    "            href_list.append(href)\n",
    "    else:\n",
    "        href_tags = table.find_all(\"a\")\n",
    "        for tag in href_tags:\n",
    "            href = tag.get('href')\n",
    "            href_list.append(href)\n",
    "    return href_list"
   ]
  },
  {
   "cell_type": "code",
   "execution_count": 12,
   "metadata": {},
   "outputs": [],
   "source": [
    "def save(df, filename, i=False):\n",
    "    if len(df) > 0:\n",
    "        df.to_csv(\"/home/viviane/GravLens/Scraping/results/\" + filename, index = i)\n",
    "        #df.to_csv('/home/vivianemm/PycharmProjects/GravLens/Scraping/results' + filename, index = i)\n",
    "        \n",
    "    return None"
   ]
  },
  {
   "cell_type": "markdown",
   "metadata": {},
   "source": [
    "### System table\n",
    "### (5, 6, 7, 11, 12, 20)"
   ]
  },
  {
   "cell_type": "code",
   "execution_count": 13,
   "metadata": {},
   "outputs": [],
   "source": [
    "def system(df_list):\n",
    "    # joining 5,6,7,11\n",
    "    frames =[pick_table(df_list, 'Discovery'), pick_table(df_list, 'Lens Kind'), \n",
    "             pick_table(df_list,'Lens Grade'), pick_table(df_list, 'Description')]\n",
    "    result_df = pd.concat(frames)\n",
    "    result_df.reset_index(drop=True, inplace=True)\n",
    "    system_df = result_df.drop(columns=0).T\n",
    "    system_df.columns = list(result_df[0])\n",
    "    drop_nans(system_df)\n",
    "    \n",
    "    # Splitting value ± error columns\n",
    "    split_col(system_df, [['Einstein_R [\"]','Einstein_R'], ['z_Lens', 'z_lens'], ['z_Source(s)', 'z_source'],\n",
    "                          ['Stellar velocity disp', 'Stellar_v_disp']])\n",
    "    \n",
    "    # adding other 2 tables\n",
    "    date_df = pick_table(df_list, 'Discovery Date:')\n",
    "    n_df = pick_table(df_list, 'Number of Source Plane Images')\n",
    "    \n",
    "    system_df['Discovery Date'] = date_df[3][0]\n",
    "    system_df['Name'] = date_df[1][0]\n",
    "    system_df['N Images'] = n_df[1][0]\n",
    "    \n",
    "    return system_df"
   ]
  },
  {
   "cell_type": "code",
   "execution_count": 14,
   "metadata": {},
   "outputs": [
    {
     "data": {
      "text/html": [
       "<div>\n",
       "<style scoped>\n",
       "    .dataframe tbody tr th:only-of-type {\n",
       "        vertical-align: middle;\n",
       "    }\n",
       "\n",
       "    .dataframe tbody tr th {\n",
       "        vertical-align: top;\n",
       "    }\n",
       "\n",
       "    .dataframe thead th {\n",
       "        text-align: right;\n",
       "    }\n",
       "</style>\n",
       "<table border=\"1\" class=\"dataframe\">\n",
       "  <thead>\n",
       "    <tr style=\"text-align: right;\">\n",
       "      <th></th>\n",
       "      <th>Discovery</th>\n",
       "      <th>Lens Kind</th>\n",
       "      <th>Lens Grade</th>\n",
       "      <th>Einstein_R quality</th>\n",
       "      <th>z_Lens quality</th>\n",
       "      <th>z_Source quality</th>\n",
       "      <th>Description</th>\n",
       "      <th>Einstein_R</th>\n",
       "      <th>Einstein_R_err</th>\n",
       "      <th>z_lens</th>\n",
       "      <th>z_lens_err</th>\n",
       "      <th>z_source</th>\n",
       "      <th>z_source_err</th>\n",
       "      <th>Stellar_v_disp</th>\n",
       "      <th>Stellar_v_disp_err</th>\n",
       "      <th>Discovery Date</th>\n",
       "      <th>Name</th>\n",
       "      <th>N Images</th>\n",
       "    </tr>\n",
       "  </thead>\n",
       "  <tbody>\n",
       "    <tr>\n",
       "      <th>1</th>\n",
       "      <td>SLACS</td>\n",
       "      <td>GAL-GAL</td>\n",
       "      <td>A</td>\n",
       "      <td>SIE model</td>\n",
       "      <td>spectroscopic</td>\n",
       "      <td>spectroscopic</td>\n",
       "      <td>Luminous red galaxy lensing three background o...</td>\n",
       "      <td>1.16</td>\n",
       "      <td>0.02</td>\n",
       "      <td>0.4400</td>\n",
       "      <td>0.0001</td>\n",
       "      <td>1.192</td>\n",
       "      <td>0.001</td>\n",
       "      <td>232</td>\n",
       "      <td>39</td>\n",
       "      <td>2008-08-01</td>\n",
       "      <td>SDSS J0008-0004</td>\n",
       "      <td>3</td>\n",
       "    </tr>\n",
       "  </tbody>\n",
       "</table>\n",
       "</div>"
      ],
      "text/plain": [
       "  Discovery Lens Kind Lens Grade Einstein_R quality z_Lens quality  \\\n",
       "1     SLACS   GAL-GAL          A          SIE model  spectroscopic   \n",
       "\n",
       "  z_Source quality                                        Description  \\\n",
       "1    spectroscopic  Luminous red galaxy lensing three background o...   \n",
       "\n",
       "  Einstein_R Einstein_R_err   z_lens z_lens_err z_source z_source_err  \\\n",
       "1      1.16            0.02  0.4400      0.0001   1.192         0.001   \n",
       "\n",
       "  Stellar_v_disp Stellar_v_disp_err Discovery Date             Name  N Images  \n",
       "1           232                  39     2008-08-01  SDSS J0008-0004         3  "
      ]
     },
     "execution_count": 14,
     "metadata": {},
     "output_type": "execute_result"
    }
   ],
   "source": [
    "system_df = system(df_list)\n",
    "system_df"
   ]
  },
  {
   "cell_type": "markdown",
   "metadata": {},
   "source": [
    "### Coordinates table (13)"
   ]
  },
  {
   "cell_type": "code",
   "execution_count": 15,
   "metadata": {},
   "outputs": [],
   "source": [
    "def coordinates(df_list):\n",
    "    coords_df = pick_table(df_list, 'Coordinates:') #.drop(2, axis=1)  # Manual coordinates\n",
    "    coords_df.drop(2, axis=1, inplace=True)    \n",
    "    coords_df = coords_df.set_index(0).T\n",
    "    coords_df['Coordinates:'] = 'Manual'\n",
    "    coords_df = coords_df.set_index('Coordinates:')\n",
    "\n",
    "    return coords_df"
   ]
  },
  {
   "cell_type": "code",
   "execution_count": 16,
   "metadata": {},
   "outputs": [
    {
     "ename": "KeyError",
     "evalue": "'[2] not found in axis'",
     "output_type": "error",
     "traceback": [
      "\u001b[0;31m---------------------------------------------------------------------------\u001b[0m",
      "\u001b[0;31mKeyError\u001b[0m                                  Traceback (most recent call last)",
      "\u001b[0;32m<ipython-input-16-c6463557acd7>\u001b[0m in \u001b[0;36m<module>\u001b[0;34m()\u001b[0m\n\u001b[0;32m----> 1\u001b[0;31m \u001b[0mcoordinates\u001b[0m\u001b[0;34m(\u001b[0m\u001b[0mdf_list\u001b[0m\u001b[0;34m)\u001b[0m\u001b[0;34m\u001b[0m\u001b[0;34m\u001b[0m\u001b[0m\n\u001b[0m",
      "\u001b[0;32m<ipython-input-15-8f2bd23525e6>\u001b[0m in \u001b[0;36mcoordinates\u001b[0;34m(df_list)\u001b[0m\n\u001b[1;32m      1\u001b[0m \u001b[0;32mdef\u001b[0m \u001b[0mcoordinates\u001b[0m\u001b[0;34m(\u001b[0m\u001b[0mdf_list\u001b[0m\u001b[0;34m)\u001b[0m\u001b[0;34m:\u001b[0m\u001b[0;34m\u001b[0m\u001b[0;34m\u001b[0m\u001b[0m\n\u001b[1;32m      2\u001b[0m     \u001b[0mcoords_df\u001b[0m \u001b[0;34m=\u001b[0m \u001b[0mpick_table\u001b[0m\u001b[0;34m(\u001b[0m\u001b[0mdf_list\u001b[0m\u001b[0;34m,\u001b[0m \u001b[0;34m'Coordinates:'\u001b[0m\u001b[0;34m)\u001b[0m \u001b[0;31m#.drop(2, axis=1)  # Manual coordinates\u001b[0m\u001b[0;34m\u001b[0m\u001b[0;34m\u001b[0m\u001b[0m\n\u001b[0;32m----> 3\u001b[0;31m     \u001b[0mcoords_df\u001b[0m\u001b[0;34m.\u001b[0m\u001b[0mdrop\u001b[0m\u001b[0;34m(\u001b[0m\u001b[0;36m2\u001b[0m\u001b[0;34m,\u001b[0m \u001b[0maxis\u001b[0m\u001b[0;34m=\u001b[0m\u001b[0;36m1\u001b[0m\u001b[0;34m,\u001b[0m \u001b[0minplace\u001b[0m\u001b[0;34m=\u001b[0m\u001b[0;32mTrue\u001b[0m\u001b[0;34m)\u001b[0m\u001b[0;34m\u001b[0m\u001b[0;34m\u001b[0m\u001b[0m\n\u001b[0m\u001b[1;32m      4\u001b[0m     \u001b[0mcoords_df\u001b[0m \u001b[0;34m=\u001b[0m \u001b[0mcoords_df\u001b[0m\u001b[0;34m.\u001b[0m\u001b[0mset_index\u001b[0m\u001b[0;34m(\u001b[0m\u001b[0;36m0\u001b[0m\u001b[0;34m)\u001b[0m\u001b[0;34m.\u001b[0m\u001b[0mT\u001b[0m\u001b[0;34m\u001b[0m\u001b[0;34m\u001b[0m\u001b[0m\n\u001b[1;32m      5\u001b[0m     \u001b[0mcoords_df\u001b[0m\u001b[0;34m[\u001b[0m\u001b[0;34m'Coordinates:'\u001b[0m\u001b[0;34m]\u001b[0m \u001b[0;34m=\u001b[0m \u001b[0;34m'Manual'\u001b[0m\u001b[0;34m\u001b[0m\u001b[0;34m\u001b[0m\u001b[0m\n",
      "\u001b[0;32m/usr/local/lib/python3.6/dist-packages/pandas/core/frame.py\u001b[0m in \u001b[0;36mdrop\u001b[0;34m(self, labels, axis, index, columns, level, inplace, errors)\u001b[0m\n\u001b[1;32m   3695\u001b[0m                                            \u001b[0mindex\u001b[0m\u001b[0;34m=\u001b[0m\u001b[0mindex\u001b[0m\u001b[0;34m,\u001b[0m \u001b[0mcolumns\u001b[0m\u001b[0;34m=\u001b[0m\u001b[0mcolumns\u001b[0m\u001b[0;34m,\u001b[0m\u001b[0;34m\u001b[0m\u001b[0;34m\u001b[0m\u001b[0m\n\u001b[1;32m   3696\u001b[0m                                            \u001b[0mlevel\u001b[0m\u001b[0;34m=\u001b[0m\u001b[0mlevel\u001b[0m\u001b[0;34m,\u001b[0m \u001b[0minplace\u001b[0m\u001b[0;34m=\u001b[0m\u001b[0minplace\u001b[0m\u001b[0;34m,\u001b[0m\u001b[0;34m\u001b[0m\u001b[0;34m\u001b[0m\u001b[0m\n\u001b[0;32m-> 3697\u001b[0;31m                                            errors=errors)\n\u001b[0m\u001b[1;32m   3698\u001b[0m \u001b[0;34m\u001b[0m\u001b[0m\n\u001b[1;32m   3699\u001b[0m     @rewrite_axis_style_signature('mapper', [('copy', True),\n",
      "\u001b[0;32m/usr/local/lib/python3.6/dist-packages/pandas/core/generic.py\u001b[0m in \u001b[0;36mdrop\u001b[0;34m(self, labels, axis, index, columns, level, inplace, errors)\u001b[0m\n\u001b[1;32m   3109\u001b[0m         \u001b[0;32mfor\u001b[0m \u001b[0maxis\u001b[0m\u001b[0;34m,\u001b[0m \u001b[0mlabels\u001b[0m \u001b[0;32min\u001b[0m \u001b[0maxes\u001b[0m\u001b[0;34m.\u001b[0m\u001b[0mitems\u001b[0m\u001b[0;34m(\u001b[0m\u001b[0;34m)\u001b[0m\u001b[0;34m:\u001b[0m\u001b[0;34m\u001b[0m\u001b[0;34m\u001b[0m\u001b[0m\n\u001b[1;32m   3110\u001b[0m             \u001b[0;32mif\u001b[0m \u001b[0mlabels\u001b[0m \u001b[0;32mis\u001b[0m \u001b[0;32mnot\u001b[0m \u001b[0;32mNone\u001b[0m\u001b[0;34m:\u001b[0m\u001b[0;34m\u001b[0m\u001b[0;34m\u001b[0m\u001b[0m\n\u001b[0;32m-> 3111\u001b[0;31m                 \u001b[0mobj\u001b[0m \u001b[0;34m=\u001b[0m \u001b[0mobj\u001b[0m\u001b[0;34m.\u001b[0m\u001b[0m_drop_axis\u001b[0m\u001b[0;34m(\u001b[0m\u001b[0mlabels\u001b[0m\u001b[0;34m,\u001b[0m \u001b[0maxis\u001b[0m\u001b[0;34m,\u001b[0m \u001b[0mlevel\u001b[0m\u001b[0;34m=\u001b[0m\u001b[0mlevel\u001b[0m\u001b[0;34m,\u001b[0m \u001b[0merrors\u001b[0m\u001b[0;34m=\u001b[0m\u001b[0merrors\u001b[0m\u001b[0;34m)\u001b[0m\u001b[0;34m\u001b[0m\u001b[0;34m\u001b[0m\u001b[0m\n\u001b[0m\u001b[1;32m   3112\u001b[0m \u001b[0;34m\u001b[0m\u001b[0m\n\u001b[1;32m   3113\u001b[0m         \u001b[0;32mif\u001b[0m \u001b[0minplace\u001b[0m\u001b[0;34m:\u001b[0m\u001b[0;34m\u001b[0m\u001b[0;34m\u001b[0m\u001b[0m\n",
      "\u001b[0;32m/usr/local/lib/python3.6/dist-packages/pandas/core/generic.py\u001b[0m in \u001b[0;36m_drop_axis\u001b[0;34m(self, labels, axis, level, errors)\u001b[0m\n\u001b[1;32m   3141\u001b[0m                 \u001b[0mnew_axis\u001b[0m \u001b[0;34m=\u001b[0m \u001b[0maxis\u001b[0m\u001b[0;34m.\u001b[0m\u001b[0mdrop\u001b[0m\u001b[0;34m(\u001b[0m\u001b[0mlabels\u001b[0m\u001b[0;34m,\u001b[0m \u001b[0mlevel\u001b[0m\u001b[0;34m=\u001b[0m\u001b[0mlevel\u001b[0m\u001b[0;34m,\u001b[0m \u001b[0merrors\u001b[0m\u001b[0;34m=\u001b[0m\u001b[0merrors\u001b[0m\u001b[0;34m)\u001b[0m\u001b[0;34m\u001b[0m\u001b[0;34m\u001b[0m\u001b[0m\n\u001b[1;32m   3142\u001b[0m             \u001b[0;32melse\u001b[0m\u001b[0;34m:\u001b[0m\u001b[0;34m\u001b[0m\u001b[0;34m\u001b[0m\u001b[0m\n\u001b[0;32m-> 3143\u001b[0;31m                 \u001b[0mnew_axis\u001b[0m \u001b[0;34m=\u001b[0m \u001b[0maxis\u001b[0m\u001b[0;34m.\u001b[0m\u001b[0mdrop\u001b[0m\u001b[0;34m(\u001b[0m\u001b[0mlabels\u001b[0m\u001b[0;34m,\u001b[0m \u001b[0merrors\u001b[0m\u001b[0;34m=\u001b[0m\u001b[0merrors\u001b[0m\u001b[0;34m)\u001b[0m\u001b[0;34m\u001b[0m\u001b[0;34m\u001b[0m\u001b[0m\n\u001b[0m\u001b[1;32m   3144\u001b[0m             \u001b[0mresult\u001b[0m \u001b[0;34m=\u001b[0m \u001b[0mself\u001b[0m\u001b[0;34m.\u001b[0m\u001b[0mreindex\u001b[0m\u001b[0;34m(\u001b[0m\u001b[0;34m**\u001b[0m\u001b[0;34m{\u001b[0m\u001b[0maxis_name\u001b[0m\u001b[0;34m:\u001b[0m \u001b[0mnew_axis\u001b[0m\u001b[0;34m}\u001b[0m\u001b[0;34m)\u001b[0m\u001b[0;34m\u001b[0m\u001b[0;34m\u001b[0m\u001b[0m\n\u001b[1;32m   3145\u001b[0m \u001b[0;34m\u001b[0m\u001b[0m\n",
      "\u001b[0;32m/usr/local/lib/python3.6/dist-packages/pandas/core/indexes/base.py\u001b[0m in \u001b[0;36mdrop\u001b[0;34m(self, labels, errors)\u001b[0m\n\u001b[1;32m   4402\u001b[0m             \u001b[0;32mif\u001b[0m \u001b[0merrors\u001b[0m \u001b[0;34m!=\u001b[0m \u001b[0;34m'ignore'\u001b[0m\u001b[0;34m:\u001b[0m\u001b[0;34m\u001b[0m\u001b[0;34m\u001b[0m\u001b[0m\n\u001b[1;32m   4403\u001b[0m                 raise KeyError(\n\u001b[0;32m-> 4404\u001b[0;31m                     '{} not found in axis'.format(labels[mask]))\n\u001b[0m\u001b[1;32m   4405\u001b[0m             \u001b[0mindexer\u001b[0m \u001b[0;34m=\u001b[0m \u001b[0mindexer\u001b[0m\u001b[0;34m[\u001b[0m\u001b[0;34m~\u001b[0m\u001b[0mmask\u001b[0m\u001b[0;34m]\u001b[0m\u001b[0;34m\u001b[0m\u001b[0;34m\u001b[0m\u001b[0m\n\u001b[1;32m   4406\u001b[0m         \u001b[0;32mreturn\u001b[0m \u001b[0mself\u001b[0m\u001b[0;34m.\u001b[0m\u001b[0mdelete\u001b[0m\u001b[0;34m(\u001b[0m\u001b[0mindexer\u001b[0m\u001b[0;34m)\u001b[0m\u001b[0;34m\u001b[0m\u001b[0;34m\u001b[0m\u001b[0m\n",
      "\u001b[0;31mKeyError\u001b[0m: '[2] not found in axis'"
     ]
    }
   ],
   "source": [
    "coordinates(df_list)"
   ]
  },
  {
   "cell_type": "markdown",
   "metadata": {},
   "source": [
    "### External links\n"
   ]
  },
  {
   "cell_type": "code",
   "execution_count": 958,
   "metadata": {},
   "outputs": [],
   "source": [
    "def external(df_list, filename):    \n",
    "    #external_df.columns = [''] * len(external_df.columns)\n",
    "    #external_df.drop('External Links:.1', axis=1, inplace=True)\n",
    "    \n",
    "    soup = BeautifulSoup(open(filename), \"lxml\")\n",
    "    external_df = pick_table(df_list, 'External Links:')\n",
    "    for table in soup.find_all('table'):\n",
    "            \n",
    "        if table.th is not None and table.th.text == 'External Links:':\n",
    "            refs = get_table_links(table)\n",
    "        else:\n",
    "            pass\n",
    "            \n",
    "            #if external_df is not None:\n",
    "    external_df.columns = ['database', 'link']\n",
    "    external_df = external_df.set_index('database')\n",
    "    drop_nans(external_df)\n",
    "    external_df['links'] = refs\n",
    "    external_df.drop('link', axis=1, inplace=True)\n",
    "    \n",
    "    return external_df"
   ]
  },
  {
   "cell_type": "markdown",
   "metadata": {},
   "source": [
    "### Flux table (SDSS 16, HST 17)"
   ]
  },
  {
   "cell_type": "code",
   "execution_count": 978,
   "metadata": {},
   "outputs": [],
   "source": [
    "########### outros filtrosssss CFHTLS\n",
    "def sdss(df_list):\n",
    "    df = pick_table(df_list,'Filter')\n",
    "    if df is not None and'SDSS' in df.columns.values:\n",
    "        sdss_df = df.set_index('Band')\n",
    "        sdss_df = sdss_df.drop(columns=['Unnamed: 1'])\n",
    "    else:\n",
    "        sdss_df = pd.DataFrame()\n",
    "\n",
    "    return sdss_df\n",
    "\n",
    "\n",
    "def hst(df_list):\n",
    "    hst_df = pick_table(df_list,'HST')\n",
    "\n",
    "    if hst_df is not None:\n",
    "        hst_df = hst_df.drop(columns=['Unnamed: 1'])\n",
    "        hst_df = hst_df.set_index('Band')\n",
    "    else:\n",
    "        hst_df = pd.DataFrame()\n",
    "    return hst_df\n",
    "\n",
    "\n",
    "def flux(df_list):\n",
    "    sdss_df = sdss(df_list)\n",
    "    hst_df = hst(df_list)\n",
    "\n",
    "    flux_df = pd.concat([sdss_df, hst_df])\n",
    "    #flux_df['release'] = list(sdss_df['SDSS']) + list(hst_df['HST'])\n",
    "    #flux_df = flux_df.drop(columns=['SDSS','HST'])\n",
    "\n",
    "    drop_nans(flux_df)\n",
    "    split_col(flux_df, [['Lens Magnitude', 'lens_mag'], ['Flux [nmaggie]', 'Flux (nmaggie)'],\n",
    "                    ['Reff [″]', \"ref (arcsec)\"], ['axis ratio (AB)', 'axis_ratio (AB)'],\n",
    "                    ['PA [° E of N]','PA (deg)']])\n",
    "    return flux_df"
   ]
  },
  {
   "cell_type": "code",
   "execution_count": 966,
   "metadata": {},
   "outputs": [
    {
     "data": {
      "text/html": [
       "<div>\n",
       "<style scoped>\n",
       "    .dataframe tbody tr th:only-of-type {\n",
       "        vertical-align: middle;\n",
       "    }\n",
       "\n",
       "    .dataframe tbody tr th {\n",
       "        vertical-align: top;\n",
       "    }\n",
       "\n",
       "    .dataframe thead th {\n",
       "        text-align: right;\n",
       "    }\n",
       "</style>\n",
       "<table border=\"1\" class=\"dataframe\">\n",
       "  <thead>\n",
       "    <tr style=\"text-align: right;\">\n",
       "      <th></th>\n",
       "    </tr>\n",
       "  </thead>\n",
       "  <tbody>\n",
       "  </tbody>\n",
       "</table>\n",
       "</div>"
      ],
      "text/plain": [
       "Empty DataFrame\n",
       "Columns: []\n",
       "Index: []"
      ]
     },
     "execution_count": 966,
     "metadata": {},
     "output_type": "execute_result"
    }
   ],
   "source": [
    "flux(df_list)    #CFHTLS"
   ]
  },
  {
   "cell_type": "markdown",
   "metadata": {},
   "source": [
    "### Redshift table (18, 19)"
   ]
  },
  {
   "cell_type": "code",
   "execution_count": 899,
   "metadata": {},
   "outputs": [],
   "source": [
    "def redshift(df_list):\n",
    "\n",
    "    z_lens_df = pick_table(df_list, 'Lens Plane Images:')\n",
    "    if z_lens_df is not None:\n",
    "        z_lens_df = z_lens_df['Lens Plane Images:']\n",
    "        #z_lens_df = z_lens_df.set_index('No.')\n",
    "    else:\n",
    "        z_lens_df = pd.DataFrame()\n",
    "\n",
    "    z_source_df = pick_table(df_list, 'Source Plane Images:')\n",
    "    if z_source_df is not None:\n",
    "        z_source_df = z_source_df['Source Plane Images:']\n",
    "        #z_source_df = z_source_df.set_index('No.')\n",
    "    else:\n",
    "        z_source_df = pd.DataFrame()\n",
    "\n",
    "    z_df = pd.concat([z_lens_df, z_source_df], keys=['Lens', 'Source'])\n",
    "    drop_nans(z_df)\n",
    "\n",
    "    return z_df"
   ]
  },
  {
   "cell_type": "code",
   "execution_count": 900,
   "metadata": {},
   "outputs": [
    {
     "data": {
      "text/html": [
       "<div>\n",
       "<style scoped>\n",
       "    .dataframe tbody tr th:only-of-type {\n",
       "        vertical-align: middle;\n",
       "    }\n",
       "\n",
       "    .dataframe tbody tr th {\n",
       "        vertical-align: top;\n",
       "    }\n",
       "\n",
       "    .dataframe thead tr th {\n",
       "        text-align: left;\n",
       "    }\n",
       "</style>\n",
       "<table border=\"1\" class=\"dataframe\">\n",
       "  <thead>\n",
       "    <tr>\n",
       "      <th></th>\n",
       "      <th colspan=\"6\" halign=\"left\">Lens Plane Images:</th>\n",
       "    </tr>\n",
       "    <tr>\n",
       "      <th></th>\n",
       "      <th>No.</th>\n",
       "      <th>Label</th>\n",
       "      <th>z</th>\n",
       "      <th>z_err</th>\n",
       "      <th>Flux</th>\n",
       "      <th>Mag</th>\n",
       "    </tr>\n",
       "  </thead>\n",
       "  <tbody>\n",
       "    <tr>\n",
       "      <th>0</th>\n",
       "      <td>1</td>\n",
       "      <td>NaN</td>\n",
       "      <td>0.44</td>\n",
       "      <td>0.0001</td>\n",
       "      <td>NaN</td>\n",
       "      <td>NaN</td>\n",
       "    </tr>\n",
       "  </tbody>\n",
       "</table>\n",
       "</div>"
      ],
      "text/plain": [
       "  Lens Plane Images:                             \n",
       "                 No. Label     z   z_err Flux Mag\n",
       "0                  1   NaN  0.44  0.0001  NaN NaN"
      ]
     },
     "execution_count": 900,
     "metadata": {},
     "output_type": "execute_result"
    }
   ],
   "source": [
    "z_lens_df = pick_table(df_list, 'Lens Plane Images:')\n",
    "z_lens_df"
   ]
  },
  {
   "cell_type": "code",
   "execution_count": 901,
   "metadata": {},
   "outputs": [
    {
     "name": "stderr",
     "output_type": "stream",
     "text": [
      "/home/viviane/anaconda3/lib/python3.7/site-packages/ipykernel_launcher.py:17: FutureWarning: Sorting because non-concatenation axis is not aligned. A future version\n",
      "of pandas will change to not sort by default.\n",
      "\n",
      "To accept the future behavior, pass 'sort=False'.\n",
      "\n",
      "To retain the current behavior and silence the warning, pass 'sort=True'.\n",
      "\n"
     ]
    },
    {
     "data": {
      "text/html": [
       "<div>\n",
       "<style scoped>\n",
       "    .dataframe tbody tr th:only-of-type {\n",
       "        vertical-align: middle;\n",
       "    }\n",
       "\n",
       "    .dataframe tbody tr th {\n",
       "        vertical-align: top;\n",
       "    }\n",
       "\n",
       "    .dataframe thead th {\n",
       "        text-align: right;\n",
       "    }\n",
       "</style>\n",
       "<table border=\"1\" class=\"dataframe\">\n",
       "  <thead>\n",
       "    <tr style=\"text-align: right;\">\n",
       "      <th></th>\n",
       "      <th></th>\n",
       "      <th>No.</th>\n",
       "      <th>z</th>\n",
       "      <th>z_err</th>\n",
       "    </tr>\n",
       "  </thead>\n",
       "  <tbody>\n",
       "    <tr>\n",
       "      <th>Lens</th>\n",
       "      <th>0</th>\n",
       "      <td>1</td>\n",
       "      <td>0.440</td>\n",
       "      <td>0.0001</td>\n",
       "    </tr>\n",
       "    <tr>\n",
       "      <th rowspan=\"3\" valign=\"top\">Source</th>\n",
       "      <th>0</th>\n",
       "      <td>1</td>\n",
       "      <td>1.192</td>\n",
       "      <td>0.0010</td>\n",
       "    </tr>\n",
       "    <tr>\n",
       "      <th>1</th>\n",
       "      <td>2</td>\n",
       "      <td>1.192</td>\n",
       "      <td>0.0010</td>\n",
       "    </tr>\n",
       "    <tr>\n",
       "      <th>2</th>\n",
       "      <td>3</td>\n",
       "      <td>1.192</td>\n",
       "      <td>0.0010</td>\n",
       "    </tr>\n",
       "  </tbody>\n",
       "</table>\n",
       "</div>"
      ],
      "text/plain": [
       "          No.      z   z_err\n",
       "Lens   0    1  0.440  0.0001\n",
       "Source 0    1  1.192  0.0010\n",
       "       1    2  1.192  0.0010\n",
       "       2    3  1.192  0.0010"
      ]
     },
     "execution_count": 901,
     "metadata": {},
     "output_type": "execute_result"
    }
   ],
   "source": [
    "redshift(df_list)"
   ]
  },
  {
   "cell_type": "markdown",
   "metadata": {},
   "source": [
    "### Time delay table (21)"
   ]
  },
  {
   "cell_type": "code",
   "execution_count": 902,
   "metadata": {},
   "outputs": [],
   "source": [
    "def time(df_list):\n",
    "    time_df = pick_table(df_list, 'Time Delays:')\n",
    "\n",
    "    if time_df is not None:\n",
    "        times = list(time_df['Time Delays:']['Time Delay (days)'])\n",
    "    #print(times)\n",
    "        if np.isnan(times).all():\n",
    "            time_df = None\n",
    "\n",
    "    return time_df"
   ]
  },
  {
   "cell_type": "code",
   "execution_count": 903,
   "metadata": {},
   "outputs": [
    {
     "data": {
      "text/plain": [
       "NoneType"
      ]
     },
     "execution_count": 903,
     "metadata": {},
     "output_type": "execute_result"
    }
   ],
   "source": [
    "d = time(df_list)\n",
    "type(d)"
   ]
  },
  {
   "cell_type": "markdown",
   "metadata": {},
   "source": [
    "### References table (14)"
   ]
  },
  {
   "cell_type": "code",
   "execution_count": 904,
   "metadata": {},
   "outputs": [],
   "source": [
    "def refs(filename, df_list):\n",
    "    soup = BeautifulSoup(open(filename), \"html.parser\")\n",
    "\n",
    "    for table in soup.find_all('table'):\n",
    "    # links = [np.where(tag.has_attr('href'),tag.get('href'),\"no link\") for tag in tb.find_all('a')]\n",
    "\n",
    "        links = get_table_links(table)\n",
    "        #print(links)\n",
    "\n",
    "        if len(links) >= 2 and 'citation' in links[1]:\n",
    "            papers = links[1::2]\n",
    "\n",
    "    ref_df = pick_table(df_list, 'Discovery\\xa0Paper')\n",
    "    ref_df = ref_df.drop('Unnamed: 0', axis=1)\n",
    "\n",
    "    ref_df['Links'] = papers\n",
    "    ref_df.columns = ['Author', 'Title', 'Discovery', 'Links']\n",
    "    return ref_df"
   ]
  },
  {
   "cell_type": "code",
   "execution_count": 905,
   "metadata": {},
   "outputs": [
    {
     "data": {
      "text/html": [
       "<div>\n",
       "<style scoped>\n",
       "    .dataframe tbody tr th:only-of-type {\n",
       "        vertical-align: middle;\n",
       "    }\n",
       "\n",
       "    .dataframe tbody tr th {\n",
       "        vertical-align: top;\n",
       "    }\n",
       "\n",
       "    .dataframe thead th {\n",
       "        text-align: right;\n",
       "    }\n",
       "</style>\n",
       "<table border=\"1\" class=\"dataframe\">\n",
       "  <thead>\n",
       "    <tr style=\"text-align: right;\">\n",
       "      <th></th>\n",
       "      <th>Author</th>\n",
       "      <th>Title</th>\n",
       "      <th>Discovery</th>\n",
       "      <th>Links</th>\n",
       "    </tr>\n",
       "  </thead>\n",
       "  <tbody>\n",
       "    <tr>\n",
       "      <th>0</th>\n",
       "      <td>Cardone et al. 2011 [MNRAS416(2011)1822]</td>\n",
       "      <td>Secondary infall model and dark matter scaling...</td>\n",
       "      <td>NaN</td>\n",
       "      <td>http://admin.masterlens.org/citation.php?refer...</td>\n",
       "    </tr>\n",
       "    <tr>\n",
       "      <th>1</th>\n",
       "      <td>Auger et al. 2009 [ApJ705(2009)1099]</td>\n",
       "      <td>The Sloan Lens ACS Survey. IX. Colors, Lensing...</td>\n",
       "      <td>NaN</td>\n",
       "      <td>http://admin.masterlens.org/citation.php?refer...</td>\n",
       "    </tr>\n",
       "    <tr>\n",
       "      <th>2</th>\n",
       "      <td>Newton et al. 2009 [ApJ696(2009)1125]</td>\n",
       "      <td>Enhanced Lensing Rate by Clustering of Massive...</td>\n",
       "      <td>NaN</td>\n",
       "      <td>http://admin.masterlens.org/citation.php?refer...</td>\n",
       "    </tr>\n",
       "    <tr>\n",
       "      <th>3</th>\n",
       "      <td>Grillo et al. 2009 [A&amp;A501(2009)461]</td>\n",
       "      <td>Photometric mass and mass decomposition in ear...</td>\n",
       "      <td>NaN</td>\n",
       "      <td>http://admin.masterlens.org/citation.php?refer...</td>\n",
       "    </tr>\n",
       "    <tr>\n",
       "      <th>4</th>\n",
       "      <td>Treu et al. 2009 [ApJ690(2009)670]</td>\n",
       "      <td>The SLACS Survey. VIII. The Relation between E...</td>\n",
       "      <td>NaN</td>\n",
       "      <td>http://admin.masterlens.org/citation.php?refer...</td>\n",
       "    </tr>\n",
       "    <tr>\n",
       "      <th>5</th>\n",
       "      <td>Bolton et al. 2008 [ApJ682(2008)964]</td>\n",
       "      <td>The Sloan Lens ACS Survey. V. The Full ACS Str...</td>\n",
       "      <td>Discovery Paper</td>\n",
       "      <td>http://admin.masterlens.org/citation.php?refer...</td>\n",
       "    </tr>\n",
       "  </tbody>\n",
       "</table>\n",
       "</div>"
      ],
      "text/plain": [
       "                                     Author  \\\n",
       "0  Cardone et al. 2011 [MNRAS416(2011)1822]   \n",
       "1      Auger et al. 2009 [ApJ705(2009)1099]   \n",
       "2     Newton et al. 2009 [ApJ696(2009)1125]   \n",
       "3      Grillo et al. 2009 [A&A501(2009)461]   \n",
       "4        Treu et al. 2009 [ApJ690(2009)670]   \n",
       "5      Bolton et al. 2008 [ApJ682(2008)964]   \n",
       "\n",
       "                                               Title        Discovery  \\\n",
       "0  Secondary infall model and dark matter scaling...              NaN   \n",
       "1  The Sloan Lens ACS Survey. IX. Colors, Lensing...              NaN   \n",
       "2  Enhanced Lensing Rate by Clustering of Massive...              NaN   \n",
       "3  Photometric mass and mass decomposition in ear...              NaN   \n",
       "4  The SLACS Survey. VIII. The Relation between E...              NaN   \n",
       "5  The Sloan Lens ACS Survey. V. The Full ACS Str...  Discovery Paper   \n",
       "\n",
       "                                               Links  \n",
       "0  http://admin.masterlens.org/citation.php?refer...  \n",
       "1  http://admin.masterlens.org/citation.php?refer...  \n",
       "2  http://admin.masterlens.org/citation.php?refer...  \n",
       "3  http://admin.masterlens.org/citation.php?refer...  \n",
       "4  http://admin.masterlens.org/citation.php?refer...  \n",
       "5  http://admin.masterlens.org/citation.php?refer...  "
      ]
     },
     "execution_count": 905,
     "metadata": {},
     "output_type": "execute_result"
    }
   ],
   "source": [
    "refs(filename, df_list)"
   ]
  },
  {
   "cell_type": "markdown",
   "metadata": {},
   "source": [
    "### Main code"
   ]
  },
  {
   "cell_type": "code",
   "execution_count": 1002,
   "metadata": {},
   "outputs": [
    {
     "name": "stderr",
     "output_type": "stream",
     "text": [
      "/home/viviane/anaconda3/lib/python3.7/site-packages/ipykernel_launcher.py:28: FutureWarning: Sorting because non-concatenation axis is not aligned. A future version\n",
      "of pandas will change to not sort by default.\n",
      "\n",
      "To accept the future behavior, pass 'sort=False'.\n",
      "\n",
      "To retain the current behavior and silence the warning, pass 'sort=True'.\n",
      "\n",
      "/home/viviane/anaconda3/lib/python3.7/site-packages/ipykernel_launcher.py:17: FutureWarning: Sorting because non-concatenation axis is not aligned. A future version\n",
      "of pandas will change to not sort by default.\n",
      "\n",
      "To accept the future behavior, pass 'sort=False'.\n",
      "\n",
      "To retain the current behavior and silence the warning, pass 'sort=True'.\n",
      "\n"
     ]
    },
    {
     "name": "stdout",
     "output_type": "stream",
     "text": [
      "1\n",
      "2\n",
      "3\n",
      "4\n",
      "5\n",
      "6\n",
      "7\n",
      "8\n",
      "9\n",
      "10\n",
      "11\n",
      "12\n",
      "13\n",
      "14\n",
      "15\n",
      "16\n",
      "17\n",
      "18\n",
      "19\n",
      "20\n",
      "21\n",
      "22\n",
      "23\n",
      "24\n",
      "25\n",
      "26\n",
      "27\n",
      "28\n",
      "29\n",
      "30\n",
      "31\n",
      "32\n",
      "33\n",
      "34\n",
      "35\n",
      "36\n",
      "37\n",
      "38\n",
      "39\n",
      "40\n",
      "41\n",
      "42\n",
      "43\n",
      "44\n",
      "45\n",
      "46\n",
      "47\n",
      "48\n",
      "49\n",
      "50\n"
     ]
    }
   ],
   "source": [
    "for lens_n in range(1,51):\n",
    "    filename = \"/home/viviane/GravLens/Scraping/masterlens/masterlens_\" + str(lens_n) + \".html\"\n",
    "    #filename = '/home/vivianemm/PycharmProjects/GravLens/Scraping/masterlens/masterlens_1.html'\n",
    "    df_list = pd.read_html(filename)\n",
    "\n",
    "    system_df = system(df_list)\n",
    "    coords_df = coordinates(df_list)\n",
    "    flux_df = flux(df_list)\n",
    "    z_df = redshift(df_list)\n",
    "    ref_df = refs(filename, df_list)\n",
    "    external_df = external(df_list, filename)\n",
    "    time_df = time(df_list)\n",
    "    \n",
    "    save(system_df, 'system_{}.csv'.format(lens_n))\n",
    "    save(coords_df, 'coordinates_{}.csv'.format(lens_n))\n",
    "    save(flux_df, 'flux_{}.csv'.format(lens_n), i=True)\n",
    "    save(z_df, 'redshift_{}.csv'.format(lens_n), i=True)\n",
    "    save(ref_df, 'references_{}.csv'.format(lens_n))\n",
    "    save(external_df, 'external_{}.csv'.format(lens_n),i=True)\n",
    "    \n",
    "    print(lens_n)"
   ]
  },
  {
   "cell_type": "code",
   "execution_count": 1029,
   "metadata": {},
   "outputs": [
    {
     "data": {
      "text/html": [
       "<div>\n",
       "<style scoped>\n",
       "    .dataframe tbody tr th:only-of-type {\n",
       "        vertical-align: middle;\n",
       "    }\n",
       "\n",
       "    .dataframe tbody tr th {\n",
       "        vertical-align: top;\n",
       "    }\n",
       "\n",
       "    .dataframe thead th {\n",
       "        text-align: right;\n",
       "    }\n",
       "</style>\n",
       "<table border=\"1\" class=\"dataframe\">\n",
       "  <thead>\n",
       "    <tr style=\"text-align: right;\">\n",
       "      <th></th>\n",
       "      <th>RA Hrs</th>\n",
       "      <th>RA Mins</th>\n",
       "      <th>RA Secs</th>\n",
       "      <th>RA [°]</th>\n",
       "      <th>Dec Degrees</th>\n",
       "      <th>Dec Arcmin</th>\n",
       "      <th>Dec Arcsec</th>\n",
       "      <th>Dec [°]</th>\n",
       "    </tr>\n",
       "  </thead>\n",
       "  <tbody>\n",
       "    <tr>\n",
       "      <th>0</th>\n",
       "      <td>10</td>\n",
       "      <td>4</td>\n",
       "      <td>34</td>\n",
       "      <td>151.143143</td>\n",
       "      <td>41</td>\n",
       "      <td>12</td>\n",
       "      <td>42.8</td>\n",
       "      <td>41.212109</td>\n",
       "    </tr>\n",
       "  </tbody>\n",
       "</table>\n",
       "</div>"
      ],
      "text/plain": [
       "   RA Hrs  RA Mins  RA Secs      RA [°]  Dec Degrees  Dec Arcmin  Dec Arcsec  \\\n",
       "0      10        4       34  151.143143           41          12        42.8   \n",
       "\n",
       "     Dec [°]  \n",
       "0  41.212109  "
      ]
     },
     "execution_count": 1029,
     "metadata": {},
     "output_type": "execute_result"
    }
   ],
   "source": [
    "pd.read_csv('results/coordinates_50.csv')"
   ]
  },
  {
   "cell_type": "code",
   "execution_count": null,
   "metadata": {},
   "outputs": [],
   "source": []
  }
 ],
 "metadata": {
  "kernelspec": {
   "display_name": "Python 3",
   "language": "python",
   "name": "python3"
  },
  "language_info": {
   "codemirror_mode": {
    "name": "ipython",
    "version": 3
   },
   "file_extension": ".py",
   "mimetype": "text/x-python",
   "name": "python",
   "nbconvert_exporter": "python",
   "pygments_lexer": "ipython3",
   "version": "3.6.8"
  }
 },
 "nbformat": 4,
 "nbformat_minor": 2
}
