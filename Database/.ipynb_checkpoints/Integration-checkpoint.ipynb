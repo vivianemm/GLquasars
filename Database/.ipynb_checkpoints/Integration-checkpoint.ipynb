{
 "cells": [
  {
   "cell_type": "markdown",
   "metadata": {},
   "source": [
    "## Integração de dados\n",
    "\n",
    "#### Masterlens, CASTLES"
   ]
  },
  {
   "cell_type": "code",
   "execution_count": 1,
   "metadata": {},
   "outputs": [],
   "source": [
    "import pandas as pd\n",
    "from astropy.coordinates import Angle"
   ]
  },
  {
   "cell_type": "code",
   "execution_count": 2,
   "metadata": {},
   "outputs": [],
   "source": [
    "# dec: -27:52:25.7 ---> -27.873806 deg\n",
    "def sexdeg_to_deg(coord):\n",
    "    result = Angle(coord + \" degrees\").degree\n",
    "    return result #*3600\n"
   ]
  },
  {
   "cell_type": "code",
   "execution_count": 3,
   "metadata": {},
   "outputs": [],
   "source": [
    "# ra: 00h49m41.89s ---> 12.424542 deg\n",
    "def hour_to_deg(coord):  # string coord\n",
    "    result = Angle(coord).degree\n",
    "    return result #*3600"
   ]
  },
  {
   "cell_type": "code",
   "execution_count": 4,
   "metadata": {},
   "outputs": [],
   "source": [
    "# ra: 00:49:41.89 ---> 00h49m41.89s\n",
    "def hour(coord):\n",
    "    result = coord.replace(\":\", 'h', 1)\n",
    "    result = result.replace(\":\", 'm', 1)\n",
    "    result += 's'\n",
    "    return result"
   ]
  },
  {
   "cell_type": "code",
   "execution_count": 5,
   "metadata": {},
   "outputs": [],
   "source": [
    "# system table -------->  143 lenses\n",
    "def system():  # lens as a whole\n",
    "    \n",
    "    # importing castles data  -  100 lenses\n",
    "    castles = pd.read_csv('Scraping/castles.csv')\n",
    "    castles.drop(['zs', 'zl', 'ms (mag)', 'ml (mag)', 'dt (days)'], axis=1, inplace=True)\n",
    "    castles['RA (J2000)'] = castles['RA (J2000)'].apply(hour)\n",
    "    castles['RA (J2000)'] = castles['RA (J2000)'].apply(hour_to_deg)\n",
    "    castles['Dec (J2000)'] = castles['Dec (J2000)'].apply(sexdeg_to_deg)\n",
    "    castles.columns=['Name', 'RA(deg)_c', 'Dec(deg)_c', 'E(B-V)_c', 'FGHz (mJy)_c', 'Nimages_c',\n",
    "                     'size(arccsec)_c', 'sigma (km/s)_c']\n",
    "    castles = castles.set_index('Name')\n",
    "    \n",
    "    \n",
    "    # importing masterlens data  -  50 lenses\n",
    "    dfs = []\n",
    "    for i in range(1,51):\n",
    "        \n",
    "        # getting data from system file\n",
    "        ml = pd.read_csv('Scraping/results/system_{}.csv'.format(i))\n",
    "\n",
    "        # selecting important columns\n",
    "        cols=[]\n",
    "        for column in ['Name', 'Alternate Names', 'Discovery', 'Discovery Date', 'Lens Kind', 'Lens Grade',\n",
    "                       'Description', 'N Images', 'Einstein_R', 'Einstein_R quality',\n",
    "                       'Stellar_v_disp', 'Stellar_v_disp_err']:\n",
    "            if column in list(ml.columns):\n",
    "                cols.append(column)\n",
    "        ml = ml[cols]\n",
    "\n",
    "        # getting coords from coords file\n",
    "        coords = pd.read_csv('Scraping/results/coordinates_{}.csv'.format(i))\n",
    "        ml['Ra(deg)_ml'] = coords['RA [°]']\n",
    "        ml['Dec(deg)_ml'] = coords['Dec [°]']\n",
    "\n",
    "        dfs.append(ml)\n",
    "     \n",
    "    # joining all masterlens system + coords dfs\n",
    "    all_ml = pd.concat(dfs, sort=False)\n",
    "    all_ml = all_ml.set_index('Name')\n",
    "\n",
    "    # joining castles + ml data\n",
    "    result = pd.merge(castles, all_ml, how ='outer', on='Name')  \n",
    "\n",
    "\n",
    "    return result\n",
    "        \n"
   ]
  },
  {
   "cell_type": "code",
   "execution_count": 12,
   "metadata": {},
   "outputs": [
    {
     "data": {
      "text/plain": [
       "143"
      ]
     },
     "execution_count": 12,
     "metadata": {},
     "output_type": "execute_result"
    }
   ],
   "source": [
    "cats = system()\n",
    "len(cats)"
   ]
  },
  {
   "cell_type": "code",
   "execution_count": 7,
   "metadata": {},
   "outputs": [],
   "source": [
    "# system table  ------------> 138 clustres\n",
    "def system_cluster():  # lens as a whole\n",
    "    \n",
    "    # importing castles data  -  100 lenses\n",
    "    castles = pd.read_csv('Scraping/castles.csv')\n",
    "    castles = castles[['RA (J2000)', 'Dec (J2000)' ]]\n",
    "    castles['RA (J2000)'] = castles['RA (J2000)'].apply(hour)\n",
    "    castles['RA (J2000)'] = castles['RA (J2000)'].apply(hour_to_deg)\n",
    "    castles['Dec (J2000)'] = castles['Dec (J2000)'].apply(sexdeg_to_deg)\n",
    "    castles.columns=['ra', 'dec']  # degrees\n",
    "    \n",
    "    castles['idCatalog'] = 1\n",
    "    #castles = castles.set_index('Name')\n",
    "    \n",
    "    \n",
    "    # importing masterlens data  -  50 lenses\n",
    "    dfs = []\n",
    "    for i in range(1,51):\n",
    "\n",
    "        # getting coords from coords file\n",
    "        ml = pd.read_csv('Scraping/results/coordinates_{}.csv'.format(i))\n",
    "        ml = ml[['RA [°]', 'Dec [°]']]\n",
    "        ml.columns=['ra', 'dec']  # degrees\n",
    "        ml['idCatalog'] = 2\n",
    "\n",
    "        dfs.append(ml)\n",
    "     \n",
    "    # joining all masterlens system + coords dfs\n",
    "    all_ml = pd.concat(dfs, sort=False)\n",
    "    \n",
    "    # concatenating both catalogs to use Nacluster\n",
    "    final = pd.concat([castles,all_ml])\n",
    "    final.reset_index(drop = True, inplace=True)\n",
    "\n",
    "    return final\n",
    "        \n"
   ]
  },
  {
   "cell_type": "code",
   "execution_count": 8,
   "metadata": {},
   "outputs": [],
   "source": [
    "system_na = system_cluster()\n",
    "system_na.to_csv('catalogs.csv', header=False)"
   ]
  },
  {
   "cell_type": "code",
   "execution_count": 22,
   "metadata": {},
   "outputs": [
    {
     "data": {
      "text/html": [
       "<div>\n",
       "<style scoped>\n",
       "    .dataframe tbody tr th:only-of-type {\n",
       "        vertical-align: middle;\n",
       "    }\n",
       "\n",
       "    .dataframe tbody tr th {\n",
       "        vertical-align: top;\n",
       "    }\n",
       "\n",
       "    .dataframe thead th {\n",
       "        text-align: right;\n",
       "    }\n",
       "</style>\n",
       "<table border=\"1\" class=\"dataframe\">\n",
       "  <thead>\n",
       "    <tr style=\"text-align: right;\">\n",
       "      <th></th>\n",
       "      <th>ra</th>\n",
       "      <th>dec</th>\n",
       "      <th>idCatalog</th>\n",
       "    </tr>\n",
       "  </thead>\n",
       "  <tbody>\n",
       "    <tr>\n",
       "      <th>33</th>\n",
       "      <td>148.750042</td>\n",
       "      <td>-1.501389</td>\n",
       "      <td>1</td>\n",
       "    </tr>\n",
       "    <tr>\n",
       "      <th>143</th>\n",
       "      <td>148.750000</td>\n",
       "      <td>-1.501390</td>\n",
       "      <td>2</td>\n",
       "    </tr>\n",
       "  </tbody>\n",
       "</table>\n",
       "</div>"
      ],
      "text/plain": [
       "             ra       dec  idCatalog\n",
       "33   148.750042 -1.501389          1\n",
       "143  148.750000 -1.501390          2"
      ]
     },
     "execution_count": 22,
     "metadata": {},
     "output_type": "execute_result"
    }
   ],
   "source": [
    "system_na.loc[[33,143], : ]"
   ]
  },
  {
   "cell_type": "code",
   "execution_count": 9,
   "metadata": {},
   "outputs": [],
   "source": [
    "# comparing 'alternate names' with 'name'      partial merge?\n",
    "\n",
    "for index, row in cats.iterrows():\n",
    "    if type(row['Alternate Names']) == str:\n",
    "        row['Alternate Names'] = row['Alternate Names'].split(', ')  # list with alternate names\n",
    "        for i in row['Alternate Names']:\n",
    "            if index == i:\n",
    "                print('problem')\n"
   ]
  },
  {
   "cell_type": "code",
   "execution_count": 10,
   "metadata": {},
   "outputs": [
    {
     "data": {
      "text/html": [
       "<div>\n",
       "<style scoped>\n",
       "    .dataframe tbody tr th:only-of-type {\n",
       "        vertical-align: middle;\n",
       "    }\n",
       "\n",
       "    .dataframe tbody tr th {\n",
       "        vertical-align: top;\n",
       "    }\n",
       "\n",
       "    .dataframe thead th {\n",
       "        text-align: right;\n",
       "    }\n",
       "</style>\n",
       "<table border=\"1\" class=\"dataframe\">\n",
       "  <thead>\n",
       "    <tr style=\"text-align: right;\">\n",
       "      <th></th>\n",
       "      <th>ra</th>\n",
       "      <th>ra_err</th>\n",
       "      <th>dec</th>\n",
       "      <th>dec_err</th>\n",
       "      <th>description</th>\n",
       "    </tr>\n",
       "    <tr>\n",
       "      <th>lens_names</th>\n",
       "      <th></th>\n",
       "      <th></th>\n",
       "      <th></th>\n",
       "      <th></th>\n",
       "      <th></th>\n",
       "    </tr>\n",
       "  </thead>\n",
       "  <tbody>\n",
       "    <tr>\n",
       "      <th>HE0435-1223</th>\n",
       "      <td>4.63747</td>\n",
       "      <td>0.000</td>\n",
       "      <td>-12.2873</td>\n",
       "      <td>0.000</td>\n",
       "      <td>deflected</td>\n",
       "    </tr>\n",
       "    <tr>\n",
       "      <th>HE0435-1223</th>\n",
       "      <td>3.16147</td>\n",
       "      <td>0.003</td>\n",
       "      <td>-11.7343</td>\n",
       "      <td>0.003</td>\n",
       "      <td>deflected</td>\n",
       "    </tr>\n",
       "    <tr>\n",
       "      <th>HE0435-1223</th>\n",
       "      <td>2.17047</td>\n",
       "      <td>0.003</td>\n",
       "      <td>-12.8903</td>\n",
       "      <td>0.005</td>\n",
       "      <td>deflected</td>\n",
       "    </tr>\n",
       "    <tr>\n",
       "      <th>HE0435-1223</th>\n",
       "      <td>3.69847</td>\n",
       "      <td>0.003</td>\n",
       "      <td>-13.9013</td>\n",
       "      <td>0.003</td>\n",
       "      <td>deflected</td>\n",
       "    </tr>\n",
       "    <tr>\n",
       "      <th>HE0435-1223</th>\n",
       "      <td>3.47247</td>\n",
       "      <td>0.003</td>\n",
       "      <td>-12.8603</td>\n",
       "      <td>0.003</td>\n",
       "      <td>galaxy</td>\n",
       "    </tr>\n",
       "  </tbody>\n",
       "</table>\n",
       "</div>"
      ],
      "text/plain": [
       "                  ra  ra_err      dec  dec_err description\n",
       "lens_names                                                \n",
       "HE0435-1223  4.63747   0.000 -12.2873    0.000   deflected\n",
       "HE0435-1223  3.16147   0.003 -11.7343    0.003   deflected\n",
       "HE0435-1223  2.17047   0.003 -12.8903    0.005   deflected\n",
       "HE0435-1223  3.69847   0.003 -13.9013    0.003   deflected\n",
       "HE0435-1223  3.47247   0.003 -12.8603    0.003      galaxy"
      ]
     },
     "execution_count": 10,
     "metadata": {},
     "output_type": "execute_result"
    }
   ],
   "source": [
    "# Scraping Joao\n",
    "# lens objects  -  227\n",
    "castles2 = pd.read_csv('CastelLensData.csv')\n",
    "castles2 = castles2.set_index('lens_names')\n",
    "\n",
    "HE_c = castles2.loc[ 'HE0435-1223' , : ]\n",
    "HE_c"
   ]
  },
  {
   "cell_type": "code",
   "execution_count": 11,
   "metadata": {},
   "outputs": [
    {
     "data": {
      "text/html": [
       "<div>\n",
       "<style scoped>\n",
       "    .dataframe tbody tr th:only-of-type {\n",
       "        vertical-align: middle;\n",
       "    }\n",
       "\n",
       "    .dataframe tbody tr th {\n",
       "        vertical-align: top;\n",
       "    }\n",
       "\n",
       "    .dataframe thead th {\n",
       "        text-align: right;\n",
       "    }\n",
       "</style>\n",
       "<table border=\"1\" class=\"dataframe\">\n",
       "  <thead>\n",
       "    <tr style=\"text-align: right;\">\n",
       "      <th></th>\n",
       "      <th>Description</th>\n",
       "      <th>Mag</th>\n",
       "      <th>No.</th>\n",
       "      <th>z</th>\n",
       "    </tr>\n",
       "  </thead>\n",
       "  <tbody>\n",
       "    <tr>\n",
       "      <th>0</th>\n",
       "      <td>Lens</td>\n",
       "      <td>NaN</td>\n",
       "      <td>1</td>\n",
       "      <td>0.460</td>\n",
       "    </tr>\n",
       "    <tr>\n",
       "      <th>1</th>\n",
       "      <td>Source</td>\n",
       "      <td>18.3</td>\n",
       "      <td>1</td>\n",
       "      <td>1.689</td>\n",
       "    </tr>\n",
       "    <tr>\n",
       "      <th>2</th>\n",
       "      <td>Source</td>\n",
       "      <td>18.2</td>\n",
       "      <td>2</td>\n",
       "      <td>1.689</td>\n",
       "    </tr>\n",
       "    <tr>\n",
       "      <th>3</th>\n",
       "      <td>Source</td>\n",
       "      <td>18.2</td>\n",
       "      <td>3</td>\n",
       "      <td>1.689</td>\n",
       "    </tr>\n",
       "    <tr>\n",
       "      <th>4</th>\n",
       "      <td>Source</td>\n",
       "      <td>18.8</td>\n",
       "      <td>4</td>\n",
       "      <td>1.689</td>\n",
       "    </tr>\n",
       "  </tbody>\n",
       "</table>\n",
       "</div>"
      ],
      "text/plain": [
       "  Description   Mag  No.      z\n",
       "0        Lens   NaN    1  0.460\n",
       "1      Source  18.3    1  1.689\n",
       "2      Source  18.2    2  1.689\n",
       "3      Source  18.2    3  1.689\n",
       "4      Source  18.8    4  1.689"
      ]
     },
     "execution_count": 11,
     "metadata": {},
     "output_type": "execute_result"
    }
   ],
   "source": [
    "# Object table\n",
    "HE_ml = pd.read_csv('Scraping/results/redshift_28.csv')\n",
    "HE_ml.drop('Unnamed: 1', axis=1, inplace=True)\n",
    "HE_ml.rename(columns={\"Unnamed: 0\": \"Description\"})"
   ]
  },
  {
   "cell_type": "code",
   "execution_count": null,
   "metadata": {},
   "outputs": [],
   "source": []
  }
 ],
 "metadata": {
  "kernelspec": {
   "display_name": "Python 3",
   "language": "python",
   "name": "python3"
  },
  "language_info": {
   "codemirror_mode": {
    "name": "ipython",
    "version": 3
   },
   "file_extension": ".py",
   "mimetype": "text/x-python",
   "name": "python",
   "nbconvert_exporter": "python",
   "pygments_lexer": "ipython3",
   "version": "3.6.8"
  }
 },
 "nbformat": 4,
 "nbformat_minor": 2
}
