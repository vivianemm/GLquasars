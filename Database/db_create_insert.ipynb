{
 "cells": [
  {
   "cell_type": "code",
   "execution_count": 85,
   "metadata": {},
   "outputs": [],
   "source": [
    "import sqlite3\n",
    "import pandas as pd\n",
    "import os\n",
    "\n",
    "# use data after merge !!!!"
   ]
  },
  {
   "cell_type": "code",
   "execution_count": 77,
   "metadata": {},
   "outputs": [],
   "source": [
    "# conectando...\n",
    "conn = sqlite3.connect('GL3.db')\n",
    "# definindo um cursor\n",
    "cursor = conn.cursor()"
   ]
  },
  {
   "cell_type": "code",
   "execution_count": 86,
   "metadata": {},
   "outputs": [
    {
     "ename": "OperationalError",
     "evalue": "near \"(\": syntax error",
     "output_type": "error",
     "traceback": [
      "\u001b[0;31m---------------------------------------------------------------------------\u001b[0m",
      "\u001b[0;31mOperationalError\u001b[0m                          Traceback (most recent call last)",
      "\u001b[0;32m<ipython-input-86-4b37cc54584c>\u001b[0m in \u001b[0;36m<module>\u001b[0;34m\u001b[0m\n\u001b[1;32m     13\u001b[0m \u001b[0mStellar_v_disp\u001b[0m \u001b[0mFLOAT\u001b[0m\u001b[0;34m,\u001b[0m \u001b[0mStellar_v_disp_err\u001b[0m \u001b[0mFLOAT\u001b[0m\u001b[0;34m,\u001b[0m \u001b[0mms_\u001b[0m\u001b[0;34m(\u001b[0m\u001b[0mmag\u001b[0m\u001b[0;34m)\u001b[0m \u001b[0mFLOAT\u001b[0m\u001b[0;34m,\u001b[0m \u001b[0mml_\u001b[0m\u001b[0;34m(\u001b[0m\u001b[0mmag\u001b[0m\u001b[0;34m)\u001b[0m \u001b[0mFLOAT\u001b[0m\u001b[0;34m,\u001b[0m \u001b[0mN_images_castles\u001b[0m \u001b[0mINT\u001b[0m\u001b[0;34m,\u001b[0m\u001b[0;34m\u001b[0m\u001b[0;34m\u001b[0m\u001b[0m\n\u001b[1;32m     14\u001b[0m size(arcsec) FLOAT);\n\u001b[0;32m---> 15\u001b[0;31m \"\"\")\n\u001b[0m",
      "\u001b[0;31mOperationalError\u001b[0m: near \"(\": syntax error"
     ]
    }
   ],
   "source": [
    "# Creating database tables and insertind the dataa\n",
    "\n",
    "# id, castles name, ml name, castles ra dec, ml ra dec, E(B-V),ms (mag),ml (mag),FGHz (mJy),Nim,size\n",
    "# \n",
    "#ra_c,dec_c,Lens Name _c,zs,zl,RA (J2000),Dec (J2000),E(B-V),ms (mag),ml (mag),FGHz (mJy),Nim,size (),\n",
    "#dt (days),sigma (km/s),id_c,Name,Discovery,Discovery Date,Lens Kind,Lens Grade,Description,N Images,\n",
    "#Einstein_R,Einstein_R quality,Stellar_v_disp,Stellar_v_disp_err,Ra(deg)_ml,Dec(deg)_ml,\n",
    "#Alternate Names,id_ml,isReal,Target\n",
    "cursor.execute(\"\"\"\n",
    "CREATE TABLE systems (id INT PRIMARY KEY, Name VARCHAR(200), discovery_date DATE, Discovery VARCHAR(200),\n",
    "Kind VARCHAR(200), Grade VARCHAR(200), Description VARCHAR(200), N_images_ml INT,ra_ml FLOAT,\n",
    "ra_castles FLOAT, dec_castles FLOAT, Einstein_R FLOAT, Einstein_R_quality VARCHAR(200), FGHz (mJy) FLOAT,\n",
    "Stellar_v_disp FLOAT, Stellar_v_disp_err FLOAT, ms_(mag) FLOAT, ml_(mag) FLOAT, N_images_castles INT,\n",
    "size(arcsec) FLOAT);\n",
    "\"\"\")"
   ]
  },
  {
   "cell_type": "code",
   "execution_count": 78,
   "metadata": {},
   "outputs": [
    {
     "data": {
      "text/plain": [
       "<sqlite3.Cursor at 0x7f7fd924be30>"
      ]
     },
     "execution_count": 78,
     "metadata": {},
     "output_type": "execute_result"
    }
   ],
   "source": [
    "# images\n",
    "\n",
    "cursor.execute(\"\"\"\n",
    "CREATE TABLE images ( id INT PRIMARY KEY, filter VARCHAR(200), image_path VARCHAR(200));\n",
    "\"\"\")\n",
    "\n",
    "cursor.execute(\"\"\"\n",
    "CREATE TABLE image_system ( id_image INT, id_system INT, CONSTRAINT fk_image FOREIGN KEY (id_image) \n",
    "REFERENCES images(id), CONSTRAINT fk_system FOREIGN KEY (id_system) REFERENCES systems(id));\n",
    "\"\"\")\n"
   ]
  },
  {
   "cell_type": "code",
   "execution_count": 79,
   "metadata": {},
   "outputs": [
    {
     "data": {
      "text/plain": [
       "<sqlite3.Cursor at 0x7f7fd924be30>"
      ]
     },
     "execution_count": 79,
     "metadata": {},
     "output_type": "execute_result"
    }
   ],
   "source": [
    "# references\n",
    "\n",
    "cursor.execute(\"\"\"\n",
    "CREATE TABLE referencs ( id_ref INT PRIMARY KEY, title VARCHAR(200), author VARCHAR(200), link VARCHAR(200), \n",
    "discovery VARCHAR(200));\n",
    "\"\"\")"
   ]
  },
  {
   "cell_type": "code",
   "execution_count": 80,
   "metadata": {},
   "outputs": [
    {
     "ename": "OperationalError",
     "evalue": "near \"references\": syntax error",
     "output_type": "error",
     "traceback": [
      "\u001b[0;31m---------------------------------------------------------------------------\u001b[0m",
      "\u001b[0;31mOperationalError\u001b[0m                          Traceback (most recent call last)",
      "\u001b[0;32m<ipython-input-80-f31b761f817b>\u001b[0m in \u001b[0;36m<module>\u001b[0;34m\u001b[0m\n\u001b[1;32m      2\u001b[0m CREATE TABLE system_reference ( id_reference INT, id_system INT, CONSTRAINT fk_reference FOREIGN KEY (id_reference) \n\u001b[1;32m      3\u001b[0m REFERENCES references(id), CONSTRAINT fk_system FOREIGN KEY (id_system) REFERENCES systems(id));\n\u001b[0;32m----> 4\u001b[0;31m \"\"\")\n\u001b[0m",
      "\u001b[0;31mOperationalError\u001b[0m: near \"references\": syntax error"
     ]
    }
   ],
   "source": [
    "cursor.execute(\"\"\"\n",
    "CREATE TABLE system_reference ( id_reference INT, id_system INT, CONSTRAINT fk_reference FOREIGN KEY (id_reference) \n",
    "REFERENCES references(id), CONSTRAINT fk_system FOREIGN KEY (id_system) REFERENCES systems(id));\n",
    "\"\"\")"
   ]
  },
  {
   "cell_type": "code",
   "execution_count": 81,
   "metadata": {},
   "outputs": [
    {
     "data": {
      "text/plain": [
       "<sqlite3.Cursor at 0x7f7fd924be30>"
      ]
     },
     "execution_count": 81,
     "metadata": {},
     "output_type": "execute_result"
    }
   ],
   "source": [
    "# External links\n",
    "\n",
    "cursor.execute(\"\"\"\n",
    "CREATE TABLE ls ( id INT PRIMARY KEY, database VARCHAR(200), links VARCHAR(200));\n",
    "\"\"\")\n",
    "\n",
    "cursor.execute(\"\"\"\n",
    "CREATE TABLE link_system ( id_link INT, id_system INT, CONSTRAINT fk_link FOREIGN KEY (id_link) \n",
    "REFERENCES links(id), CONSTRAINT fk_system FOREIGN KEY (id_system) REFERENCES systems(id));\n",
    "\"\"\")"
   ]
  },
  {
   "cell_type": "code",
   "execution_count": 82,
   "metadata": {},
   "outputs": [],
   "source": [
    "# inserting data into tables 'links' and 'system_link' \n",
    "\n",
    "external = pd.read_csv('Scraping/ml_exlinks.csv')\n",
    "\n",
    "\n",
    "links = external[['id_system', 'database', 'links']]\n",
    "links.to_sql('links', conn, if_exists='replace', index = False)\n",
    "\n",
    "system_links = external[['id_system', 'id_link']]\n",
    "system_links.to_sql('system_link', conn, if_exists='replace', index = False)"
   ]
  },
  {
   "cell_type": "code",
   "execution_count": 83,
   "metadata": {},
   "outputs": [],
   "source": [
    "# inserting data into tables 'references' and 'system_reference'\n",
    "# Scrape castles references !!!!\n",
    "\n",
    "refs = pd.read_csv('Scraping/ml_references.csv')\n",
    "\n",
    "\n",
    "references = refs[['author', 'title', 'discovery', 'link', 'id_ref']]\n",
    "references.to_sql('references', conn, if_exists='replace', index = False)\n",
    "\n",
    "system_reference = refs[['id_system', 'id_ref']]\n",
    "system_reference.to_sql('system_reference', conn, if_exists='replace', index = False)\n"
   ]
  },
  {
   "cell_type": "code",
   "execution_count": null,
   "metadata": {},
   "outputs": [],
   "source": [
    "# inserting data into tables 'images' and 'system_image' \n",
    "\n",
    "imgs_ml = pd.read_csv('Scraping/ml_images.csv')\n",
    "imgs_c = pd.read_csv('Scraping/castles_images.csv')\n",
    "\n",
    "links = external[['id_system', 'database', 'links']]\n",
    "links.to_sql('links', conn, if_exists='replace', index = False)\n",
    "\n",
    "system_links = external[['id_system', 'id_link']]\n",
    "system_links.to_sql('system_link', conn, if_exists='replace', index = False)"
   ]
  },
  {
   "cell_type": "code",
   "execution_count": 84,
   "metadata": {},
   "outputs": [
    {
     "ename": "OperationalError",
     "evalue": "near \"references\": syntax error",
     "output_type": "error",
     "traceback": [
      "\u001b[0;31m---------------------------------------------------------------------------\u001b[0m",
      "\u001b[0;31mOperationalError\u001b[0m                          Traceback (most recent call last)",
      "\u001b[0;32m<ipython-input-84-66a5596b1043>\u001b[0m in \u001b[0;36m<module>\u001b[0;34m\u001b[0m\n\u001b[1;32m      2\u001b[0m cursor.execute('''  \n\u001b[1;32m      3\u001b[0m \u001b[0mSELECT\u001b[0m \u001b[0;34m*\u001b[0m \u001b[0mFROM\u001b[0m \u001b[0mreferences\u001b[0m\u001b[0;34m\u001b[0m\u001b[0;34m\u001b[0m\u001b[0m\n\u001b[0;32m----> 4\u001b[0;31m           ''')\n\u001b[0m\u001b[1;32m      5\u001b[0m \u001b[0;34m\u001b[0m\u001b[0m\n\u001b[1;32m      6\u001b[0m \u001b[0;32mfor\u001b[0m \u001b[0mrow\u001b[0m \u001b[0;32min\u001b[0m \u001b[0mcursor\u001b[0m\u001b[0;34m.\u001b[0m\u001b[0mfetchall\u001b[0m\u001b[0;34m(\u001b[0m\u001b[0;34m)\u001b[0m\u001b[0;34m:\u001b[0m\u001b[0;34m\u001b[0m\u001b[0;34m\u001b[0m\u001b[0m\n",
      "\u001b[0;31mOperationalError\u001b[0m: near \"references\": syntax error"
     ]
    }
   ],
   "source": [
    "# check order of columns\n",
    "cursor.execute('''  \n",
    "SELECT * FROM references\n",
    "          ''')\n",
    "\n",
    "for row in cursor.fetchall():\n",
    "    print (row)"
   ]
  },
  {
   "cell_type": "code",
   "execution_count": 88,
   "metadata": {},
   "outputs": [
    {
     "data": {
      "text/html": [
       "<div>\n",
       "<style scoped>\n",
       "    .dataframe tbody tr th:only-of-type {\n",
       "        vertical-align: middle;\n",
       "    }\n",
       "\n",
       "    .dataframe tbody tr th {\n",
       "        vertical-align: top;\n",
       "    }\n",
       "\n",
       "    .dataframe thead th {\n",
       "        text-align: right;\n",
       "    }\n",
       "</style>\n",
       "<table border=\"1\" class=\"dataframe\">\n",
       "  <thead>\n",
       "    <tr style=\"text-align: right;\">\n",
       "      <th></th>\n",
       "      <th>Lens Name</th>\n",
       "      <th>zs</th>\n",
       "      <th>zl</th>\n",
       "      <th>RA (J2000)</th>\n",
       "      <th>Dec (J2000)</th>\n",
       "      <th>E(B-V)</th>\n",
       "      <th>ms (mag)</th>\n",
       "      <th>ml (mag)</th>\n",
       "      <th>FGHz (mJy)</th>\n",
       "      <th>Nim</th>\n",
       "      <th>size (\")</th>\n",
       "      <th>dt (days)</th>\n",
       "      <th>sigma (km/s)</th>\n",
       "    </tr>\n",
       "  </thead>\n",
       "  <tbody>\n",
       "    <tr>\n",
       "      <th>0</th>\n",
       "      <td>Q0047-2808</td>\n",
       "      <td>3.60</td>\n",
       "      <td>0.48</td>\n",
       "      <td>00:49:41.89</td>\n",
       "      <td>-27:52:25.7</td>\n",
       "      <td>0.016</td>\n",
       "      <td>NaN</td>\n",
       "      <td>I=20.05</td>\n",
       "      <td>NaN</td>\n",
       "      <td>4ER</td>\n",
       "      <td>2.70</td>\n",
       "      <td>NaN</td>\n",
       "      <td>229±15</td>\n",
       "    </tr>\n",
       "    <tr>\n",
       "      <th>1</th>\n",
       "      <td>HE0047-1756</td>\n",
       "      <td>1.66</td>\n",
       "      <td>0.41</td>\n",
       "      <td>00:50:27.83</td>\n",
       "      <td>-17:40:8.8</td>\n",
       "      <td>0.022</td>\n",
       "      <td>I=16.53/2</td>\n",
       "      <td>I=18.97</td>\n",
       "      <td>NaN</td>\n",
       "      <td>2</td>\n",
       "      <td>1.44</td>\n",
       "      <td>NaN</td>\n",
       "      <td>NaN</td>\n",
       "    </tr>\n",
       "    <tr>\n",
       "      <th>2</th>\n",
       "      <td>HST01247+0352</td>\n",
       "      <td>NaN</td>\n",
       "      <td>NaN</td>\n",
       "      <td>01:24:44.4</td>\n",
       "      <td>+03:52:00</td>\n",
       "      <td>0.029</td>\n",
       "      <td>I=24.13/2</td>\n",
       "      <td>I=21.86</td>\n",
       "      <td>NaN</td>\n",
       "      <td>2</td>\n",
       "      <td>2.20</td>\n",
       "      <td>NaN</td>\n",
       "      <td>NaN</td>\n",
       "    </tr>\n",
       "    <tr>\n",
       "      <th>3</th>\n",
       "      <td>HST01248+0351</td>\n",
       "      <td>NaN</td>\n",
       "      <td>NaN</td>\n",
       "      <td>01:24:45.6</td>\n",
       "      <td>+03:51:06</td>\n",
       "      <td>0.029</td>\n",
       "      <td>NaN</td>\n",
       "      <td>NaN</td>\n",
       "      <td>NaN</td>\n",
       "      <td>2</td>\n",
       "      <td>0.74</td>\n",
       "      <td>NaN</td>\n",
       "      <td>NaN</td>\n",
       "    </tr>\n",
       "    <tr>\n",
       "      <th>4</th>\n",
       "      <td>B0128+437</td>\n",
       "      <td>3.124</td>\n",
       "      <td>NaN</td>\n",
       "      <td>01:31:13.405</td>\n",
       "      <td>+43:58:13.14</td>\n",
       "      <td>0.082</td>\n",
       "      <td>NaN</td>\n",
       "      <td>NaN</td>\n",
       "      <td>F5=48</td>\n",
       "      <td>4</td>\n",
       "      <td>0.55</td>\n",
       "      <td>NaN</td>\n",
       "      <td>NaN</td>\n",
       "    </tr>\n",
       "    <tr>\n",
       "      <th>...</th>\n",
       "      <td>...</td>\n",
       "      <td>...</td>\n",
       "      <td>...</td>\n",
       "      <td>...</td>\n",
       "      <td>...</td>\n",
       "      <td>...</td>\n",
       "      <td>...</td>\n",
       "      <td>...</td>\n",
       "      <td>...</td>\n",
       "      <td>...</td>\n",
       "      <td>...</td>\n",
       "      <td>...</td>\n",
       "      <td>...</td>\n",
       "    </tr>\n",
       "    <tr>\n",
       "      <th>95</th>\n",
       "      <td>CY2201-3201</td>\n",
       "      <td>3.9</td>\n",
       "      <td>0.32</td>\n",
       "      <td>22:01:32.8</td>\n",
       "      <td>-32:01:44.0</td>\n",
       "      <td>0.028</td>\n",
       "      <td>NaN</td>\n",
       "      <td>NaN</td>\n",
       "      <td>NaN</td>\n",
       "      <td>2</td>\n",
       "      <td>0.83</td>\n",
       "      <td>NaN</td>\n",
       "      <td>130±20</td>\n",
       "    </tr>\n",
       "    <tr>\n",
       "      <th>96</th>\n",
       "      <td>HDFS2232509-603243</td>\n",
       "      <td>NaN</td>\n",
       "      <td>NaN</td>\n",
       "      <td>22:32:50.9</td>\n",
       "      <td>-60:32:43.0</td>\n",
       "      <td>0.028</td>\n",
       "      <td>NaN</td>\n",
       "      <td>NaN</td>\n",
       "      <td>NaN</td>\n",
       "      <td>4?E</td>\n",
       "      <td>0.90</td>\n",
       "      <td>NaN</td>\n",
       "      <td>NaN</td>\n",
       "    </tr>\n",
       "    <tr>\n",
       "      <th>97</th>\n",
       "      <td>Q2237+030</td>\n",
       "      <td>1.69</td>\n",
       "      <td>0.04</td>\n",
       "      <td>22:40:30.34</td>\n",
       "      <td>+03:21:28.8</td>\n",
       "      <td>0.071</td>\n",
       "      <td>I=15.16/4</td>\n",
       "      <td>I=14.15</td>\n",
       "      <td>F5=0.336</td>\n",
       "      <td>4</td>\n",
       "      <td>1.78</td>\n",
       "      <td>NaN</td>\n",
       "      <td>215±30</td>\n",
       "    </tr>\n",
       "    <tr>\n",
       "      <th>98</th>\n",
       "      <td>B2319+052</td>\n",
       "      <td>NaN</td>\n",
       "      <td>0.62</td>\n",
       "      <td>23:21:40.8</td>\n",
       "      <td>+05:27:36.4</td>\n",
       "      <td>0.064</td>\n",
       "      <td>NaN</td>\n",
       "      <td>I=20.71</td>\n",
       "      <td>F5=32</td>\n",
       "      <td>2</td>\n",
       "      <td>1.36</td>\n",
       "      <td>NaN</td>\n",
       "      <td>NaN</td>\n",
       "    </tr>\n",
       "    <tr>\n",
       "      <th>99</th>\n",
       "      <td>PSS2322+1944</td>\n",
       "      <td>4.12</td>\n",
       "      <td>NaN</td>\n",
       "      <td>23:22:07.2</td>\n",
       "      <td>+19:44:23</td>\n",
       "      <td>0.044</td>\n",
       "      <td>I=17.92/2</td>\n",
       "      <td>I=21.91</td>\n",
       "      <td>NaN</td>\n",
       "      <td>2</td>\n",
       "      <td>1.49</td>\n",
       "      <td>NaN</td>\n",
       "      <td>NaN</td>\n",
       "    </tr>\n",
       "  </tbody>\n",
       "</table>\n",
       "<p>100 rows × 13 columns</p>\n",
       "</div>"
      ],
      "text/plain": [
       "             Lens Name     zs    zl    RA (J2000)   Dec (J2000)  E(B-V)  \\\n",
       "0           Q0047-2808   3.60  0.48   00:49:41.89   -27:52:25.7   0.016   \n",
       "1          HE0047-1756   1.66  0.41   00:50:27.83    -17:40:8.8   0.022   \n",
       "2        HST01247+0352    NaN   NaN    01:24:44.4     +03:52:00   0.029   \n",
       "3        HST01248+0351    NaN   NaN    01:24:45.6     +03:51:06   0.029   \n",
       "4            B0128+437  3.124   NaN  01:31:13.405  +43:58:13.14   0.082   \n",
       "..                 ...    ...   ...           ...           ...     ...   \n",
       "95         CY2201-3201    3.9  0.32    22:01:32.8   -32:01:44.0   0.028   \n",
       "96  HDFS2232509-603243    NaN   NaN    22:32:50.9   -60:32:43.0   0.028   \n",
       "97           Q2237+030   1.69  0.04   22:40:30.34   +03:21:28.8   0.071   \n",
       "98           B2319+052    NaN  0.62    23:21:40.8   +05:27:36.4   0.064   \n",
       "99        PSS2322+1944   4.12   NaN    23:22:07.2     +19:44:23   0.044   \n",
       "\n",
       "     ms (mag) ml (mag) FGHz (mJy)  Nim  size (\") dt (days) sigma (km/s)  \n",
       "0         NaN  I=20.05        NaN  4ER      2.70       NaN       229±15  \n",
       "1   I=16.53/2  I=18.97        NaN    2      1.44       NaN          NaN  \n",
       "2   I=24.13/2  I=21.86        NaN    2      2.20       NaN          NaN  \n",
       "3         NaN      NaN        NaN    2      0.74       NaN          NaN  \n",
       "4         NaN      NaN      F5=48    4      0.55       NaN          NaN  \n",
       "..        ...      ...        ...  ...       ...       ...          ...  \n",
       "95        NaN      NaN        NaN    2      0.83       NaN       130±20  \n",
       "96        NaN      NaN        NaN  4?E      0.90       NaN          NaN  \n",
       "97  I=15.16/4  I=14.15   F5=0.336    4      1.78       NaN       215±30  \n",
       "98        NaN  I=20.71      F5=32    2      1.36       NaN          NaN  \n",
       "99  I=17.92/2  I=21.91        NaN    2      1.49       NaN          NaN  \n",
       "\n",
       "[100 rows x 13 columns]"
      ]
     },
     "execution_count": 88,
     "metadata": {},
     "output_type": "execute_result"
    }
   ],
   "source": [
    "pd.read_csv('Scraping/castles.csv')"
   ]
  },
  {
   "cell_type": "code",
   "execution_count": null,
   "metadata": {},
   "outputs": [],
   "source": []
  }
 ],
 "metadata": {
  "kernelspec": {
   "display_name": "Python 3",
   "language": "python",
   "name": "python3"
  },
  "language_info": {
   "codemirror_mode": {
    "name": "ipython",
    "version": 3
   },
   "file_extension": ".py",
   "mimetype": "text/x-python",
   "name": "python",
   "nbconvert_exporter": "python",
   "pygments_lexer": "ipython3",
   "version": "3.7.5"
  }
 },
 "nbformat": 4,
 "nbformat_minor": 2
}
