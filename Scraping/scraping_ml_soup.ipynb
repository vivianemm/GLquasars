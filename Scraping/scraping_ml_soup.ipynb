{
 "cells": [
  {
   "cell_type": "code",
   "execution_count": 1,
   "metadata": {},
   "outputs": [],
   "source": [
    "from bs4 import BeautifulSoup\n",
    "import requests\n",
    "import shutil\n",
    "import re\n",
    "from collections import defaultdict\n",
    "import pandas as pd"
   ]
  },
  {
   "cell_type": "markdown",
   "metadata": {},
   "source": [
    "### Defining functions"
   ]
  },
  {
   "cell_type": "code",
   "execution_count": 2,
   "metadata": {},
   "outputs": [],
   "source": [
    "def retrive_data(driver):\n",
    "    return BeautifulSoup(driver.page_source, 'lxml')"
   ]
  },
  {
   "cell_type": "code",
   "execution_count": 3,
   "metadata": {},
   "outputs": [],
   "source": [
    "def get_links(soup, url=\"\"):\n",
    "    href_list = []\n",
    "    \n",
    "    if isinstance(soup, list):\n",
    "        for row in soup:\n",
    "            href = row.find('a')['href']\n",
    "            href_list.append(url + href)\n",
    "    else:\n",
    "        href_tags = soup.find_all(\"a\")\n",
    "        for tag in href_tags:\n",
    "            href = tag.get('href')\n",
    "            href_list.append(url + href)\n",
    "    return href_list"
   ]
  },
  {
   "cell_type": "code",
   "execution_count": 4,
   "metadata": {},
   "outputs": [],
   "source": [
    "def get_image(soup, url, dir_path):\n",
    "    \n",
    "    image_list = []\n",
    "    # Find all image on html code\n",
    "    if isinstance(soup, list):\n",
    "        for row in soup:\n",
    "            image_url = row.find('img')\n",
    "            image_list.append(image_url['src'])\n",
    "    else:\n",
    "        images_tags = soup.find_all(\"img\")\n",
    "        for image in images_tags:\n",
    "            image_url = image['src']\n",
    "            image_list.append(image_url)\n",
    "    \n",
    "    # Iter over each one\n",
    "    for image in image_list:\n",
    "        \n",
    "        link = url + image\n",
    "        \n",
    "        # Download file\n",
    "        filename = image.split('/')[-1]\n",
    "        r = requests.get(link, stream=True)\n",
    "        if r.status_code == 200:\n",
    "            r.raw.decode_content = True\n",
    "            with open(dir_path + filename, \"wb\") as f:\n",
    "                shutil.copyfileobj(r.raw, f)\n",
    "                print(\"[*] Downloaded Image: %s\" % filename)\n",
    "        else:\n",
    "            print(\"[*] ERROR - Download Image: %s\" % link)\n",
    "    return 0"
   ]
  },
  {
   "cell_type": "code",
   "execution_count": 45,
   "metadata": {},
   "outputs": [],
   "source": [
    "def get_tables(soup, text=False):\n",
    "    table_dict_list = []\n",
    "    \n",
    "    tables = soup.find_all('table')\n",
    "    \n",
    "    for table in tables:\n",
    "        table_dict = defaultdict(list)\n",
    "        \n",
    "        \n",
    "        headers = [header.get_text() for header in table.find_all('th')]\n",
    "        \n",
    "        if len(headers) == 0:\n",
    "            pass\n",
    "        else:\n",
    "            \n",
    "            if text:\n",
    "                rows = [[data.get_text() for data in col.find_all('td')] for col in table.find_all('tr')]\n",
    "            else:\n",
    "                rows = [[data for data in col.find_all('td')] for col in table.find_all('tr')]\n",
    "\n",
    "            for row in rows:\n",
    "                columns_id = 0\n",
    "                for data in row:\n",
    "                    column_name = headers[columns_id]\n",
    "\n",
    "                    table_dict[column_name].append(data)\n",
    "                    columns_id += 1\n",
    "\n",
    "            table_dict_list.append(table_dict)\n",
    "        \n",
    "    return table_dict_list"
   ]
  },
  {
   "cell_type": "code",
   "execution_count": 6,
   "metadata": {},
   "outputs": [],
   "source": [
    "def get_rows_names(soup):\n",
    "    names_list = []\n",
    "    \n",
    "    if isinstance(soup, list):\n",
    "        for row in soup:\n",
    "            value = row.string\n",
    "            names_list.append(value)\n",
    "    else:\n",
    "        names_tags = soup.find_all(\"td\")\n",
    "        for tag in names_tags:\n",
    "            value = tag.string\n",
    "            names_list.append(value)\n",
    "    return names_list"
   ]
  },
  {
   "cell_type": "code",
   "execution_count": 7,
   "metadata": {},
   "outputs": [],
   "source": [
    "def filter_column(table, column_name):\n",
    "    if column_name in table:\n",
    "        return table[column_name]\n",
    "    return None"
   ]
  },
  {
   "cell_type": "code",
   "execution_count": 8,
   "metadata": {},
   "outputs": [],
   "source": [
    "def create_dataframe(table):\n",
    "    return pd.DataFrame.from_dict(table)"
   ]
  },
  {
   "cell_type": "code",
   "execution_count": 9,
   "metadata": {},
   "outputs": [],
   "source": [
    "def select_column(df, column_names):\n",
    "    if all(col in df for col in column_names):\n",
    "        return df[column_names]\n",
    "    return None"
   ]
  },
  {
   "cell_type": "code",
   "execution_count": 10,
   "metadata": {},
   "outputs": [],
   "source": [
    "def rename_column(df, column_names, new_column_names):\n",
    "    if len(column_names) != len(new_column_names):\n",
    "        return None\n",
    "    \n",
    "    if all(col in df for col in column_names):\n",
    "        columns_dict = dict()\n",
    "        for i in range(len(column_names)):\n",
    "            columns_dict[column_names[i]] = new_column_names[i]\n",
    "\n",
    "        return df.rename(columns=columns_dict)\n",
    "    \n",
    "    return None"
   ]
  },
  {
   "cell_type": "markdown",
   "metadata": {},
   "source": [
    "### Main code"
   ]
  },
  {
   "cell_type": "code",
   "execution_count": 14,
   "metadata": {},
   "outputs": [],
   "source": [
    "filename = \"/home/viviane/GravLens/Scraping/masterlens/masterlens_1.html\"\n",
    "\n",
    "soup = BeautifulSoup(open(filename), \"lxml\")"
   ]
  },
  {
   "cell_type": "code",
   "execution_count": 17,
   "metadata": {},
   "outputs": [
    {
     "data": {
      "text/plain": [
       "<div id=\"lensWrapper\"><!-- begin header -->\n",
       "<div id=\"header\"><a class=\"header\"></a><table border=\"0\" cellpadding=\"0\" cellspacing=\"0\"><tbody><tr height=\"50px\"><td></td></tr><tr><td><a href=\"http://admin.masterlens.org/\">The Master Lens Database</a></td></tr><tr><td><a href=\"http://admin.masterlens.org/\">and The Orphan Lenses Project</a></td></tr></tbody></table></div>\n",
       "<!-- end header --><!-- begin innerWrapper --><div id=\"wideWrapper\"><!-- begin content -->\n",
       "<div class=\"column\" id=\"content\" style=\"height: 1917px;\">\n",
       "<div>\n",
       "<!-- begin main -->\n",
       "<div id=\"main\">\n",
       "<form action=\"./export.php?\" method=\"POST\" name=\"lens\" target=\"_blank\"><input name=\"inputaction\" type=\"hidden\" value=\"Search\"/><input name=\"mode\" type=\"hidden\" value=\"\"/><input name=\"special\" type=\"hidden\" value=\"\"/><input name=\"searchoption\" type=\"hidden\" value=\"basic\"/><input name=\"do\" type=\"hidden\" value=\"\"/><input name=\"hrefaction\" type=\"hidden\" value=\"\"/><input name=\"status\" type=\"hidden\" value=\"\"/><input name=\"substatus\" type=\"hidden\" value=\"\"/><input name=\"lenssort\" type=\"hidden\" value=\"0\"/><input name=\"lensID\" type=\"hidden\" value=\"22\"/><input name=\"referenceID\" type=\"hidden\" value=\"\"/><input name=\"displaypage\" type=\"hidden\" value=\"0\"/><input name=\"xml\" type=\"hidden\" value=\"\"/><div class=\"gallery expanded\"><h3><span>Search 675 Gravitational Lens Systems</span></h3><div class=\"gallery35\"><input class=\"button12\" name=\"action\" onclick=\"doSearch();\" type=\"submit\" value=\"Search\"/><input class=\"button12\" name=\"action\" onclick=\"doCancel();\" type=\"submit\" value=\"Cancel\"/><input class=\"button12\" name=\"action\" onclick='doExportSearch(\"22\",\"\");' type=\"submit\" value=\"Export Result\"/><input class=\"button12\" name=\"action\" onclick='doAdvancedSearch(\"22\",\"\",\"\",\"\");' type=\"submit\" value=\"Advanced Search\"/></div><div class=\"galleryitems\"><blockquote><table border=\"0\" cellpadding=\"4\" cellspacing=\"2\"><tbody><tr height=\"18px\"><td><select name=\"discoveryID\" onchange=\"doSearch();\"><option selected=\"selected\" value=\"0\">All Discovery Programs (*)</option><option value=\"2\">BELLS</option><option value=\"38\">BELLS GALLERY</option><option value=\"16\">CASSOWARY</option><option value=\"18\">CLASH</option><option value=\"7\">CLASS</option><option value=\"14\">CLASSextra</option><option value=\"8\">COSMOS</option><option value=\"34\">CS82</option><option value=\"11\">DES</option><option value=\"26\">EELs</option><option value=\"10\">EGS</option><option value=\"19\">GEMS</option><option value=\"25\">H-ATLAS</option><option value=\"32\">HE survey</option><option value=\"9\">JVAS</option><option value=\"31\">MACS Lenses</option><option value=\"28\">OLS</option><option value=\"12\">PanSTARRS</option><option value=\"22\">RCS2</option><option value=\"17\">SBAS</option><option value=\"20\">Serendipitous</option><option value=\"29\">SGAS</option><option value=\"13\">SL2S</option><option value=\"1\">SLACS</option><option value=\"4\">SLACSextra</option><option value=\"33\">SOGRAS</option><option value=\"36\">SPT</option><option value=\"5\">SQLS</option><option value=\"3\">SWELLS</option><option value=\"6\">UKIDSS</option><option value=\"35\">VICS82</option></select></td><td><select name=\"foregroundID\" onchange=\"doSearch();\"><option selected=\"selected\" value=\"0\">All Foregrounds (*)</option><option value=\"1\">Galaxy Lens</option><option value=\"2\">Quasar Lens</option><option value=\"3\">Group Lens</option><option value=\"4\">Cluster Lens</option><option value=\"5\">X-ray Cluster Lens</option><option value=\"6\">Unspecified Lens</option></select></td><td><select name=\"backgroundID\" onchange=\"doSearch();\"><option selected=\"selected\" value=\"0\">All Backgrounds (*)</option><option value=\"1\">Galaxy Source</option><option value=\"2\">Quasar Source</option><option value=\"3\">Unspecified Source</option></select></td><td><select name=\"lensgrade\" onchange=\"doSearch();\"><option selected=\"selected\" value=\"All Grades (*)\">All Grades (*)</option><option value=\"A\">Grade-A</option><option value=\"B\">Grade-B</option><option value=\"C\">Grade-C</option><option value=\"No Grade\">No Grade</option></select></td></tr></tbody></table><table border=\"0\" cellpadding=\"4\" cellspacing=\"2\"><tbody><tr height=\"18px\"><td>Show date</td><td><select name=\"date_option\" onchange=\"doSearch();\"><option selected=\"selected\" value=\"Discovered\">Discovered</option><option value=\"Modified\">Modified</option><option value=\"Added\">Added</option><option value=\"Vetted\">Vetted</option></select></td><td width=\"10px\"></td><td>Limit Search to:</td><td><select name=\"or_by\" onchange=\"doSearch();\"><option selected=\"selected\" value=\"modified_by\">Modified by</option><option value=\"created_by\">Added by</option><option value=\"vetted_by\">Vetted by</option><option value=\"released_by\">Released by</option><option value=\"hidden_by\">Hidden by</option><option value=\"adopted_by\">Adopted by</option></select></td><td><select name=\"by_member_name\" onchange=\"doSearch();\"><option selected=\"selected\" value=\"All Members (*)\">All Members (*)</option><option value=\"Adi Zitrin\">Adi Zitrin</option><option value=\"Alessandro Sonnenfeld\">Alessandro Sonnenfeld</option><option value=\"Anupreeta More\">Anupreeta More</option><option value=\"Ben Metcalf\">Ben Metcalf</option><option value=\"Cecile Faure\">Cecile Faure</option><option value=\"Dominique Sluse\">Dominique Sluse</option><option value=\"Hanno Rein\">Hanno Rein</option><option value=\"Joel Brownstein\">Joel Brownstein</option><option value=\"Jonathan Quinn\">Jonathan Quinn</option><option value=\"Kyle Leaf\">Kyle Leaf</option><option value=\"Kyle Stewart\">Kyle Stewart</option><option value=\"Leonidas Moustakas\">Leonidas Moustakas</option><option value=\"Masamune Oguri\">Masamune Oguri</option><option value=\"Michael Talbot\">Michael Talbot</option><option value=\"Neal Jackson\">Neal Jackson</option><option value=\"Raphael Gavazzi\">Raphael Gavazzi</option><option value=\"Rémi Cabanac\">Rémi Cabanac</option><option value=\"Terra Holayter\">Terra Holayter</option></select></td></tr></tbody></table><div class=\"top100\"><table border=\"0\" cellpadding=\"0\" cellspacing=\"1\"><tbody><tr><td class=\"notes\" width=\"190px\">Version: 2019-04-26 up to date</td></tr></tbody></table></div></blockquote></div></div><div class=\"gallery expanded\"><h5><span>Selected 1 Gravitational Lens System: SDSS J0008-0004</span></h5><!-- Message list with drag-able bottom --><div id=\"messages\"><div class=\"lens2\" id=\"message-listing\"><div class=\"right321\"><table border=\"0\" cellpadding=\"0\" cellspacing=\"0\" class=\"right321\"><tbody><tr><th>Number of Discovery Programs</th><td>1</td></tr></tbody></table></div><div class=\"right329\"><table border=\"0\" cellpadding=\"0\" cellspacing=\"0\" class=\"right329\"><tbody><tr><th>Discovery</th><td>SLACS</td></tr></tbody></table></div><div class=\"right331\"><table border=\"0\" cellpadding=\"0\" cellspacing=\"0\" class=\"right331\"><tbody><tr><th>Lens Kind</th><td>GAL-GAL</td></tr></tbody></table></div><div class=\"mid321\"><table border=\"0\" cellpadding=\"0\" cellspacing=\"0\" class=\"mid321\"><tbody><tr><th>Lens Grade</th><td>A</td></tr><tr><th>Einstein_R [\"]</th><td>1.16 ± 0.02</td></tr><tr><th>Einstein_R quality</th><td>SIE model</td></tr><tr><th>z_Lens</th><td>0.4400 ± 0.0001</td></tr><tr><th>z_Lens quality</th><td>spectroscopic</td></tr><tr><th>z_Source(s)</th><td>1.192 ± 0.001</td></tr><tr><th>z_Source quality</th><td>spectroscopic</td></tr><tr><th>Stellar velocity disp</th><td>232 ± 39</td></tr></tbody></table></div><div class=\"bottom314\"><table border=\"0\" cellpadding=\"0\" cellspacing=\"0\" class=\"bottom314\"><tbody><tr><th class=\"title\" colspan=\"2\">Status Report:</th><th class=\"amber\"></th><td>Needs TD Plot</td></tr></tbody></table></div><div class=\"bottom316\"><table border=\"0\" cellpadding=\"0\" cellspacing=\"0\" class=\"bottom316\"><tbody><tr><th class=\"title\" colspan=\"2\">External Links:</th></tr><tr><th>SDSS</th><td><a href=\"http://skyserver.sdss3.org/dr9/en/tools/chart/navi.asp?ra=2.01231&amp;dec=-0.06896\" target=\"_blank\">SDSS J0008-0004</a></td></tr><tr><th>ADS</th><td><a href=\"http://adsabs.harvard.edu/cgi-bin/nph-abs_connect?db_key=AST&amp;db_key=PRE&amp;qform=AST&amp;arxiv_sel=astro-ph&amp;arxiv_sel=gr-qc&amp;arxiv_sel=physics&amp;sim_query=YES&amp;ned_query=YES&amp;adsobj_query=YES&amp;aut_logic=OR&amp;obj_logic=OR&amp;author=&amp;start_mon=&amp;start_year=&amp;end_mon=&amp;end_year=&amp;ttl_logic=OR&amp;title=&amp;txt_logic=OR&amp;text=&amp;nr_to_return=200&amp;start_nr=1&amp;jou_pick=ALL&amp;ref_stems=&amp;data_and=ALL&amp;group_and=ALL&amp;start_entry_day=&amp;start_entry_mon=&amp;start_entry_year=&amp;end_entry_day=&amp;end_entry_mon=&amp;end_entry_year=&amp;min_score=&amp;sort=SCORE&amp;data_type=SHORT&amp;aut_syn=YES&amp;ttl_syn=YES&amp;txt_syn=YES&amp;aut_wt=1.0&amp;obj_wt=1.0&amp;ttl_wt=0.3&amp;txt_wt=3.0&amp;aut_wgt=YES&amp;obj_wgt=YES&amp;ttl_wgt=YES&amp;txt_wgt=YES&amp;ttl_sco=YES&amp;txt_sco=YES&amp;version=1&amp;object=2.01231%2D0.06896\" target=\"_blank\">SDSS J0008-0004</a></td></tr><tr><th>NED</th><td><a href=\"http://ned.ipac.caltech.edu/cgi-bin/objsearch?in_csys=Equatorial&amp;in_equinox=J2000.0&amp;hconst=73&amp;omegam=0.27&amp;omegav=0.73&amp;corr_z=1&amp;search_type=Near+Position+Search&amp;z_constraint=Unconstrained&amp;z_value1=&amp;z_value2=&amp;z_unit=z&amp;ot_include=ANY&amp;nmp_op=ANY&amp;out_csys=Equatorial&amp;out_equinox=J2000.0&amp;obj_sort=Distance+to+search+center&amp;of=pre_text&amp;zv_breaker=30000.0&amp;list_limit=5&amp;img_stamp=YES&amp;radius=0.1&amp;lon=00+08+2.96&amp;lat=%2D0+04+8.26\" target=\"_blank\">SDSS J0008-0004</a></td></tr><tr><th>APOD</th><td></td></tr></tbody></table></div><div class=\"bottom318\"><table border=\"0\" cellpadding=\"0\" cellspacing=\"0\" class=\"bottom318\"><tbody><tr><th colspan=\"2\">Added:</th></tr><tr><td colspan=\"2\">by Leonidas Moustakas<br/>on 2011-11-25 19:22:00 UTC</td></tr><tr><th colspan=\"2\">Modified:</th></tr><tr><td colspan=\"2\">by Terra Holayter<br/>on 2014-02-22 21:34:02 UTC</td></tr><tr><th>Vetted:</th><th><input checked=\"checked\" class=\"checkbox301\" disabled=\"disabled\" name=\"query_vett_status\" onclick=\"doVettStatusOffmode(22);\" type=\"checkbox\" value=\"1\"/></th></tr><tr><td colspan=\"2\">by Christopher Fassnacht<br/>on 2012-11-27 14:03:29 UTC</td></tr><tr><th>Released:</th><th><input checked=\"checked\" class=\"checkbox301\" disabled=\"disabled\" name=\"query_released_status\" onclick=\"doReleasedStatusOffmode(22);\" type=\"checkbox\" value=\"1\"/></th></tr><tr><td colspan=\"2\">by Christopher Fassnacht<br/>on 2012-11-27 14:03:29 UTC as of v0_1</td></tr></tbody></table></div><div class=\"bottom319\"><table border=\"0\" cellpadding=\"0\" cellspacing=\"0\" class=\"bottom319\"><tbody><tr><th>Description</th><td>Luminous red galaxy lensing three background objects.</td></tr></tbody></table></div><div class=\"left329\"><table border=\"0\" cellpadding=\"0\" cellspacing=\"0\" class=\"left329\"><tbody><tr><th>System Name</th><td>SDSS J0008-0004</td><th>Discovery Date:</th><td>2008-08-01</td></tr><tr><th>Alternate Name(s)</th><td colspan=\"3\"></td></tr></tbody></table></div><div class=\"left321\"><table border=\"0\" cellpadding=\"0\" cellspacing=\"0\" class=\"left321\"><tbody><tr><th class=\"title\">Coordinates:</th><td colspan=\"2\"><select name=\"select_coord_label\" onchange=\"doCoordLabelOffmode(22);\"><option value=\"Discovery\">Discovery</option><option selected=\"selected\" value=\"Manual\">Manual</option></select></td></tr><tr><th>RA Hrs</th><td>00</td></tr><tr><th>RA Mins</th><td>08</td></tr><tr><th>RA Secs</th><td>2.96</td></tr><tr><th>RA [°]</th><td>2.01231</td></tr><tr><th>Dec Degrees</th><td>-00</td></tr><tr><th>Dec Arcmin</th><td>04</td></tr><tr><th>Dec Arcsec</th><td>8.26</td></tr><tr><th>Dec [°]</th><td>-0.06896</td></tr></tbody></table></div><!-- drag-able bottom --></div></div><!-- drag-able bottom --><div class=\"galleryfloor\"></div></div><div class=\"gallery expanded\"><h5><span>Matched 6 References</span></h5><div id=\"messages\"><div id=\"message-listing\"><div class=\"condo101\"><table border=\"0\" cellpadding=\"0\" cellspacing=\"0\"><tbody><tr></tr><tr><th style=\"width:65px;\"><a href=\"http://admin.masterlens.org/search_advanced.php?referenceID[]=838&amp;\" title=\"select\">63 Lenses</a></th><td style=\"width:250px;\"><a href=\"http://admin.masterlens.org/citation.php?referenceID=838&amp;\" target=\"_self\">Cardone et al. 2011 [MNRAS416(2011)1822]</a></td><td style=\"width:450px;\">Secondary infall model and dark matter scaling relations in intermediate-redshift early-type galaxies</td><td></td></tr><tr><th style=\"width:65px;\"><a href=\"http://admin.masterlens.org/search_advanced.php?referenceID[]=20&amp;\" title=\"select\">90 Lenses</a></th><td style=\"width:250px;\"><a href=\"http://admin.masterlens.org/citation.php?referenceID=20&amp;\" target=\"_self\">Auger et al. 2009 [ApJ705(2009)1099]</a></td><td style=\"width:450px;\">The Sloan Lens ACS Survey. IX. Colors, Lensing, and Stellar Masses of Early-Type Galaxies</td><td></td></tr><tr><th style=\"width:65px;\"><a href=\"http://admin.masterlens.org/search_advanced.php?referenceID[]=19&amp;\" title=\"select\">49 Lenses</a></th><td style=\"width:250px;\"><a href=\"http://admin.masterlens.org/citation.php?referenceID=19&amp;\" target=\"_self\">Newton et al. 2009 [ApJ696(2009)1125]</a></td><td style=\"width:450px;\">Enhanced Lensing Rate by Clustering of Massive Galaxies: Newly Discovered Systems in the Slacs Fields</td><td></td></tr><tr><th style=\"width:65px;\"><a href=\"http://admin.masterlens.org/search_advanced.php?referenceID[]=839&amp;\" title=\"select\">61 Lenses</a></th><td style=\"width:250px;\"><a href=\"http://admin.masterlens.org/citation.php?referenceID=839&amp;\" target=\"_self\">Grillo et al. 2009 [A&amp;A501(2009)461]</a></td><td style=\"width:450px;\">Photometric mass and mass decomposition in early-type lens galaxies</td><td></td></tr><tr><th style=\"width:65px;\"><a href=\"http://admin.masterlens.org/search_advanced.php?referenceID[]=840&amp;\" title=\"select\">76 Lenses</a></th><td style=\"width:250px;\"><a href=\"http://admin.masterlens.org/citation.php?referenceID=840&amp;\" target=\"_self\">Treu et al. 2009 [ApJ690(2009)670]</a></td><td style=\"width:450px;\">The SLACS Survey. VIII. The Relation between Environment and Internal Structure of Early-Type Galaxies</td><td></td></tr><tr><th style=\"width:65px;\"><a href=\"http://admin.masterlens.org/search_advanced.php?referenceID[]=229&amp;\" title=\"select\">81 Lenses</a></th><td style=\"width:250px;\"><a href=\"http://admin.masterlens.org/citation.php?referenceID=229&amp;\" target=\"_self\">Bolton et al. 2008 [ApJ682(2008)964]</a></td><td style=\"width:450px;\">The Sloan Lens ACS Survey. V. The Full ACS Strong-Lens Sample</td><td><img src=\"masterlens_arquivos/check.png\" width=\"17\"/> Discovery Paper</td></tr></tbody></table></div><!-- drag-able bottom --></div></div><!-- drag-able bottom --><div class=\"galleryfloor\"></div></div><div class=\"gallery expanded\"><h5><span>Matched 2 Graphics (out of 3 Graphic Types)</span></h5><div id=\"messages\"><div id=\"message-listing\"><div class=\"condo101\"><table border=\"0\" cellpadding=\"0\" cellspacing=\"0\" class=\"lens_graphic\"><tbody><tr><th class=\"highlight\" colspan=\"2\">Graphic: Pretty Pic</th><td class=\"none\"></td><th class=\"highlight\" colspan=\"2\">Graphic: HLA-Derived Fitscut</th><td class=\"none\"></td><th class=\"highlight\" colspan=\"2\">Graphic: Time-Delay Plot</th></tr><tr><th class=\"green\"></th><td>[2012-11-27 13:12:57 UTC]</td><td class=\"none\"></td><th class=\"green\"></th><td>[2013-02-05 16:02:20 UTC]</td><td class=\"none\"></td><th class=\"amber\"></th><td>None</td></tr><tr><th colspan=\"2\"><a href=\"http://admin.masterlens.org/graphic.php?lensID=22&amp;type=0&amp;\" target=\"_blank\"><img src=\"masterlens_arquivos/SDSSJ0008-0004_cutout.png\" width=\"250px\"/></a></th><td class=\"none\"></td><th colspan=\"2\"><a href=\"http://admin.masterlens.org/graphic.php?lensID=22&amp;type=1&amp;\" target=\"_blank\"><img src=\"masterlens_arquivos/SDSSJ0008-0004_WFPC2_greyimage_F606W_ZOOM8.png\" width=\"250px\"/></a></th><td class=\"none\"></td><th colspan=\"2\"></th></tr><tr><th class=\"none\">©</th><td>2012 Christopher Fassnacht, masterlens.org</td><td class=\"none\"></td><th class=\"none\">©</th><td>2013 Kyle Stewart, masterlens.org</td><td class=\"none\"></td><th colspan=\"2\"></th></tr><tr><td class=\"check\" colspan=\"2\">Primary Graphic</td><td class=\"none\"></td><td class=\"nocheck\" colspan=\"2\"></td><td class=\"none\"></td><td class=\"nocheck\" colspan=\"2\"></td></tr></tbody></table></div><!-- drag-able bottom --></div></div><!-- drag-able bottom --><div class=\"galleryfloor\"></div></div><div class=\"gallery expanded\"><h5><span>Matched 2 Observatories, 3 Instruments &amp; 7 Filters</span></h5><div id=\"messages\"><div id=\"message-listing\"><div class=\"condo101\"><table border=\"0\" cellpadding=\"0\" cellspacing=\"0\" class=\"condo0101\"><tbody><tr><th class=\"condo0105\">SDSS</th><th class=\"condo099\"></th><th class=\"condo060\">Filter</th><th class=\"condo030\">Band</th><th class=\"condo080\">Lens Magnitude</th><th class=\"condo080\">Flux [nmaggie]</th><th class=\"condo080\">Reff [″]</th><th class=\"condo080\">axis ratio (AB)</th><th class=\"condo080\">PA [° E of N]</th><th class=\"condo081\">Source Magnitude</th><th class=\"condo0104\">Program Observations</th></tr><tr><th colspan=\"2\" rowspan=\"5\" style=\"border:1px dotted#CCC;\">SDSS (DR8)</th><th class=\"condo060\">Sloan u </th><th class=\"condo030\">u</th><td>22.37 ± 0.53</td><td>1.11 ± 0.56</td><td>5.29 ± 4.33</td><td>0.05 ± 0.00</td><td>40.44 ± 0.01</td><td class=\"condo001\"></td><td class=\"condo0104\" rowspan=\"5\">Has <a href=\"http://skyserver.sdss3.org/dr9/en/tools/explore/obj.asp?id=1237657190906069665\" target=\"_blank\">Sloan ugriz photometry</a><br/>SDSS Spectrum: <a href=\"http://skyserver.sdss3.org/dr9/en/get/specById.asp?id=753269961564121088\" target=\"_blank\">669-52559-156</a><br/>z<sub>L</sub> = 0.4400 ± 0.0001<br/>σ<sub>v</sub> = (232 ± 39) km/s<br/>RA = 2.01231°    Dec = -0.06896° <br/>Spectroscopic Object: GALAXY<br/></td></tr><tr><th class=\"condo060\">Sloan g  </th><th class=\"condo030\">g</th><td>20.90 ± 0.06</td><td>4.35 ± 0.25</td><td>1.52 ± 0.30</td><td>0.81 ± 0.23</td><td>171.15 ± 0.01</td><td class=\"condo001\"></td></tr><tr><th class=\"condo060\">Sloan r</th><th class=\"condo030\">r</th><td>19.58 ± 0.03</td><td>14.78 ± 0.44</td><td>1.00 ± 0.10</td><td>0.88 ± 0.12</td><td>17.35 ± 0.01</td><td class=\"condo001\"></td></tr><tr><th class=\"condo060\">Sloan i</th><th class=\"condo030\">i</th><td>18.75 ± 0.02</td><td>31.72 ± 0.65</td><td>0.99 ± 0.06</td><td>0.91 ± 0.08</td><td>51.95 ± 0.01</td><td class=\"condo001\"></td></tr><tr><th class=\"condo060\">Sloan z</th><th class=\"condo030\">z</th><td>18.41 ± 0.06</td><td>43.30 ± 2.51</td><td>1.15 ± 0.18</td><td>0.65 ± 0.18</td><td>70.26 ± 0.01</td><td class=\"condo001\"></td></tr></tbody></table><table border=\"0\" cellpadding=\"0\" cellspacing=\"0\" class=\"condo0101\"><tbody><tr><th class=\"condo0105\">HST</th><th class=\"condo099\"></th><th class=\"condo060\">Filter</th><th class=\"condo030\">Band</th><th class=\"condo080\">Lens Magnitude</th><th class=\"condo080\">Flux [mJy]</th><th class=\"condo080\">Reff [″]</th><th class=\"condo080\">axis ratio (AB)</th><th class=\"condo080\">PA [° E of N]</th><th class=\"condo081\">Source Magnitude</th><th class=\"condo0104\">Program Observations</th></tr><tr><th colspan=\"2\" rowspan=\"1\" style=\"border:1px dotted#CCC;\">ACS/WFC (WFC1)</th><th class=\"condo060\">F814W</th><th class=\"condo030\">I</th><td>18.65 ± 0.03</td><td class=\"condo001\"></td><td>1.71 ± 0.06</td><td>0.83 ± 0.01</td><td>27.3 ± 0.1</td><td class=\"condo001\"></td><td class=\"condo0104\" rowspan=\"1\"><a href=\"http://archive.stsci.edu/proposal_search.php?mission=hst&amp;id=10886\" target=\"_blank\">HST Program 10886</a> — PI: Bolton<br/></td></tr><tr><th colspan=\"2\" rowspan=\"1\" style=\"border:1px dotted#CCC;\">WFPC2 (WF3)</th><th class=\"condo060\">F606W </th><th class=\"condo030\">V</th><td class=\"condo001\"></td><td class=\"condo001\"></td><td class=\"condo001\"></td><td class=\"condo001\"></td><td class=\"condo001\"></td><td class=\"condo001\"></td><td class=\"condo0104\" rowspan=\"1\"><a href=\"http://archive.stsci.edu/proposal_search.php?mission=hst&amp;id=10886\" target=\"_blank\">HST Program 10886</a> — PI: Bolton<br/></td></tr></tbody></table><table border=\"0\" cellpadding=\"0\" cellspacing=\"0\" class=\"condo0101\"><tbody><tr></tr></tbody></table><table border=\"0\" cellpadding=\"0\" cellspacing=\"0\" class=\"condo0101\"><tbody><tr></tr></tbody></table></div><!-- drag-able bottom --></div></div><!-- drag-able bottom --><div class=\"galleryfloor\"></div></div><div class=\"gallery expanded\"><h5><span>Matched 0 Software Systems</span></h5><div id=\"messages\"><div id=\"message-listing\"><div class=\"condo101\"><table border=\"0\" cellpadding=\"0\" cellspacing=\"0\"><tbody><tr></tr></tbody></table></div><!-- drag-able bottom --></div></div><!-- drag-able bottom --><div class=\"galleryfloor\"></div></div><div class=\"gallery expanded\"><h5><span>Matched 0 Lens Models</span></h5><div id=\"messages\"><div id=\"message-listing\"><!-- drag-able bottom --></div></div><!-- drag-able bottom --><div class=\"galleryfloor\"></div></div><div class=\"gallery expanded\"><h5><span>Matched 1 Lens Plane Image with 3 Source Plane Images (3 Time Delays)</span></h5><div id=\"messages\"><div id=\"message-listing\"><div class=\"bottom401\"><table border=\"0\" cellpadding=\"0\" cellspacing=\"0\" class=\"bottom411\"><tbody><tr><th class=\"title\" colspan=\"6\">Lens Plane Images:</th></tr><tr><th>No.</th><th>Label</th><th>z</th><th>z_err</th><th>Flux</th><th>Mag</th></tr><tr><td>1</td><td></td><td>0.4400</td><td>0.0001</td><td></td><td></td></tr></tbody></table><p></p><table border=\"0\" cellpadding=\"0\" cellspacing=\"0\" class=\"bottom412\"><tbody><tr><th class=\"title\" colspan=\"9\">Source Plane Images:</th></tr><tr><th>No.</th><th>Label</th><th>z</th><th>z_err</th><th>r</th><th>θ</th><th>Flux</th><th>Mag</th><th>μ</th></tr><tr><td>1</td><td></td><td>1.192</td><td>0.001</td><td></td><td></td><td></td><td></td><td></td></tr><tr><td>2</td><td></td><td>1.192</td><td>0.001</td><td></td><td></td><td></td><td></td><td></td></tr><tr><td>3</td><td></td><td>1.192</td><td>0.001</td><td></td><td></td><td></td><td></td><td></td></tr></tbody></table></div><div class=\"bottom403\"><table border=\"0\" cellpadding=\"0\" cellspacing=\"0\" class=\"bottom410\"><tbody><tr><th>Number of Source Plane Images</th><td>3</td></tr></tbody></table><p></p><table border=\"0\" cellpadding=\"0\" cellspacing=\"0\" class=\"bottom413\"><tbody><tr><th class=\"title\" colspan=\"2\">Time Delays:</th></tr><tr><th>Image -- Image</th><th>Time Delay (days)</th></tr><tr><td>(1) -- (2)</td><td></td></tr><tr><td>(1) -- (3)</td><td></td></tr><tr><td>(2) -- (3)</td><td></td></tr></tbody></table></div></div></div><!-- drag-able bottom --><div class=\"galleryfloor\"></div></div></form> <!-- end main -->\n",
       "</div>\n",
       "</div>\n",
       "</div>\n",
       "<!-- end content-->\n",
       "<!-- begin sideColumn1 -->\n",
       "<div class=\"column\" id=\"sideColumn1\" style=\"height: 1917px;\">\n",
       "<ul><li><a href=\"http://admin.masterlens.org/index.php?\">The Orphan Lens Project</a></li><li><a href=\"http://admin.masterlens.org/lensing.php?\">Strong Gravitational <br/> Lensing by Galaxies</a></li><li class=\"current\"><a href=\"http://admin.masterlens.org/search.php?\">Master Lens Database</a></li><li><a href=\"http://admin.masterlens.org/discovery.php?\">Discovery Programs</a></li><li><a href=\"http://admin.masterlens.org/kind.php?\">Lens Kinds - Foregrounds and Backgrounds</a></li><li><a href=\"http://admin.masterlens.org/band.php?\">Bands Observed</a></li><li><a href=\"http://admin.masterlens.org/model.php?\">Uniform Lens Models</a></li><li><a href=\"http://admin.masterlens.org/software.php?\">Lens Modeling Software Systematic Review</a></li><li><a href=\"http://admin.masterlens.org/api.php?\">Client-Side Python API</a></li><li><a href=\"http://admin.masterlens.org/apod.php?\">Astronomy Pics of the Day</a></li><li><a href=\"http://admin.masterlens.org/citation.php?\">References</a></li><li><a href=\"http://admin.masterlens.org/member.php?\">Database Login</a></li><li><a href=\"mailto:admin@masterlens.org?subject=Master%20Lens%20Database\">Contact</a></li></ul> <table align=\"center\" border=\"0\" cellpadding=\"0\" cellspacing=\"0\" class=\"bottom\"><tbody><tr>\n",
       "<td width=\"50%\"></td>\n",
       "<td align=\"right \" width=\"8px\"><img alt=\"\" height=\"40px\" src=\"masterlens_arquivos/left.png\" width=\"8px\"/></td>\n",
       "<td><img alt=\"\" border=\"0\" height=\"40\" src=\"masterlens_arquivos/1.png\" width=\"20\"/></td><td><img alt=\"\" border=\"0\" height=\"40\" src=\"masterlens_arquivos/3.png\" width=\"20\"/></td><td><img alt=\"\" border=\"0\" height=\"40\" src=\"masterlens_arquivos/1.png\" width=\"20\"/></td><td><img alt=\"\" border=\"0\" height=\"40\" src=\"masterlens_arquivos/7.png\" width=\"20\"/></td><td><img alt=\"\" border=\"0\" height=\"40\" src=\"masterlens_arquivos/0.png\" width=\"20\"/></td><td><img alt=\"\" border=\"0\" height=\"40\" src=\"masterlens_arquivos/9.png\" width=\"20\"/></td> <td align=\"left\" width=\"50%\"><img alt=\"\" height=\"40px\" src=\"masterlens_arquivos/right.png\" width=\"8px\"/></td> </tr></tbody></table>\n",
       "</div>\n",
       "<!-- end sideColumn1 -->\n",
       "</div><!-- end innerWrapper --><!-- begin footer -->\n",
       "<div id=\"footer\">\n",
       "<ul> <li>©2012 The University of Utah • Department of Physics and \n",
       "Astronomy, 115 S 1400 E, Salt Lake City, UT 84112-0830 • 801.581.6901 • \n",
       "fax 801.581.4801</li>\n",
       "</ul>\n",
       "<ul>\n",
       "<li><a href=\"http://www.utah.edu/\" target=\"_blank\">The University of Utah</a></li>\n",
       "<li>|</li>\n",
       "<li><a href=\"http://www.physics.utah.edu/\" target=\"_blank\">Department of Physics and Astronomy</a></li>\n",
       "<li>|</li>\n",
       "<li><a href=\"http://www.utah.edu/disclaimer/index.html\" target=\"_blank\">Disclaimer</a></li>\n",
       "<li>|</li>\n",
       "<li><a href=\"http://www.utah.edu/privacy/\" target=\"_blank\">Privacy</a></li>\n",
       "</ul>\n",
       "</div>\n",
       "<!-- end footer --></div>"
      ]
     },
     "execution_count": 17,
     "metadata": {},
     "output_type": "execute_result"
    }
   ],
   "source": [
    "soup.div"
   ]
  },
  {
   "cell_type": "code",
   "execution_count": 46,
   "metadata": {},
   "outputs": [],
   "source": [
    "tables = get_tables(soup, True)"
   ]
  },
  {
   "cell_type": "code",
   "execution_count": 50,
   "metadata": {},
   "outputs": [
    {
     "data": {
      "text/html": [
       "<div>\n",
       "<style scoped>\n",
       "    .dataframe tbody tr th:only-of-type {\n",
       "        vertical-align: middle;\n",
       "    }\n",
       "\n",
       "    .dataframe tbody tr th {\n",
       "        vertical-align: top;\n",
       "    }\n",
       "\n",
       "    .dataframe thead th {\n",
       "        text-align: right;\n",
       "    }\n",
       "</style>\n",
       "<table border=\"1\" class=\"dataframe\">\n",
       "  <thead>\n",
       "    <tr style=\"text-align: right;\">\n",
       "      <th></th>\n",
       "      <th>63 Lenses</th>\n",
       "      <th>90 Lenses</th>\n",
       "      <th>49 Lenses</th>\n",
       "    </tr>\n",
       "  </thead>\n",
       "  <tbody>\n",
       "    <tr>\n",
       "      <th>0</th>\n",
       "      <td>Cardone et al. 2011 [MNRAS416(2011)1822]</td>\n",
       "      <td>Secondary infall model and dark matter scaling...</td>\n",
       "      <td></td>\n",
       "    </tr>\n",
       "    <tr>\n",
       "      <th>1</th>\n",
       "      <td>Auger et al. 2009 [ApJ705(2009)1099]</td>\n",
       "      <td>The Sloan Lens ACS Survey. IX. Colors, Lensing...</td>\n",
       "      <td></td>\n",
       "    </tr>\n",
       "    <tr>\n",
       "      <th>2</th>\n",
       "      <td>Newton et al. 2009 [ApJ696(2009)1125]</td>\n",
       "      <td>Enhanced Lensing Rate by Clustering of Massive...</td>\n",
       "      <td></td>\n",
       "    </tr>\n",
       "    <tr>\n",
       "      <th>3</th>\n",
       "      <td>Grillo et al. 2009 [A&amp;A501(2009)461]</td>\n",
       "      <td>Photometric mass and mass decomposition in ear...</td>\n",
       "      <td></td>\n",
       "    </tr>\n",
       "    <tr>\n",
       "      <th>4</th>\n",
       "      <td>Treu et al. 2009 [ApJ690(2009)670]</td>\n",
       "      <td>The SLACS Survey. VIII. The Relation between E...</td>\n",
       "      <td></td>\n",
       "    </tr>\n",
       "    <tr>\n",
       "      <th>5</th>\n",
       "      <td>Bolton et al. 2008 [ApJ682(2008)964]</td>\n",
       "      <td>The Sloan Lens ACS Survey. V. The Full ACS Str...</td>\n",
       "      <td>Discovery Paper</td>\n",
       "    </tr>\n",
       "  </tbody>\n",
       "</table>\n",
       "</div>"
      ],
      "text/plain": [
       "                                  63 Lenses  \\\n",
       "0  Cardone et al. 2011 [MNRAS416(2011)1822]   \n",
       "1      Auger et al. 2009 [ApJ705(2009)1099]   \n",
       "2     Newton et al. 2009 [ApJ696(2009)1125]   \n",
       "3      Grillo et al. 2009 [A&A501(2009)461]   \n",
       "4        Treu et al. 2009 [ApJ690(2009)670]   \n",
       "5      Bolton et al. 2008 [ApJ682(2008)964]   \n",
       "\n",
       "                                           90 Lenses         49 Lenses  \n",
       "0  Secondary infall model and dark matter scaling...                    \n",
       "1  The Sloan Lens ACS Survey. IX. Colors, Lensing...                    \n",
       "2  Enhanced Lensing Rate by Clustering of Massive...                    \n",
       "3  Photometric mass and mass decomposition in ear...                    \n",
       "4  The SLACS Survey. VIII. The Relation between E...                    \n",
       "5  The Sloan Lens ACS Survey. V. The Full ACS Str...   Discovery Paper  "
      ]
     },
     "execution_count": 50,
     "metadata": {},
     "output_type": "execute_result"
    }
   ],
   "source": [
    "table_df = create_dataframe(tables[10])\n",
    "table_df"
   ]
  },
  {
   "cell_type": "code",
   "execution_count": 63,
   "metadata": {},
   "outputs": [
    {
     "name": "stdout",
     "output_type": "stream",
     "text": [
      "<table border=\"0\" cellpadding=\"0\" cellspacing=\"0\">\n",
      " <tbody>\n",
      "  <tr height=\"50px\">\n",
      "   <td>\n",
      "   </td>\n",
      "  </tr>\n",
      "  <tr>\n",
      "   <td>\n",
      "    <a href=\"http://admin.masterlens.org/\">\n",
      "     The Master Lens Database\n",
      "    </a>\n",
      "   </td>\n",
      "  </tr>\n",
      "  <tr>\n",
      "   <td>\n",
      "    <a href=\"http://admin.masterlens.org/\">\n",
      "     and The Orphan Lenses Project\n",
      "    </a>\n",
      "   </td>\n",
      "  </tr>\n",
      " </tbody>\n",
      "</table>\n"
     ]
    }
   ],
   "source": [
    "table = soup.find('table')\n",
    "print(table.prettify())\n"
   ]
  },
  {
   "cell_type": "code",
   "execution_count": null,
   "metadata": {},
   "outputs": [],
   "source": []
  }
 ],
 "metadata": {
  "kernelspec": {
   "display_name": "Python [conda env:root] *",
   "language": "python",
   "name": "conda-root-py"
  },
  "language_info": {
   "codemirror_mode": {
    "name": "ipython",
    "version": 3
   },
   "file_extension": ".py",
   "mimetype": "text/x-python",
   "name": "python",
   "nbconvert_exporter": "python",
   "pygments_lexer": "ipython3",
   "version": "3.7.5"
  }
 },
 "nbformat": 4,
 "nbformat_minor": 2
}
