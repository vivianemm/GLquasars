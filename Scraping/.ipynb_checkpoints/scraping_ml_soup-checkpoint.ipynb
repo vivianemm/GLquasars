{
 "cells": [
  {
   "cell_type": "code",
   "execution_count": 1,
   "metadata": {},
   "outputs": [],
   "source": [
    "from bs4 import BeautifulSoup\n",
    "import requests\n",
    "import shutil\n",
    "import re\n",
    "from collections import defaultdict\n",
    "import pandas as pd"
   ]
  },
  {
   "cell_type": "markdown",
   "metadata": {},
   "source": [
    "### Defining functions"
   ]
  },
  {
   "cell_type": "code",
   "execution_count": 2,
   "metadata": {},
   "outputs": [],
   "source": [
    "def retrive_data(driver):\n",
    "    return BeautifulSoup(driver.page_source, 'lxml')"
   ]
  },
  {
   "cell_type": "code",
   "execution_count": 3,
   "metadata": {},
   "outputs": [],
   "source": [
    "def get_links(soup, url=\"\"):\n",
    "    href_list = []\n",
    "    \n",
    "    if isinstance(soup, list):\n",
    "        for row in soup:\n",
    "            href = row.find('a')['href']\n",
    "            href_list.append(url + href)\n",
    "    else:\n",
    "        href_tags = soup.find_all(\"a\")\n",
    "        for tag in href_tags:\n",
    "            href = tag.get('href')\n",
    "            href_list.append(url + href)\n",
    "    return href_list"
   ]
  },
  {
   "cell_type": "code",
   "execution_count": 4,
   "metadata": {},
   "outputs": [],
   "source": [
    "def get_image(soup, url, dir_path):\n",
    "    \n",
    "    image_list = []\n",
    "    # Find all image on html code\n",
    "    if isinstance(soup, list):\n",
    "        for row in soup:\n",
    "            image_url = row.find('img')\n",
    "            image_list.append(image_url['src'])\n",
    "    else:\n",
    "        images_tags = soup.find_all(\"img\")\n",
    "        for image in images_tags:\n",
    "            image_url = image['src']\n",
    "            image_list.append(image_url)\n",
    "    \n",
    "    # Iter over each one\n",
    "    for image in image_list:\n",
    "        \n",
    "        link = url + image\n",
    "        \n",
    "        # Download file\n",
    "        filename = image.split('/')[-1]\n",
    "        r = requests.get(link, stream=True)\n",
    "        if r.status_code == 200:\n",
    "            r.raw.decode_content = True\n",
    "            with open(dir_path + filename, \"wb\") as f:\n",
    "                shutil.copyfileobj(r.raw, f)\n",
    "                print(\"[*] Downloaded Image: %s\" % filename)\n",
    "        else:\n",
    "            print(\"[*] ERROR - Download Image: %s\" % link)\n",
    "    return 0"
   ]
  },
  {
   "cell_type": "code",
   "execution_count": 5,
   "metadata": {},
   "outputs": [],
   "source": [
    "def get_tables(soup, text=False):\n",
    "    table_dict_list = []\n",
    "    \n",
    "    tables = soup.find_all('table')\n",
    "    \n",
    "    for table in tables:\n",
    "        table_dict = defaultdict(list)\n",
    "        \n",
    "        \n",
    "        headers = [header.get_text() for header in table.find_all('th')]\n",
    "        \n",
    "        if len(headers) == 0:\n",
    "            pass\n",
    "        else:\n",
    "            \n",
    "            if text:\n",
    "                rows = [[data.get_text() for data in col.find_all('td')] for col in table.find_all('tr')]\n",
    "            else:\n",
    "                rows = [[data for data in col.find_all('td')] for col in table.find_all('tr')]\n",
    "\n",
    "            for row in rows:\n",
    "                columns_id = 0\n",
    "                for data in row:\n",
    "                    column_name = headers[columns_id]\n",
    "\n",
    "                    table_dict[column_name].append(data)\n",
    "                    columns_id += 1\n",
    "\n",
    "            table_dict_list.append(table_dict)\n",
    "        \n",
    "    return table_dict_list"
   ]
  },
  {
   "cell_type": "code",
   "execution_count": 6,
   "metadata": {},
   "outputs": [],
   "source": [
    "def get_rows_names(soup):\n",
    "    names_list = []\n",
    "    \n",
    "    if isinstance(soup, list):\n",
    "        for row in soup:\n",
    "            value = row.string\n",
    "            names_list.append(value)\n",
    "    else:\n",
    "        names_tags = soup.find_all(\"td\")\n",
    "        for tag in names_tags:\n",
    "            value = tag.string\n",
    "            names_list.append(value)\n",
    "    return names_list"
   ]
  },
  {
   "cell_type": "code",
   "execution_count": 7,
   "metadata": {},
   "outputs": [],
   "source": [
    "def filter_column(table, column_name):\n",
    "    if column_name in table:\n",
    "        return table[column_name]\n",
    "    return None"
   ]
  },
  {
   "cell_type": "code",
   "execution_count": 8,
   "metadata": {},
   "outputs": [],
   "source": [
    "def create_dataframe(table):\n",
    "    return pd.DataFrame.from_dict(table)"
   ]
  },
  {
   "cell_type": "code",
   "execution_count": 9,
   "metadata": {},
   "outputs": [],
   "source": [
    "def select_column(df, column_names):\n",
    "    if all(col in df for col in column_names):\n",
    "        return df[column_names]\n",
    "    return None"
   ]
  },
  {
   "cell_type": "code",
   "execution_count": 10,
   "metadata": {},
   "outputs": [],
   "source": [
    "def rename_column(df, column_names, new_column_names):\n",
    "    if len(column_names) != len(new_column_names):\n",
    "        return None\n",
    "    \n",
    "    if all(col in df for col in column_names):\n",
    "        columns_dict = dict()\n",
    "        for i in range(len(column_names)):\n",
    "            columns_dict[column_names[i]] = new_column_names[i]\n",
    "\n",
    "        return df.rename(columns=columns_dict)\n",
    "    \n",
    "    return None"
   ]
  },
  {
   "cell_type": "markdown",
   "metadata": {},
   "source": [
    "### Main code"
   ]
  },
  {
   "cell_type": "code",
   "execution_count": null,
   "metadata": {},
   "outputs": [],
   "source": []
  }
 ],
 "metadata": {
  "kernelspec": {
   "display_name": "Python [conda env:root] *",
   "language": "python",
   "name": "conda-root-py"
  },
  "language_info": {
   "codemirror_mode": {
    "name": "ipython",
    "version": 3
   },
   "file_extension": ".py",
   "mimetype": "text/x-python",
   "name": "python",
   "nbconvert_exporter": "python",
   "pygments_lexer": "ipython3",
   "version": "3.7.5"
  }
 },
 "nbformat": 4,
 "nbformat_minor": 2
}
