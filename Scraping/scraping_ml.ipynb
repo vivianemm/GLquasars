{
 "cells": [
  {
   "cell_type": "code",
   "execution_count": 178,
   "metadata": {},
   "outputs": [],
   "source": [
    "from bs4 import BeautifulSoup\n",
    "import pandas as pd\n",
    "import numpy as np"
   ]
  },
  {
   "cell_type": "code",
   "execution_count": 179,
   "metadata": {},
   "outputs": [],
   "source": [
    "#df_list = pd.read_html(\"/home/viviane/GravLens/Scraping/masterlens/masterlens_1.html\")  # list with dfs from tables\n",
    "filename = '/home/vivianemm/PycharmProjects/GravLens/Scraping/masterlens/masterlens_1.html'\n",
    "df_list = pd.read_html(filename)"
   ]
  },
  {
   "cell_type": "code",
   "execution_count": 180,
   "metadata": {},
   "outputs": [
    {
     "name": "stdout",
     "output_type": "stream",
     "text": [
      "[0]\n",
      "[0 1 2 3]\n",
      "[0 1 2 3 4 5]\n",
      "[0]\n",
      "[0 1]\n",
      "[0 1]\n",
      "[0 1]\n",
      "[0 1]\n",
      "[0 1 2]\n",
      "[0 1]\n",
      "[0 1]\n",
      "[0 1]\n",
      "[0 1 2 3]\n",
      "[0 1]\n",
      "[0 1 2 3]\n",
      "[0 1 2 3 4 5 6 7]\n",
      "[ 0  1  2  3  4  5  6  7  8  9 10]\n",
      "[ 0  1  2  3  4  5  6  7  8  9 10]\n",
      "[0 1 2 3 4 5]\n",
      "[0 1 2 3 4 5 6 7 8]\n",
      "[0 1]\n",
      "[0 1]\n",
      "[0 1 2 3 4 5 6 7 8]\n"
     ]
    }
   ],
   "source": [
    "# important dfs: 5,6,7,11,12,13,14,16,17,18,19,20,21\n",
    "for i in df_list:\n",
    "    print(i.columns.values)"
   ]
  },
  {
   "cell_type": "markdown",
   "metadata": {},
   "source": [
    "### Defining functions"
   ]
  },
  {
   "cell_type": "code",
   "execution_count": 181,
   "metadata": {},
   "outputs": [],
   "source": [
    "def pick_table(key):\n",
    "    for df in df_list:\n",
    "        list_labels = list(df.columns.values)\n",
    "        if any(isinstance(i, tuple) for i in list_labels):  # if labels is nested list\n",
    "            labels = [item for t in list_labels for item in t]  # flatten\n",
    "        else:\n",
    "            labels = list_labels\n",
    "\n",
    "        list_values = df.values.tolist()\n",
    "        if any(isinstance(i, list) for i in list_values):  # if values is nested list\n",
    "            values = [item for t in list_values for item in t]  # flatten\n",
    "        else:\n",
    "            values = list_values\n",
    "              \n",
    "        if key in values or key in labels:\n",
    "            #df_list.remove(df)\n",
    "            return df"
   ]
  },
  {
   "cell_type": "code",
   "execution_count": 182,
   "metadata": {},
   "outputs": [],
   "source": [
    "def drop_nans(df):\n",
    "    df.dropna(axis=0, how='all', inplace=True)\n",
    "    df.dropna(axis=1, how='all', inplace=True)\n",
    "    return None"
   ]
  },
  {
   "cell_type": "code",
   "execution_count": 183,
   "metadata": {},
   "outputs": [],
   "source": [
    "def split_col(df, old_new_list):  # old_new_list = [[oldname, newname], ...]\n",
    "    for pair in old_new_list:\n",
    "        if pair[0] in df.columns:\n",
    "            df[[pair[1], pair[1] + '_err']] = df[pair[0]].str.split(\"±\", n = 1, expand = True)\n",
    "            df.drop(pair[0], axis=1, inplace=True)\n",
    "        else:\n",
    "            pass\n",
    "    return None"
   ]
  },
  {
   "cell_type": "code",
   "execution_count": 184,
   "metadata": {},
   "outputs": [],
   "source": [
    "def get_table_links(table):\n",
    "    href_list = []\n",
    "    \n",
    "    if isinstance(table, list):\n",
    "        for row in table:\n",
    "            href = row.find('a')['href']\n",
    "            href_list.append(href)\n",
    "    else:\n",
    "        href_tags = table.find_all(\"a\")\n",
    "        for tag in href_tags:\n",
    "            href = tag.get('href')\n",
    "            href_list.append(href)\n",
    "    return href_list"
   ]
  },
  {
   "cell_type": "code",
   "execution_count": 185,
   "metadata": {},
   "outputs": [],
   "source": [
    "def save(df, filename, i=False):\n",
    "    if len(df) > 0:\n",
    "        #df.to_csv(\"/home/viviane/GravLens/Scraping/results/\" + filename, index = i)\n",
    "        df.to_csv('/home/vivianemm/PycharmProjects/GravLens/Scraping/results' + filename, index = i)\n",
    "        \n",
    "    return None"
   ]
  },
  {
   "cell_type": "markdown",
   "metadata": {},
   "source": [
    "### System table\n",
    "### (5, 6, 7, 11, 12, 20)"
   ]
  },
  {
   "cell_type": "code",
   "execution_count": 186,
   "metadata": {},
   "outputs": [],
   "source": [
    "def system():\n",
    "    # joining 5,6,7,11\n",
    "    frames =[pick_table('Discovery'), pick_table('Lens Kind'), pick_table('Lens Grade'), pick_table('Description')]\n",
    "    result_df = pd.concat(frames)\n",
    "    result_df.reset_index(drop=True, inplace=True)\n",
    "    system_df = result_df.drop(columns=0).T\n",
    "    system_df.columns = list(result_df[0])\n",
    "    drop_nans(system_df)\n",
    "    \n",
    "    # Splitting value ± error columns\n",
    "    split_col(system_df, [['Einstein_R [\"]','Einstein_R'], ['z_Lens', 'z_lens'], ['z_Source(s)', 'z_source'],\n",
    "                          ['Stellar velocity disp', 'Stellar_v_disp']])\n",
    "    \n",
    "    # adding other 2 tables\n",
    "    date_df = pick_table('Discovery Date:')\n",
    "    n_df = pick_table('Number of Source Plane Images')\n",
    "    \n",
    "    system_df['Discovery Date'] = date_df[3][0]\n",
    "    system_df['Name'] = date_df[1][0]\n",
    "    system_df['N Images'] = n_df[1][0]\n",
    "    \n",
    "    return system_df"
   ]
  },
  {
   "cell_type": "code",
   "execution_count": 187,
   "metadata": {},
   "outputs": [
    {
     "data": {
      "text/html": [
       "<div>\n",
       "<style scoped>\n",
       "    .dataframe tbody tr th:only-of-type {\n",
       "        vertical-align: middle;\n",
       "    }\n",
       "\n",
       "    .dataframe tbody tr th {\n",
       "        vertical-align: top;\n",
       "    }\n",
       "\n",
       "    .dataframe thead th {\n",
       "        text-align: right;\n",
       "    }\n",
       "</style>\n",
       "<table border=\"1\" class=\"dataframe\">\n",
       "  <thead>\n",
       "    <tr style=\"text-align: right;\">\n",
       "      <th></th>\n",
       "      <th>Discovery</th>\n",
       "      <th>Lens Kind</th>\n",
       "      <th>Lens Grade</th>\n",
       "      <th>Einstein_R quality</th>\n",
       "      <th>z_Lens quality</th>\n",
       "      <th>z_Source quality</th>\n",
       "      <th>Description</th>\n",
       "      <th>Einstein_R</th>\n",
       "      <th>Einstein_R_err</th>\n",
       "      <th>z_lens</th>\n",
       "      <th>z_lens_err</th>\n",
       "      <th>z_source</th>\n",
       "      <th>z_source_err</th>\n",
       "      <th>Stellar_v_disp</th>\n",
       "      <th>Stellar_v_disp_err</th>\n",
       "      <th>Discovery Date</th>\n",
       "      <th>Name</th>\n",
       "      <th>N Images</th>\n",
       "    </tr>\n",
       "  </thead>\n",
       "  <tbody>\n",
       "    <tr>\n",
       "      <th>1</th>\n",
       "      <td>SLACS</td>\n",
       "      <td>GAL-GAL</td>\n",
       "      <td>A</td>\n",
       "      <td>SIE model</td>\n",
       "      <td>spectroscopic</td>\n",
       "      <td>spectroscopic</td>\n",
       "      <td>Luminous red galaxy lensing three background o...</td>\n",
       "      <td>1.16</td>\n",
       "      <td>0.02</td>\n",
       "      <td>0.4400</td>\n",
       "      <td>0.0001</td>\n",
       "      <td>1.192</td>\n",
       "      <td>0.001</td>\n",
       "      <td>232</td>\n",
       "      <td>39</td>\n",
       "      <td>2008-08-01</td>\n",
       "      <td>SDSS J0008-0004</td>\n",
       "      <td>3</td>\n",
       "    </tr>\n",
       "  </tbody>\n",
       "</table>\n",
       "</div>"
      ],
      "text/plain": [
       "  Discovery Lens Kind Lens Grade Einstein_R quality z_Lens quality  \\\n",
       "1     SLACS   GAL-GAL          A          SIE model  spectroscopic   \n",
       "\n",
       "  z_Source quality                                        Description  \\\n",
       "1    spectroscopic  Luminous red galaxy lensing three background o...   \n",
       "\n",
       "  Einstein_R Einstein_R_err   z_lens z_lens_err z_source z_source_err  \\\n",
       "1      1.16            0.02  0.4400      0.0001   1.192         0.001   \n",
       "\n",
       "  Stellar_v_disp Stellar_v_disp_err Discovery Date             Name  N Images  \n",
       "1           232                  39     2008-08-01  SDSS J0008-0004         3  "
      ]
     },
     "execution_count": 187,
     "metadata": {},
     "output_type": "execute_result"
    }
   ],
   "source": [
    "system()"
   ]
  },
  {
   "cell_type": "markdown",
   "metadata": {},
   "source": [
    "### Coordinates table (13)"
   ]
  },
  {
   "cell_type": "code",
   "execution_count": 188,
   "metadata": {},
   "outputs": [],
   "source": [
    "def coordinates():\n",
    "    coords_df = pick_table('Coordinates:') #.drop(2, axis=1)  # Manual coordinates\n",
    "    coords_df = coords_df.set_index(0).T\n",
    "    coords_df['Coordinates:'] = 'Manual'\n",
    "    return coords_df"
   ]
  },
  {
   "cell_type": "code",
   "execution_count": 189,
   "metadata": {},
   "outputs": [
    {
     "data": {
      "text/html": [
       "<div>\n",
       "<style scoped>\n",
       "    .dataframe tbody tr th:only-of-type {\n",
       "        vertical-align: middle;\n",
       "    }\n",
       "\n",
       "    .dataframe tbody tr th {\n",
       "        vertical-align: top;\n",
       "    }\n",
       "\n",
       "    .dataframe thead th {\n",
       "        text-align: right;\n",
       "    }\n",
       "</style>\n",
       "<table border=\"1\" class=\"dataframe\">\n",
       "  <thead>\n",
       "    <tr style=\"text-align: right;\">\n",
       "      <th></th>\n",
       "      <th>Coordinates:</th>\n",
       "      <th>RA Hrs</th>\n",
       "      <th>RA Mins</th>\n",
       "      <th>RA Secs</th>\n",
       "      <th>RA [°]</th>\n",
       "      <th>Dec Degrees</th>\n",
       "      <th>Dec Arcmin</th>\n",
       "      <th>Dec Arcsec</th>\n",
       "      <th>Dec [°]</th>\n",
       "    </tr>\n",
       "  </thead>\n",
       "  <tbody>\n",
       "    <tr>\n",
       "      <th>1</th>\n",
       "      <td>Manual</td>\n",
       "      <td>00</td>\n",
       "      <td>08</td>\n",
       "      <td>2.96</td>\n",
       "      <td>2.01231</td>\n",
       "      <td>-00</td>\n",
       "      <td>04</td>\n",
       "      <td>8.26</td>\n",
       "      <td>-0.06896</td>\n",
       "    </tr>\n",
       "  </tbody>\n",
       "</table>\n",
       "</div>"
      ],
      "text/plain": [
       "0 Coordinates: RA Hrs RA Mins RA Secs   RA [°] Dec Degrees Dec Arcmin  \\\n",
       "1       Manual     00      08    2.96  2.01231         -00         04   \n",
       "\n",
       "0 Dec Arcsec   Dec [°]  \n",
       "1       8.26  -0.06896  "
      ]
     },
     "execution_count": 189,
     "metadata": {},
     "output_type": "execute_result"
    }
   ],
   "source": [
    "coordinates()"
   ]
  },
  {
   "cell_type": "markdown",
   "metadata": {},
   "source": [
    "### External links\n"
   ]
  },
  {
   "cell_type": "code",
   "execution_count": 190,
   "metadata": {},
   "outputs": [],
   "source": [
    "def external():\n",
    "    external_df = pick_table('External Links:')\n",
    "    #external_df.columns = [''] * len(external_df.columns)\n",
    "    external_df.columns = ['database', 'link']\n",
    "    \n",
    "    external_df = external_df.set_index('database')\n",
    "    external_df.drop('link', axis=1, inplace=True)\n",
    "    drop_nans(external_df)\n",
    "    external_df = external_df.T\n",
    "    #external_df.drop('External Links:.1', axis=1, inplace=True)\n",
    "    \n",
    "    soup = BeautifulSoup(open(filename), \"html.parser\")\n",
    "    tb = soup.find_all('table')[9]\n",
    "    links = get_table_links(tb)\n",
    "    \n",
    "    external_df['links'] = links\n",
    "    \n",
    "    return external_df"
   ]
  },
  {
   "cell_type": "code",
   "execution_count": 191,
   "metadata": {},
   "outputs": [
    {
     "data": {
      "text/html": [
       "<div>\n",
       "<style scoped>\n",
       "    .dataframe tbody tr th:only-of-type {\n",
       "        vertical-align: middle;\n",
       "    }\n",
       "\n",
       "    .dataframe tbody tr th {\n",
       "        vertical-align: top;\n",
       "    }\n",
       "\n",
       "    .dataframe thead th {\n",
       "        text-align: right;\n",
       "    }\n",
       "</style>\n",
       "<table border=\"1\" class=\"dataframe\">\n",
       "  <thead>\n",
       "    <tr style=\"text-align: right;\">\n",
       "      <th>database</th>\n",
       "      <th>links</th>\n",
       "    </tr>\n",
       "  </thead>\n",
       "  <tbody>\n",
       "    <tr>\n",
       "      <th>0</th>\n",
       "      <td>http://skyserver.sdss3.org/dr9/en/tools/chart/...</td>\n",
       "    </tr>\n",
       "    <tr>\n",
       "      <th>1</th>\n",
       "      <td>http://adsabs.harvard.edu/cgi-bin/nph-abs_conn...</td>\n",
       "    </tr>\n",
       "    <tr>\n",
       "      <th>2</th>\n",
       "      <td>http://ned.ipac.caltech.edu/cgi-bin/objsearch?...</td>\n",
       "    </tr>\n",
       "  </tbody>\n",
       "</table>\n",
       "</div>"
      ],
      "text/plain": [
       "database                                              links\n",
       "0         http://skyserver.sdss3.org/dr9/en/tools/chart/...\n",
       "1         http://adsabs.harvard.edu/cgi-bin/nph-abs_conn...\n",
       "2         http://ned.ipac.caltech.edu/cgi-bin/objsearch?..."
      ]
     },
     "execution_count": 191,
     "metadata": {},
     "output_type": "execute_result"
    }
   ],
   "source": [
    "external()"
   ]
  },
  {
   "cell_type": "code",
   "execution_count": 192,
   "metadata": {},
   "outputs": [
    {
     "data": {
      "text/html": [
       "<div>\n",
       "<style scoped>\n",
       "    .dataframe tbody tr th:only-of-type {\n",
       "        vertical-align: middle;\n",
       "    }\n",
       "\n",
       "    .dataframe tbody tr th {\n",
       "        vertical-align: top;\n",
       "    }\n",
       "\n",
       "    .dataframe thead th {\n",
       "        text-align: right;\n",
       "    }\n",
       "</style>\n",
       "<table border=\"1\" class=\"dataframe\">\n",
       "  <thead>\n",
       "    <tr style=\"text-align: right;\">\n",
       "      <th></th>\n",
       "      <th>database</th>\n",
       "      <th>link</th>\n",
       "    </tr>\n",
       "  </thead>\n",
       "  <tbody>\n",
       "    <tr>\n",
       "      <th>0</th>\n",
       "      <td>External Links:</td>\n",
       "      <td>NaN</td>\n",
       "    </tr>\n",
       "    <tr>\n",
       "      <th>1</th>\n",
       "      <td>SDSS</td>\n",
       "      <td>SDSS J0008-0004</td>\n",
       "    </tr>\n",
       "    <tr>\n",
       "      <th>2</th>\n",
       "      <td>ADS</td>\n",
       "      <td>SDSS J0008-0004</td>\n",
       "    </tr>\n",
       "    <tr>\n",
       "      <th>3</th>\n",
       "      <td>NED</td>\n",
       "      <td>SDSS J0008-0004</td>\n",
       "    </tr>\n",
       "    <tr>\n",
       "      <th>4</th>\n",
       "      <td>APOD</td>\n",
       "      <td>NaN</td>\n",
       "    </tr>\n",
       "  </tbody>\n",
       "</table>\n",
       "</div>"
      ],
      "text/plain": [
       "          database             link\n",
       "0  External Links:              NaN\n",
       "1             SDSS  SDSS J0008-0004\n",
       "2              ADS  SDSS J0008-0004\n",
       "3              NED  SDSS J0008-0004\n",
       "4             APOD              NaN"
      ]
     },
     "execution_count": 192,
     "metadata": {},
     "output_type": "execute_result"
    }
   ],
   "source": [
    "pick_table('External Links:')"
   ]
  },
  {
   "cell_type": "markdown",
   "metadata": {},
   "source": [
    "### Flux table (SDSS 16, HST 17)"
   ]
  },
  {
   "cell_type": "code",
   "execution_count": 198,
   "metadata": {},
   "outputs": [],
   "source": [
    "def sdss():\n",
    "    df = pick_table('Filter')\n",
    "    if 'SDSS' in df.columns.values:\n",
    "        sdss_df = df.set_index('Band')\n",
    "        sdss_df = sdss_df.drop(columns=['Unnamed: 1'])\n",
    "    else:\n",
    "        sdss_df = pd.DataFrame()\n",
    "    \n",
    "    return sdss_df"
   ]
  },
  {
   "cell_type": "code",
   "execution_count": 221,
   "metadata": {},
   "outputs": [],
   "source": [
    "def hst():\n",
    "    hst_df = pick_table('HST').set_index(0)\n",
    "    columns_hst = hst_df.iloc[0]\n",
    "    #hst_df = hst_df.drop(columns=['Unnamed: 1'])\n",
    "    hst_df.columns = list(columns_hst)\n",
    "    hst_df = hst_df.iloc[1:]\n",
    "    #hst_df = hst_df.set_index('Band')\n",
    "    return hst_df"
   ]
  },
  {
   "cell_type": "code",
   "execution_count": 222,
   "metadata": {},
   "outputs": [],
   "source": [
    "def flux():\n",
    "    sdss_df = sdss()\n",
    "    hst_df = hst()\n",
    "\n",
    "    flux_df = pd.concat([sdss_df, hst_df])\n",
    "\n",
    "    drop_nans(flux_df)\n",
    "    split_col(flux_df, [['Lens Magnitude', 'lens_mag'], ['Flux [nmaggie]', 'Flux (nmaggie)'],\n",
    "                    ['Reff [″]', \"ref (arcsec)\"], ['axis ratio (AB)', 'axis_ratio (AB)'],\n",
    "                    ['PA [° E of N]','PA (deg)']])\n",
    "    return flux_df"
   ]
  },
  {
   "cell_type": "code",
   "execution_count": 220,
   "metadata": {},
   "outputs": [
    {
     "data": {
      "text/html": [
       "<div>\n",
       "<style scoped>\n",
       "    .dataframe tbody tr th:only-of-type {\n",
       "        vertical-align: middle;\n",
       "    }\n",
       "\n",
       "    .dataframe tbody tr th {\n",
       "        vertical-align: top;\n",
       "    }\n",
       "\n",
       "    .dataframe thead th {\n",
       "        text-align: right;\n",
       "    }\n",
       "</style>\n",
       "<table border=\"1\" class=\"dataframe\">\n",
       "  <thead>\n",
       "    <tr style=\"text-align: right;\">\n",
       "      <th></th>\n",
       "      <th>nan</th>\n",
       "      <th>Filter</th>\n",
       "      <th>Band</th>\n",
       "      <th>Lens Magnitude</th>\n",
       "      <th>Flux [mJy]</th>\n",
       "      <th>Reff [″]</th>\n",
       "      <th>axis ratio (AB)</th>\n",
       "      <th>PA [° E of N]</th>\n",
       "      <th>Source Magnitude</th>\n",
       "      <th>Program Observations</th>\n",
       "    </tr>\n",
       "    <tr>\n",
       "      <th>0</th>\n",
       "      <th></th>\n",
       "      <th></th>\n",
       "      <th></th>\n",
       "      <th></th>\n",
       "      <th></th>\n",
       "      <th></th>\n",
       "      <th></th>\n",
       "      <th></th>\n",
       "      <th></th>\n",
       "      <th></th>\n",
       "    </tr>\n",
       "  </thead>\n",
       "  <tbody>\n",
       "    <tr>\n",
       "      <th>ACS/WFC (WFC1)</th>\n",
       "      <td>F814W</td>\n",
       "      <td>I</td>\n",
       "      <td>18.65 ± 0.03</td>\n",
       "      <td>NaN</td>\n",
       "      <td>1.71 ± 0.06</td>\n",
       "      <td>0.83 ± 0.01</td>\n",
       "      <td>27.3 ± 0.1</td>\n",
       "      <td>NaN</td>\n",
       "      <td>HST Program 10886 — PI: Bolton</td>\n",
       "      <td>NaN</td>\n",
       "    </tr>\n",
       "    <tr>\n",
       "      <th>WFPC2 (WF3)</th>\n",
       "      <td>F606W</td>\n",
       "      <td>V</td>\n",
       "      <td>NaN</td>\n",
       "      <td>NaN</td>\n",
       "      <td>NaN</td>\n",
       "      <td>NaN</td>\n",
       "      <td>NaN</td>\n",
       "      <td>NaN</td>\n",
       "      <td>HST Program 10886 — PI: Bolton</td>\n",
       "      <td>NaN</td>\n",
       "    </tr>\n",
       "  </tbody>\n",
       "</table>\n",
       "</div>"
      ],
      "text/plain": [
       "                  NaN Filter          Band Lens Magnitude   Flux [mJy]  \\\n",
       "0                                                                        \n",
       "ACS/WFC (WFC1)  F814W      I  18.65 ± 0.03            NaN  1.71 ± 0.06   \n",
       "WFPC2 (WF3)     F606W      V           NaN            NaN          NaN   \n",
       "\n",
       "                   Reff [″] axis ratio (AB) PA [° E of N]  \\\n",
       "0                                                           \n",
       "ACS/WFC (WFC1)  0.83 ± 0.01      27.3 ± 0.1           NaN   \n",
       "WFPC2 (WF3)             NaN             NaN           NaN   \n",
       "\n",
       "                              Source Magnitude Program Observations  \n",
       "0                                                                    \n",
       "ACS/WFC (WFC1)  HST Program 10886 — PI: Bolton                  NaN  \n",
       "WFPC2 (WF3)     HST Program 10886 — PI: Bolton                  NaN  "
      ]
     },
     "execution_count": 220,
     "metadata": {},
     "output_type": "execute_result"
    }
   ],
   "source": [
    "hst_df = pick_table('HST').set_index(0)\n",
    "columns_hst = hst_df.iloc[0]\n",
    "\n",
    "hst_df.columns = list(columns_hst)\n",
    "hst_df = hst_df.iloc[1:]\n",
    "hst_df"
   ]
  },
  {
   "cell_type": "code",
   "execution_count": 223,
   "metadata": {},
   "outputs": [
    {
     "name": "stderr",
     "output_type": "stream",
     "text": [
      "/usr/local/lib/python3.6/dist-packages/ipykernel_launcher.py:3: FutureWarning: elementwise comparison failed; returning scalar instead, but in the future will perform elementwise comparison\n",
      "  This is separate from the ipykernel package so we can avoid doing imports until\n"
     ]
    },
    {
     "data": {
      "text/html": [
       "<div>\n",
       "<style scoped>\n",
       "    .dataframe tbody tr th:only-of-type {\n",
       "        vertical-align: middle;\n",
       "    }\n",
       "\n",
       "    .dataframe tbody tr th {\n",
       "        vertical-align: top;\n",
       "    }\n",
       "\n",
       "    .dataframe thead th {\n",
       "        text-align: right;\n",
       "    }\n",
       "</style>\n",
       "<table border=\"1\" class=\"dataframe\">\n",
       "  <thead>\n",
       "    <tr style=\"text-align: right;\">\n",
       "      <th></th>\n",
       "      <th>nan</th>\n",
       "      <th>Filter</th>\n",
       "      <th>Band</th>\n",
       "      <th>Flux [mJy]</th>\n",
       "      <th>Source Magnitude</th>\n",
       "      <th>ref (arcsec)</th>\n",
       "      <th>ref (arcsec)_err</th>\n",
       "      <th>axis_ratio (AB)</th>\n",
       "      <th>axis_ratio (AB)_err</th>\n",
       "    </tr>\n",
       "    <tr>\n",
       "      <th>0</th>\n",
       "      <th></th>\n",
       "      <th></th>\n",
       "      <th></th>\n",
       "      <th></th>\n",
       "      <th></th>\n",
       "      <th></th>\n",
       "      <th></th>\n",
       "      <th></th>\n",
       "      <th></th>\n",
       "    </tr>\n",
       "  </thead>\n",
       "  <tbody>\n",
       "    <tr>\n",
       "      <th>ACS/WFC (WFC1)</th>\n",
       "      <td>F814W</td>\n",
       "      <td>I</td>\n",
       "      <td>18.65 ± 0.03</td>\n",
       "      <td>1.71 ± 0.06</td>\n",
       "      <td>HST Program 10886 — PI: Bolton</td>\n",
       "      <td>0.83</td>\n",
       "      <td>0.01</td>\n",
       "      <td>27.3</td>\n",
       "      <td>0.1</td>\n",
       "    </tr>\n",
       "    <tr>\n",
       "      <th>WFPC2 (WF3)</th>\n",
       "      <td>F606W</td>\n",
       "      <td>V</td>\n",
       "      <td>NaN</td>\n",
       "      <td>NaN</td>\n",
       "      <td>HST Program 10886 — PI: Bolton</td>\n",
       "      <td>NaN</td>\n",
       "      <td>NaN</td>\n",
       "      <td>NaN</td>\n",
       "      <td>NaN</td>\n",
       "    </tr>\n",
       "  </tbody>\n",
       "</table>\n",
       "</div>"
      ],
      "text/plain": [
       "                  NaN Filter          Band   Flux [mJy]  \\\n",
       "0                                                         \n",
       "ACS/WFC (WFC1)  F814W      I  18.65 ± 0.03  1.71 ± 0.06   \n",
       "WFPC2 (WF3)     F606W      V           NaN          NaN   \n",
       "\n",
       "                              Source Magnitude ref (arcsec) ref (arcsec)_err  \\\n",
       "0                                                                              \n",
       "ACS/WFC (WFC1)  HST Program 10886 — PI: Bolton        0.83              0.01   \n",
       "WFPC2 (WF3)     HST Program 10886 — PI: Bolton          NaN              NaN   \n",
       "\n",
       "               axis_ratio (AB) axis_ratio (AB)_err  \n",
       "0                                                   \n",
       "ACS/WFC (WFC1)           27.3                  0.1  \n",
       "WFPC2 (WF3)                NaN                 NaN  "
      ]
     },
     "execution_count": 223,
     "metadata": {},
     "output_type": "execute_result"
    }
   ],
   "source": [
    "flux()"
   ]
  },
  {
   "cell_type": "markdown",
   "metadata": {},
   "source": [
    "### Redshift table (18, 19)"
   ]
  },
  {
   "cell_type": "code",
   "execution_count": 224,
   "metadata": {},
   "outputs": [],
   "source": [
    "def redshift():\n",
    "\n",
    "    z_lens_df = pick_table('Lens Plane Images:')\n",
    "    if z_lens_df is not None:\n",
    "        z_lens_df = z_lens_df['Lens Plane Images:']\n",
    "        #z_lens_df = z_lens_df.set_index('No.')\n",
    "    else:\n",
    "        z_lens_df = pd.DataFrame()\n",
    "\n",
    "    z_source_df = pick_table('Source Plane Images:')\n",
    "    if z_source_df is not None:\n",
    "        z_source_df = z_source_df['Source Plane Images:']\n",
    "        #z_source_df = z_source_df.set_index('No.')\n",
    "    else:\n",
    "        z_source_df = pd.DataFrame()\n",
    "\n",
    "    z_df = pd.concat([z_lens_df, z_source_df], keys=['Lens', 'Source'])\n",
    "    drop_nans(z_df)\n",
    "\n",
    "    return z_df"
   ]
  },
  {
   "cell_type": "code",
   "execution_count": 230,
   "metadata": {},
   "outputs": [
    {
     "data": {
      "text/html": [
       "<div>\n",
       "<style scoped>\n",
       "    .dataframe tbody tr th:only-of-type {\n",
       "        vertical-align: middle;\n",
       "    }\n",
       "\n",
       "    .dataframe tbody tr th {\n",
       "        vertical-align: top;\n",
       "    }\n",
       "\n",
       "    .dataframe thead th {\n",
       "        text-align: right;\n",
       "    }\n",
       "</style>\n",
       "<table border=\"1\" class=\"dataframe\">\n",
       "  <thead>\n",
       "    <tr style=\"text-align: right;\">\n",
       "      <th></th>\n",
       "      <th>0</th>\n",
       "      <th>1</th>\n",
       "      <th>2</th>\n",
       "      <th>3</th>\n",
       "      <th>4</th>\n",
       "      <th>5</th>\n",
       "    </tr>\n",
       "  </thead>\n",
       "  <tbody>\n",
       "    <tr>\n",
       "      <th>0</th>\n",
       "      <td>Lens Plane Images:</td>\n",
       "      <td>NaN</td>\n",
       "      <td>NaN</td>\n",
       "      <td>NaN</td>\n",
       "      <td>NaN</td>\n",
       "      <td>NaN</td>\n",
       "    </tr>\n",
       "    <tr>\n",
       "      <th>1</th>\n",
       "      <td>No.</td>\n",
       "      <td>Label</td>\n",
       "      <td>z</td>\n",
       "      <td>z_err</td>\n",
       "      <td>Flux</td>\n",
       "      <td>Mag</td>\n",
       "    </tr>\n",
       "    <tr>\n",
       "      <th>2</th>\n",
       "      <td>1</td>\n",
       "      <td>NaN</td>\n",
       "      <td>0.4400</td>\n",
       "      <td>0.0001</td>\n",
       "      <td>NaN</td>\n",
       "      <td>NaN</td>\n",
       "    </tr>\n",
       "  </tbody>\n",
       "</table>\n",
       "</div>"
      ],
      "text/plain": [
       "                    0      1       2       3     4    5\n",
       "0  Lens Plane Images:    NaN     NaN     NaN   NaN  NaN\n",
       "1                 No.  Label       z   z_err  Flux  Mag\n",
       "2                   1    NaN  0.4400  0.0001   NaN  NaN"
      ]
     },
     "execution_count": 230,
     "metadata": {},
     "output_type": "execute_result"
    }
   ],
   "source": [
    "z_lens_df = pick_table('Lens Plane Images:')\n",
    "z_lens_df"
   ]
  },
  {
   "cell_type": "code",
   "execution_count": 225,
   "metadata": {},
   "outputs": [
    {
     "ename": "KeyError",
     "evalue": "'Lens Plane Images:'",
     "output_type": "error",
     "traceback": [
      "\u001b[0;31m---------------------------------------------------------------------------\u001b[0m",
      "\u001b[0;31mTypeError\u001b[0m                                 Traceback (most recent call last)",
      "\u001b[0;32mpandas/_libs/index.pyx\u001b[0m in \u001b[0;36mpandas._libs.index.IndexEngine.get_loc\u001b[0;34m()\u001b[0m\n",
      "\u001b[0;32mpandas/_libs/hashtable_class_helper.pxi\u001b[0m in \u001b[0;36mpandas._libs.hashtable.Int64HashTable.get_item\u001b[0;34m()\u001b[0m\n",
      "\u001b[0;31mTypeError\u001b[0m: an integer is required",
      "\nDuring handling of the above exception, another exception occurred:\n",
      "\u001b[0;31mKeyError\u001b[0m                                  Traceback (most recent call last)",
      "\u001b[0;32m/usr/local/lib/python3.6/dist-packages/pandas/core/indexes/base.py\u001b[0m in \u001b[0;36mget_loc\u001b[0;34m(self, key, method, tolerance)\u001b[0m\n\u001b[1;32m   3077\u001b[0m             \u001b[0;32mtry\u001b[0m\u001b[0;34m:\u001b[0m\u001b[0;34m\u001b[0m\u001b[0;34m\u001b[0m\u001b[0m\n\u001b[0;32m-> 3078\u001b[0;31m                 \u001b[0;32mreturn\u001b[0m \u001b[0mself\u001b[0m\u001b[0;34m.\u001b[0m\u001b[0m_engine\u001b[0m\u001b[0;34m.\u001b[0m\u001b[0mget_loc\u001b[0m\u001b[0;34m(\u001b[0m\u001b[0mkey\u001b[0m\u001b[0;34m)\u001b[0m\u001b[0;34m\u001b[0m\u001b[0;34m\u001b[0m\u001b[0m\n\u001b[0m\u001b[1;32m   3079\u001b[0m             \u001b[0;32mexcept\u001b[0m \u001b[0mKeyError\u001b[0m\u001b[0;34m:\u001b[0m\u001b[0;34m\u001b[0m\u001b[0;34m\u001b[0m\u001b[0m\n",
      "\u001b[0;32mpandas/_libs/index.pyx\u001b[0m in \u001b[0;36mpandas._libs.index.IndexEngine.get_loc\u001b[0;34m()\u001b[0m\n",
      "\u001b[0;32mpandas/_libs/index.pyx\u001b[0m in \u001b[0;36mpandas._libs.index.IndexEngine.get_loc\u001b[0;34m()\u001b[0m\n",
      "\u001b[0;31mKeyError\u001b[0m: 'Lens Plane Images:'",
      "\nDuring handling of the above exception, another exception occurred:\n",
      "\u001b[0;31mTypeError\u001b[0m                                 Traceback (most recent call last)",
      "\u001b[0;32mpandas/_libs/index.pyx\u001b[0m in \u001b[0;36mpandas._libs.index.IndexEngine.get_loc\u001b[0;34m()\u001b[0m\n",
      "\u001b[0;32mpandas/_libs/hashtable_class_helper.pxi\u001b[0m in \u001b[0;36mpandas._libs.hashtable.Int64HashTable.get_item\u001b[0;34m()\u001b[0m\n",
      "\u001b[0;31mTypeError\u001b[0m: an integer is required",
      "\nDuring handling of the above exception, another exception occurred:\n",
      "\u001b[0;31mKeyError\u001b[0m                                  Traceback (most recent call last)",
      "\u001b[0;32m<ipython-input-225-a169248d2110>\u001b[0m in \u001b[0;36m<module>\u001b[0;34m()\u001b[0m\n\u001b[0;32m----> 1\u001b[0;31m \u001b[0mredshift\u001b[0m\u001b[0;34m(\u001b[0m\u001b[0;34m)\u001b[0m\u001b[0;34m\u001b[0m\u001b[0;34m\u001b[0m\u001b[0m\n\u001b[0m",
      "\u001b[0;32m<ipython-input-224-24c9b5965767>\u001b[0m in \u001b[0;36mredshift\u001b[0;34m()\u001b[0m\n\u001b[1;32m      3\u001b[0m     \u001b[0mz_lens_df\u001b[0m \u001b[0;34m=\u001b[0m \u001b[0mpick_table\u001b[0m\u001b[0;34m(\u001b[0m\u001b[0;34m'Lens Plane Images:'\u001b[0m\u001b[0;34m)\u001b[0m\u001b[0;34m\u001b[0m\u001b[0;34m\u001b[0m\u001b[0m\n\u001b[1;32m      4\u001b[0m     \u001b[0;32mif\u001b[0m \u001b[0mz_lens_df\u001b[0m \u001b[0;32mis\u001b[0m \u001b[0;32mnot\u001b[0m \u001b[0;32mNone\u001b[0m\u001b[0;34m:\u001b[0m\u001b[0;34m\u001b[0m\u001b[0;34m\u001b[0m\u001b[0m\n\u001b[0;32m----> 5\u001b[0;31m         \u001b[0mz_lens_df\u001b[0m \u001b[0;34m=\u001b[0m \u001b[0mz_lens_df\u001b[0m\u001b[0;34m[\u001b[0m\u001b[0;34m'Lens Plane Images:'\u001b[0m\u001b[0;34m]\u001b[0m\u001b[0;34m\u001b[0m\u001b[0;34m\u001b[0m\u001b[0m\n\u001b[0m\u001b[1;32m      6\u001b[0m         \u001b[0;31m#z_lens_df = z_lens_df.set_index('No.')\u001b[0m\u001b[0;34m\u001b[0m\u001b[0;34m\u001b[0m\u001b[0;34m\u001b[0m\u001b[0m\n\u001b[1;32m      7\u001b[0m     \u001b[0;32melse\u001b[0m\u001b[0;34m:\u001b[0m\u001b[0;34m\u001b[0m\u001b[0;34m\u001b[0m\u001b[0m\n",
      "\u001b[0;32m/usr/local/lib/python3.6/dist-packages/pandas/core/frame.py\u001b[0m in \u001b[0;36m__getitem__\u001b[0;34m(self, key)\u001b[0m\n\u001b[1;32m   2686\u001b[0m             \u001b[0;32mreturn\u001b[0m \u001b[0mself\u001b[0m\u001b[0;34m.\u001b[0m\u001b[0m_getitem_multilevel\u001b[0m\u001b[0;34m(\u001b[0m\u001b[0mkey\u001b[0m\u001b[0;34m)\u001b[0m\u001b[0;34m\u001b[0m\u001b[0;34m\u001b[0m\u001b[0m\n\u001b[1;32m   2687\u001b[0m         \u001b[0;32melse\u001b[0m\u001b[0;34m:\u001b[0m\u001b[0;34m\u001b[0m\u001b[0;34m\u001b[0m\u001b[0m\n\u001b[0;32m-> 2688\u001b[0;31m             \u001b[0;32mreturn\u001b[0m \u001b[0mself\u001b[0m\u001b[0;34m.\u001b[0m\u001b[0m_getitem_column\u001b[0m\u001b[0;34m(\u001b[0m\u001b[0mkey\u001b[0m\u001b[0;34m)\u001b[0m\u001b[0;34m\u001b[0m\u001b[0;34m\u001b[0m\u001b[0m\n\u001b[0m\u001b[1;32m   2689\u001b[0m \u001b[0;34m\u001b[0m\u001b[0m\n\u001b[1;32m   2690\u001b[0m     \u001b[0;32mdef\u001b[0m \u001b[0m_getitem_column\u001b[0m\u001b[0;34m(\u001b[0m\u001b[0mself\u001b[0m\u001b[0;34m,\u001b[0m \u001b[0mkey\u001b[0m\u001b[0;34m)\u001b[0m\u001b[0;34m:\u001b[0m\u001b[0;34m\u001b[0m\u001b[0;34m\u001b[0m\u001b[0m\n",
      "\u001b[0;32m/usr/local/lib/python3.6/dist-packages/pandas/core/frame.py\u001b[0m in \u001b[0;36m_getitem_column\u001b[0;34m(self, key)\u001b[0m\n\u001b[1;32m   2693\u001b[0m         \u001b[0;31m# get column\u001b[0m\u001b[0;34m\u001b[0m\u001b[0;34m\u001b[0m\u001b[0;34m\u001b[0m\u001b[0m\n\u001b[1;32m   2694\u001b[0m         \u001b[0;32mif\u001b[0m \u001b[0mself\u001b[0m\u001b[0;34m.\u001b[0m\u001b[0mcolumns\u001b[0m\u001b[0;34m.\u001b[0m\u001b[0mis_unique\u001b[0m\u001b[0;34m:\u001b[0m\u001b[0;34m\u001b[0m\u001b[0;34m\u001b[0m\u001b[0m\n\u001b[0;32m-> 2695\u001b[0;31m             \u001b[0;32mreturn\u001b[0m \u001b[0mself\u001b[0m\u001b[0;34m.\u001b[0m\u001b[0m_get_item_cache\u001b[0m\u001b[0;34m(\u001b[0m\u001b[0mkey\u001b[0m\u001b[0;34m)\u001b[0m\u001b[0;34m\u001b[0m\u001b[0;34m\u001b[0m\u001b[0m\n\u001b[0m\u001b[1;32m   2696\u001b[0m \u001b[0;34m\u001b[0m\u001b[0m\n\u001b[1;32m   2697\u001b[0m         \u001b[0;31m# duplicate columns & possible reduce dimensionality\u001b[0m\u001b[0;34m\u001b[0m\u001b[0;34m\u001b[0m\u001b[0;34m\u001b[0m\u001b[0m\n",
      "\u001b[0;32m/usr/local/lib/python3.6/dist-packages/pandas/core/generic.py\u001b[0m in \u001b[0;36m_get_item_cache\u001b[0;34m(self, item)\u001b[0m\n\u001b[1;32m   2487\u001b[0m         \u001b[0mres\u001b[0m \u001b[0;34m=\u001b[0m \u001b[0mcache\u001b[0m\u001b[0;34m.\u001b[0m\u001b[0mget\u001b[0m\u001b[0;34m(\u001b[0m\u001b[0mitem\u001b[0m\u001b[0;34m)\u001b[0m\u001b[0;34m\u001b[0m\u001b[0;34m\u001b[0m\u001b[0m\n\u001b[1;32m   2488\u001b[0m         \u001b[0;32mif\u001b[0m \u001b[0mres\u001b[0m \u001b[0;32mis\u001b[0m \u001b[0;32mNone\u001b[0m\u001b[0;34m:\u001b[0m\u001b[0;34m\u001b[0m\u001b[0;34m\u001b[0m\u001b[0m\n\u001b[0;32m-> 2489\u001b[0;31m             \u001b[0mvalues\u001b[0m \u001b[0;34m=\u001b[0m \u001b[0mself\u001b[0m\u001b[0;34m.\u001b[0m\u001b[0m_data\u001b[0m\u001b[0;34m.\u001b[0m\u001b[0mget\u001b[0m\u001b[0;34m(\u001b[0m\u001b[0mitem\u001b[0m\u001b[0;34m)\u001b[0m\u001b[0;34m\u001b[0m\u001b[0;34m\u001b[0m\u001b[0m\n\u001b[0m\u001b[1;32m   2490\u001b[0m             \u001b[0mres\u001b[0m \u001b[0;34m=\u001b[0m \u001b[0mself\u001b[0m\u001b[0;34m.\u001b[0m\u001b[0m_box_item_values\u001b[0m\u001b[0;34m(\u001b[0m\u001b[0mitem\u001b[0m\u001b[0;34m,\u001b[0m \u001b[0mvalues\u001b[0m\u001b[0;34m)\u001b[0m\u001b[0;34m\u001b[0m\u001b[0;34m\u001b[0m\u001b[0m\n\u001b[1;32m   2491\u001b[0m             \u001b[0mcache\u001b[0m\u001b[0;34m[\u001b[0m\u001b[0mitem\u001b[0m\u001b[0;34m]\u001b[0m \u001b[0;34m=\u001b[0m \u001b[0mres\u001b[0m\u001b[0;34m\u001b[0m\u001b[0;34m\u001b[0m\u001b[0m\n",
      "\u001b[0;32m/usr/local/lib/python3.6/dist-packages/pandas/core/internals.py\u001b[0m in \u001b[0;36mget\u001b[0;34m(self, item, fastpath)\u001b[0m\n\u001b[1;32m   4113\u001b[0m \u001b[0;34m\u001b[0m\u001b[0m\n\u001b[1;32m   4114\u001b[0m             \u001b[0;32mif\u001b[0m \u001b[0;32mnot\u001b[0m \u001b[0misna\u001b[0m\u001b[0;34m(\u001b[0m\u001b[0mitem\u001b[0m\u001b[0;34m)\u001b[0m\u001b[0;34m:\u001b[0m\u001b[0;34m\u001b[0m\u001b[0;34m\u001b[0m\u001b[0m\n\u001b[0;32m-> 4115\u001b[0;31m                 \u001b[0mloc\u001b[0m \u001b[0;34m=\u001b[0m \u001b[0mself\u001b[0m\u001b[0;34m.\u001b[0m\u001b[0mitems\u001b[0m\u001b[0;34m.\u001b[0m\u001b[0mget_loc\u001b[0m\u001b[0;34m(\u001b[0m\u001b[0mitem\u001b[0m\u001b[0;34m)\u001b[0m\u001b[0;34m\u001b[0m\u001b[0;34m\u001b[0m\u001b[0m\n\u001b[0m\u001b[1;32m   4116\u001b[0m             \u001b[0;32melse\u001b[0m\u001b[0;34m:\u001b[0m\u001b[0;34m\u001b[0m\u001b[0;34m\u001b[0m\u001b[0m\n\u001b[1;32m   4117\u001b[0m                 \u001b[0mindexer\u001b[0m \u001b[0;34m=\u001b[0m \u001b[0mnp\u001b[0m\u001b[0;34m.\u001b[0m\u001b[0marange\u001b[0m\u001b[0;34m(\u001b[0m\u001b[0mlen\u001b[0m\u001b[0;34m(\u001b[0m\u001b[0mself\u001b[0m\u001b[0;34m.\u001b[0m\u001b[0mitems\u001b[0m\u001b[0;34m)\u001b[0m\u001b[0;34m)\u001b[0m\u001b[0;34m[\u001b[0m\u001b[0misna\u001b[0m\u001b[0;34m(\u001b[0m\u001b[0mself\u001b[0m\u001b[0;34m.\u001b[0m\u001b[0mitems\u001b[0m\u001b[0;34m)\u001b[0m\u001b[0;34m]\u001b[0m\u001b[0;34m\u001b[0m\u001b[0;34m\u001b[0m\u001b[0m\n",
      "\u001b[0;32m/usr/local/lib/python3.6/dist-packages/pandas/core/indexes/base.py\u001b[0m in \u001b[0;36mget_loc\u001b[0;34m(self, key, method, tolerance)\u001b[0m\n\u001b[1;32m   3078\u001b[0m                 \u001b[0;32mreturn\u001b[0m \u001b[0mself\u001b[0m\u001b[0;34m.\u001b[0m\u001b[0m_engine\u001b[0m\u001b[0;34m.\u001b[0m\u001b[0mget_loc\u001b[0m\u001b[0;34m(\u001b[0m\u001b[0mkey\u001b[0m\u001b[0;34m)\u001b[0m\u001b[0;34m\u001b[0m\u001b[0;34m\u001b[0m\u001b[0m\n\u001b[1;32m   3079\u001b[0m             \u001b[0;32mexcept\u001b[0m \u001b[0mKeyError\u001b[0m\u001b[0;34m:\u001b[0m\u001b[0;34m\u001b[0m\u001b[0;34m\u001b[0m\u001b[0m\n\u001b[0;32m-> 3080\u001b[0;31m                 \u001b[0;32mreturn\u001b[0m \u001b[0mself\u001b[0m\u001b[0;34m.\u001b[0m\u001b[0m_engine\u001b[0m\u001b[0;34m.\u001b[0m\u001b[0mget_loc\u001b[0m\u001b[0;34m(\u001b[0m\u001b[0mself\u001b[0m\u001b[0;34m.\u001b[0m\u001b[0m_maybe_cast_indexer\u001b[0m\u001b[0;34m(\u001b[0m\u001b[0mkey\u001b[0m\u001b[0;34m)\u001b[0m\u001b[0;34m)\u001b[0m\u001b[0;34m\u001b[0m\u001b[0;34m\u001b[0m\u001b[0m\n\u001b[0m\u001b[1;32m   3081\u001b[0m \u001b[0;34m\u001b[0m\u001b[0m\n\u001b[1;32m   3082\u001b[0m         \u001b[0mindexer\u001b[0m \u001b[0;34m=\u001b[0m \u001b[0mself\u001b[0m\u001b[0;34m.\u001b[0m\u001b[0mget_indexer\u001b[0m\u001b[0;34m(\u001b[0m\u001b[0;34m[\u001b[0m\u001b[0mkey\u001b[0m\u001b[0;34m]\u001b[0m\u001b[0;34m,\u001b[0m \u001b[0mmethod\u001b[0m\u001b[0;34m=\u001b[0m\u001b[0mmethod\u001b[0m\u001b[0;34m,\u001b[0m \u001b[0mtolerance\u001b[0m\u001b[0;34m=\u001b[0m\u001b[0mtolerance\u001b[0m\u001b[0;34m)\u001b[0m\u001b[0;34m\u001b[0m\u001b[0;34m\u001b[0m\u001b[0m\n",
      "\u001b[0;32mpandas/_libs/index.pyx\u001b[0m in \u001b[0;36mpandas._libs.index.IndexEngine.get_loc\u001b[0;34m()\u001b[0m\n",
      "\u001b[0;32mpandas/_libs/index.pyx\u001b[0m in \u001b[0;36mpandas._libs.index.IndexEngine.get_loc\u001b[0;34m()\u001b[0m\n",
      "\u001b[0;31mKeyError\u001b[0m: 'Lens Plane Images:'"
     ]
    }
   ],
   "source": [
    "redshift()"
   ]
  },
  {
   "cell_type": "markdown",
   "metadata": {},
   "source": [
    "### Time delay table (21)"
   ]
  },
  {
   "cell_type": "code",
   "execution_count": null,
   "metadata": {},
   "outputs": [],
   "source": [
    "def time():\n",
    "    time_df = pick_table('Time Delays:')\n",
    "    return time_df"
   ]
  },
  {
   "cell_type": "code",
   "execution_count": null,
   "metadata": {},
   "outputs": [],
   "source": [
    "times = list(time()['Time Delays:']['Time Delay (days)'])"
   ]
  },
  {
   "cell_type": "code",
   "execution_count": null,
   "metadata": {},
   "outputs": [],
   "source": [
    "if time() is not None and not np.isnan(time()['Time Delays:'].values).all():\n",
    "    save(time_df, 'time_d.csv')"
   ]
  },
  {
   "cell_type": "markdown",
   "metadata": {},
   "source": [
    "### References table (14)"
   ]
  },
  {
   "cell_type": "code",
   "execution_count": null,
   "metadata": {},
   "outputs": [],
   "source": [
    "def refs():\n",
    "    soup = BeautifulSoup(open(\"/home/viviane/GravLens/Scraping/masterlens/masterlens_41.html\"), \"html.parser\")\n",
    "    \n",
    "    for table in soup.find_all('table'):\n",
    "    # links = [np.where(tag.has_attr('href'),tag.get('href'),\"no link\") for tag in tb.find_all('a')]\n",
    "\n",
    "        links = get_table_links(table)\n",
    "        #print(links)\n",
    "        \n",
    "        if len(links) >= 2 and 'citation' in links[1]:\n",
    "            papers = links[1::2]\n",
    "    \n",
    "    ref_df = pick_table('Discovery\\xa0Paper')\n",
    "    ref_df = ref_df.drop('Unnamed: 0', axis=1)\n",
    "    \n",
    "    ref_df['Links'] = papers\n",
    "    ref_df.columns = ['Author', 'Title', 'Discovery', 'Links']\n",
    "    return ref_df"
   ]
  },
  {
   "cell_type": "code",
   "execution_count": null,
   "metadata": {},
   "outputs": [],
   "source": [
    "refs()"
   ]
  },
  {
   "cell_type": "markdown",
   "metadata": {},
   "source": [
    "### Main code"
   ]
  },
  {
   "cell_type": "code",
   "execution_count": null,
   "metadata": {},
   "outputs": [],
   "source": [
    "system_df = system()\n",
    "coords_df = coordinates()\n",
    "flux_df = flux()\n",
    "z_df = redshift()\n",
    "ref_df = refs()\n",
    "external_df = external()"
   ]
  },
  {
   "cell_type": "code",
   "execution_count": null,
   "metadata": {},
   "outputs": [],
   "source": [
    "save(system_df, 'system.csv')\n",
    "save(coords_df, 'coordinates.csv')\n",
    "save(flux_df, 'flux.csv', i=True)\n",
    "save(z_df, 'redshift.csv', i=True)\n",
    "save(ref_df, 'references.csv')\n",
    "save(external_df, 'external.csv',i=True)"
   ]
  },
  {
   "cell_type": "code",
   "execution_count": null,
   "metadata": {},
   "outputs": [],
   "source": [
    "pd.read_csv('results/external.csv')"
   ]
  },
  {
   "cell_type": "code",
   "execution_count": null,
   "metadata": {},
   "outputs": [],
   "source": []
  },
  {
   "cell_type": "code",
   "execution_count": null,
   "metadata": {},
   "outputs": [],
   "source": []
  },
  {
   "cell_type": "code",
   "execution_count": null,
   "metadata": {},
   "outputs": [],
   "source": []
  }
 ],
 "metadata": {
  "kernelspec": {
   "display_name": "Python 3",
   "language": "python",
   "name": "python3"
  },
  "language_info": {
   "codemirror_mode": {
    "name": "ipython",
    "version": 3
   },
   "file_extension": ".py",
   "mimetype": "text/x-python",
   "name": "python",
   "nbconvert_exporter": "python",
   "pygments_lexer": "ipython3",
   "version": "3.6.8"
  }
 },
 "nbformat": 4,
 "nbformat_minor": 2
}
