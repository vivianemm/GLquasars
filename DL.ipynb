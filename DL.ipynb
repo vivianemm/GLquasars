{
 "cells": [
  {
   "cell_type": "code",
   "execution_count": null,
   "metadata": {},
   "outputs": [],
   "source": [
    "import pandas as pd\n",
    "import numpy as np\n",
    "import matplotlib.pyplot as plt\n",
    "from astropy.io import fits\n",
    "from astropy.visualization import MinMaxInterval\n",
    "from sklearn.model_selection import train_test_split\n",
    "import matplotlib.pyplot as plt\n",
    "import keras\n",
    "from keras.models import Sequential\n",
    "from keras.layers import Conv2D, Dense, Flatten, MaxPooling2D, Dropout"
   ]
  },
  {
   "cell_type": "markdown",
   "metadata": {},
   "source": [
    "## Reading a FITS file"
   ]
  },
  {
   "cell_type": "code",
   "execution_count": 1,
   "metadata": {},
   "outputs": [
    {
     "ename": "NameError",
     "evalue": "name 'fits' is not defined",
     "output_type": "error",
     "traceback": [
      "\u001b[0;31m---------------------------------------------------------------------------\u001b[0m",
      "\u001b[0;31mNameError\u001b[0m                                 Traceback (most recent call last)",
      "\u001b[0;32m<ipython-input-1-33beb369ffc0>\u001b[0m in \u001b[0;36m<module>\u001b[0;34m\u001b[0m\n\u001b[1;32m      1\u001b[0m \u001b[0mimg_path\u001b[0m \u001b[0;34m=\u001b[0m \u001b[0;34m'/home/viviane/BLF_training/Images/EUC_J/imageEUC_J-200001.fits'\u001b[0m\u001b[0;34m\u001b[0m\u001b[0;34m\u001b[0m\u001b[0m\n\u001b[0;32m----> 2\u001b[0;31m \u001b[0mfits\u001b[0m\u001b[0;34m.\u001b[0m\u001b[0minfo\u001b[0m\u001b[0;34m(\u001b[0m\u001b[0mimg_path\u001b[0m\u001b[0;34m)\u001b[0m\u001b[0;34m\u001b[0m\u001b[0;34m\u001b[0m\u001b[0m\n\u001b[0m",
      "\u001b[0;31mNameError\u001b[0m: name 'fits' is not defined"
     ]
    }
   ],
   "source": [
    "img_path = '/home/viviane/BLF_training/Images/EUC_J/imageEUC_J-200001.fits'\n",
    "fits.info(img_path)"
   ]
  },
  {
   "cell_type": "code",
   "execution_count": 3,
   "metadata": {},
   "outputs": [
    {
     "name": "stdout",
     "output_type": "stream",
     "text": [
      "[[-9.76715930e-12  5.15664941e-12  1.09206437e-11 ... -5.59254899e-12\n",
      "  -3.11408560e-12  4.89244192e-12]\n",
      " [-1.53540358e-11  1.29798325e-11 -2.45361175e-12 ...  7.96089583e-12\n",
      "  -1.83813902e-11 -2.78579763e-12]\n",
      " [ 1.88017896e-12  9.41518478e-12  6.43359443e-13 ...  9.76120226e-13\n",
      "   5.17626610e-12 -4.57186676e-12]\n",
      " ...\n",
      " [-6.50529934e-12  1.61818284e-11  7.76066971e-12 ... -5.27057131e-12\n",
      "   5.44669128e-12  9.69319460e-13]\n",
      " [ 1.20240528e-11 -1.82952351e-12  2.04764972e-11 ...  1.14301635e-12\n",
      "   1.23559182e-12 -1.11187286e-12]\n",
      " [ 2.80688558e-12 -8.62631754e-12  4.48427536e-12 ...  4.49563910e-12\n",
      "   4.55615884e-12  3.62280019e-12]]\n"
     ]
    }
   ],
   "source": [
    "### using fits.getdata() --> np array\n",
    "img_data = fits.getdata(img_path, ext=0)\n",
    "print(img_data)"
   ]
  },
  {
   "cell_type": "code",
   "execution_count": 4,
   "metadata": {},
   "outputs": [
    {
     "data": {
      "text/plain": [
       "<matplotlib.colorbar.Colorbar at 0x7f0e2a051ed0>"
      ]
     },
     "execution_count": 4,
     "metadata": {},
     "output_type": "execute_result"
    },
    {
     "data": {
      "image/png": "[encoded data removed]",
      "text/plain": [
       "<Figure size 432x288 with 2 Axes>"
      ]
     },
     "metadata": {
      "needs_background": "light"
     },
     "output_type": "display_data"
    }
   ],
   "source": [
    "plt.figure()\n",
    "plt.imshow(img_data, cmap='gray')\n",
    "plt.colorbar()"
   ]
  },
  {
   "cell_type": "code",
   "execution_count": 5,
   "metadata": {},
   "outputs": [
    {
     "data": {
      "text/plain": [
       "SIMPLE  =                    T / file does conform to FITS standard             \n",
       "BITPIX  =                  -32 / number of bits per data pixel                  \n",
       "NAXIS   =                    2 / number of data axes                            \n",
       "NAXIS1  =                   66 / length of data axis 1                          \n",
       "NAXIS2  =                   66 / length of data axis 2                          \n",
       "EXTEND  =                    T / FITS dataset may contain extensions            \n",
       "COMMENT   FITS (Flexible Image Transport System) format is defined in 'Astronomy\n",
       "COMMENT   and Astrophysics', volume 376, page 359; bibcode: 2001A&A...376..359H \n",
       "WCSAXES =                    2 / number of World Coordinate System axes         \n",
       "CRPIX1  =                 33.5 / x-coordinate of reference pixel                \n",
       "CRPIX2  =                 33.5 / y-coordinate of reference pixel                \n",
       "CRVAL1  =                   0. / first axis value at reference pixel            \n",
       "CRVAL2  =                   0. / second axis value at reference pixel           \n",
       "CTYPE1  = 'RA---TAN'           / the coordinate type for the first axis         \n",
       "CTYPE2  = 'DEC--TAN'           / the coordinate type for the second axis        \n",
       "CUNIT1  = 'deg     '           / the coordinate unit for the first axis         \n",
       "CUNIT2  = 'deg     '           / the coordinate unit for the second axis        \n",
       "CDELT1  = -8.33333260176475E-05 / partial of first axis coordinate w.r.t. x     \n",
       "CDELT2  = 8.33333260176475E-05 / partial of second axis coordinate w.r.t. y     \n",
       "CROTA2  =                   0.                                                  \n",
       "CD1_1   = -8.33333260176475E-05 / partial of first axis coordinate w.r.t. x     \n",
       "CD1_2   =                   0. / partial of first axis coordinate w.r.t. y      \n",
       "CD2_1   =                   0. / partial of second axis coordinate w.r.t. x     \n",
       "CD2_2   = 8.33333260176475E-05 / partial of second axis coordinate w.r.t. y     \n",
       "NX      =                   66                                                  \n",
       "NY      =                   66                                                  \n",
       "HIERARCH range x = 9.59931110173784E-05 / radians                               \n",
       "RA      = 3.46759270735022E-07 / radians                                        \n",
       "DEC     = 1.38897332534521E-07 / radians                                        "
      ]
     },
     "execution_count": 5,
     "metadata": {},
     "output_type": "execute_result"
    }
   ],
   "source": [
    "# or using fits.open()  --> HDU object\n",
    "hdul = fits.open(img_path)\n",
    "img_data2 = hdul[0].data  # nparray\n",
    "hdul[0].header\n",
    "#hdul.close()"
   ]
  },
  {
   "cell_type": "markdown",
   "metadata": {},
   "source": [
    "## Creating a network"
   ]
  },
  {
   "cell_type": "code",
   "execution_count": 9,
   "metadata": {},
   "outputs": [],
   "source": [
    "def get_data():\n",
    "    \n",
    "    blf = pd.read_csv('blf_train.csv')\n",
    "\n",
    "    imgs = []\n",
    "    for path in blf['img_path_H']:\n",
    "        img_data = fits.getdata(path, ext=0)  # np array\n",
    "        #img_data *= 1/img_data.max()\n",
    "        imgs.append(img_data)\n",
    "    imgs = np.array(imgs)\n",
    "\n",
    "    labels = np.array(blf['n_sources'])\n",
    "    \n",
    "    return imgs, labels"
   ]
  },
  {
   "cell_type": "code",
   "execution_count": 130,
   "metadata": {},
   "outputs": [
    {
     "name": "stdout",
     "output_type": "stream",
     "text": [
      "-2.4207513e-11\n",
      "6.66554e-09\n"
     ]
    }
   ],
   "source": [
    "#imgs, labels = get_data()\n",
    "#print(imgs[77].min())\n",
    "#print(imgs[77].max())"
   ]
  },
  {
   "cell_type": "code",
   "execution_count": 136,
   "metadata": {},
   "outputs": [
    {
     "data": {
      "text/plain": [
       "(9, 66, 66, 1)"
      ]
     },
     "execution_count": 136,
     "metadata": {},
     "output_type": "execute_result"
    }
   ],
   "source": [
    "imgs, imgs_test, labels, labels_test = train_test_split(imgs, labels, test_size=0.1, random_state=42)\n",
    "imgs, imgs_val, labels, labels_val = train_test_split(imgs, labels, test_size=0.30, random_state=42)\n",
    "imgs = imgs.reshape(imgs.shape + (1,) )\n",
    "imgs_test = imgs_test.reshape(imgs_test.shape + (1,))\n",
    "imgs_val = imgs_val.reshape(imgs_val.shape + (1,))\n",
    "imgs_test.shape"
   ]
  },
  {
   "cell_type": "code",
   "execution_count": 116,
   "metadata": {},
   "outputs": [],
   "source": [
    "def model():\n",
    "    \n",
    "    model = Sequential()\n",
    "    model.add(Conv2D(32, kernel_size = (3,3), input_shape = (66,66,1), activation = \"relu\"))\n",
    "    model.add(Conv2D(32, kernel_size = (3,3), activation = \"relu\"))\n",
    "    model.add(Conv2D(32, kernel_size = (3,3), activation = \"relu\"))\n",
    "    model.add(Flatten())\n",
    "    model.add(Dense(25, activation = \"relu\"))\n",
    "    model.add(Dense(15, activation = \"relu\"))\n",
    "    model.add(Dense(1, activation = \"sigmoid\"))\n",
    "    \n",
    "    return model"
   ]
  },
  {
   "cell_type": "code",
   "execution_count": 117,
   "metadata": {},
   "outputs": [],
   "source": [
    "modelo = model()"
   ]
  },
  {
   "cell_type": "code",
   "execution_count": 118,
   "metadata": {},
   "outputs": [],
   "source": [
    "#modelo.summary()"
   ]
  },
  {
   "cell_type": "code",
   "execution_count": 119,
   "metadata": {},
   "outputs": [],
   "source": [
    "modelo.compile(loss = \"binary_crossentropy\", optimizer = \"adam\", metrics = [\"accuracy\"])"
   ]
  },
  {
   "cell_type": "code",
   "execution_count": 120,
   "metadata": {},
   "outputs": [
    {
     "name": "stdout",
     "output_type": "stream",
     "text": [
      "Train on 56 samples, validate on 24 samples\n",
      "Epoch 1/30\n",
      "56/56 [==============================] - 2s 28ms/step - loss: 0.6919 - accuracy: 0.4286 - val_loss: 0.6263 - val_accuracy: 0.7917\n",
      "Epoch 2/30\n",
      "56/56 [==============================] - 1s 21ms/step - loss: 0.5704 - accuracy: 0.8929 - val_loss: 0.5387 - val_accuracy: 0.7917\n",
      "Epoch 3/30\n",
      "56/56 [==============================] - 1s 20ms/step - loss: 0.3489 - accuracy: 0.8929 - val_loss: 0.8128 - val_accuracy: 0.7917\n",
      "Epoch 4/30\n",
      "56/56 [==============================] - 1s 20ms/step - loss: 0.4143 - accuracy: 0.8929 - val_loss: 0.5926 - val_accuracy: 0.7917\n",
      "Epoch 5/30\n",
      "56/56 [==============================] - 1s 20ms/step - loss: 0.3532 - accuracy: 0.8929 - val_loss: 0.5129 - val_accuracy: 0.7917\n",
      "Epoch 6/30\n",
      "56/56 [==============================] - 1s 21ms/step - loss: 0.3698 - accuracy: 0.8929 - val_loss: 0.5175 - val_accuracy: 0.7917\n",
      "Epoch 7/30\n",
      "56/56 [==============================] - 1s 20ms/step - loss: 0.3617 - accuracy: 0.8929 - val_loss: 0.5856 - val_accuracy: 0.7917\n",
      "Epoch 8/30\n",
      "56/56 [==============================] - 1s 26ms/step - loss: 0.3484 - accuracy: 0.8929 - val_loss: 0.6090 - val_accuracy: 0.7917\n",
      "Epoch 9/30\n",
      "56/56 [==============================] - 1s 23ms/step - loss: 0.3464 - accuracy: 0.8929 - val_loss: 0.5605 - val_accuracy: 0.7917\n",
      "Epoch 10/30\n",
      "56/56 [==============================] - 1s 24ms/step - loss: 0.3534 - accuracy: 0.8929 - val_loss: 0.5244 - val_accuracy: 0.7917\n",
      "Epoch 11/30\n",
      "56/56 [==============================] - 1s 20ms/step - loss: 0.3497 - accuracy: 0.8929 - val_loss: 0.5386 - val_accuracy: 0.7917\n",
      "Epoch 12/30\n",
      "56/56 [==============================] - 1s 20ms/step - loss: 0.3413 - accuracy: 0.8929 - val_loss: 0.5561 - val_accuracy: 0.7917\n",
      "Epoch 13/30\n",
      "56/56 [==============================] - 1s 20ms/step - loss: 0.3425 - accuracy: 0.8929 - val_loss: 0.5809 - val_accuracy: 0.7917\n",
      "Epoch 14/30\n",
      "56/56 [==============================] - 1s 20ms/step - loss: 0.3432 - accuracy: 0.8929 - val_loss: 0.5702 - val_accuracy: 0.7917\n",
      "Epoch 15/30\n",
      "56/56 [==============================] - 1s 20ms/step - loss: 0.3404 - accuracy: 0.8929 - val_loss: 0.5458 - val_accuracy: 0.7917\n",
      "Epoch 16/30\n",
      "56/56 [==============================] - 1s 19ms/step - loss: 0.3413 - accuracy: 0.8929 - val_loss: 0.5374 - val_accuracy: 0.7917\n",
      "Epoch 17/30\n",
      "56/56 [==============================] - 1s 19ms/step - loss: 0.3433 - accuracy: 0.8929 - val_loss: 0.5368 - val_accuracy: 0.7917\n",
      "Epoch 18/30\n",
      "56/56 [==============================] - 1s 20ms/step - loss: 0.3434 - accuracy: 0.8929 - val_loss: 0.5392 - val_accuracy: 0.7917\n",
      "Epoch 19/30\n",
      "56/56 [==============================] - 1s 19ms/step - loss: 0.3423 - accuracy: 0.8929 - val_loss: 0.5569 - val_accuracy: 0.7917\n",
      "Epoch 20/30\n",
      "56/56 [==============================] - 1s 19ms/step - loss: 0.3393 - accuracy: 0.8929 - val_loss: 0.5863 - val_accuracy: 0.7917\n",
      "Epoch 21/30\n",
      "56/56 [==============================] - 1s 20ms/step - loss: 0.3473 - accuracy: 0.8929 - val_loss: 0.6050 - val_accuracy: 0.7917\n",
      "Epoch 22/30\n",
      "56/56 [==============================] - 1s 20ms/step - loss: 0.3478 - accuracy: 0.8929 - val_loss: 0.5634 - val_accuracy: 0.7917\n",
      "Epoch 23/30\n",
      "56/56 [==============================] - 1s 20ms/step - loss: 0.3398 - accuracy: 0.8929 - val_loss: 0.5389 - val_accuracy: 0.7917\n",
      "Epoch 24/30\n",
      "56/56 [==============================] - 1s 19ms/step - loss: 0.3425 - accuracy: 0.8929 - val_loss: 0.5346 - val_accuracy: 0.7917\n",
      "Epoch 25/30\n",
      "56/56 [==============================] - 1s 20ms/step - loss: 0.3444 - accuracy: 0.8929 - val_loss: 0.5355 - val_accuracy: 0.7917\n",
      "Epoch 26/30\n",
      "56/56 [==============================] - 1s 20ms/step - loss: 0.3431 - accuracy: 0.8929 - val_loss: 0.5599 - val_accuracy: 0.7917\n",
      "Epoch 27/30\n",
      "56/56 [==============================] - 1s 20ms/step - loss: 0.3476 - accuracy: 0.8929 - val_loss: 0.5791 - val_accuracy: 0.7917\n",
      "Epoch 28/30\n",
      "56/56 [==============================] - 1s 19ms/step - loss: 0.3434 - accuracy: 0.8929 - val_loss: 0.5528 - val_accuracy: 0.7917\n",
      "Epoch 29/30\n",
      "56/56 [==============================] - 1s 19ms/step - loss: 0.3464 - accuracy: 0.8929 - val_loss: 0.5478 - val_accuracy: 0.7917\n",
      "Epoch 30/30\n",
      "56/56 [==============================] - 1s 20ms/step - loss: 0.3405 - accuracy: 0.8929 - val_loss: 0.5313 - val_accuracy: 0.7917\n"
     ]
    }
   ],
   "source": [
    "history = modelo.fit(imgs,labels, epochs=30, validation_data = (imgs_val, labels_val))"
   ]
  },
  {
   "cell_type": "code",
   "execution_count": 121,
   "metadata": {},
   "outputs": [
    {
     "data": {
      "image/png": "[encoded data removed]",
      "text/plain": [
       "<Figure size 432x288 with 1 Axes>"
      ]
     },
     "metadata": {
      "needs_background": "light"
     },
     "output_type": "display_data"
    }
   ],
   "source": [
    "plt.plot(np.arange(0, 30), history.history[\"loss\"], label = \"Erro de trainamento\")\n",
    "plt.plot(np.arange(0, 30), history.history[\"val_loss\"], label = \"Erro de validação\")\n",
    "plt.xlabel(\"Epoch\")\n",
    "plt.legend(loc=\"upper left\")\n",
    "plt.show()"
   ]
  },
  {
   "cell_type": "code",
   "execution_count": 122,
   "metadata": {},
   "outputs": [],
   "source": [
    "#plt.plot(np.arange(0, 30), history.history[\"acc\"], label = \"Erro de trainamento\")\n",
    "#plt.plot(np.arange(0, 30), history.history[\"val_acc\"], label = \"Erro de validação\")\n",
    "#plt.xlabel(\"Epoch\")\n",
    "#plt.legend(loc=\"upper left\")\n",
    "#plt.show()"
   ]
  },
  {
   "cell_type": "code",
   "execution_count": 144,
   "metadata": {},
   "outputs": [],
   "source": [
    "def model_alt():\n",
    "    \n",
    "    model = Sequential()\n",
    "    model.add(Conv2D(55, kernel_size = (3,3), input_shape = (66,66,1), activation = \"relu\"))\n",
    "    model.add(Conv2D(32, kernel_size = (3,3), activation = \"relu\"))\n",
    "    model.add(Conv2D(52, kernel_size = (3,3), activation = \"relu\"))\n",
    "    model.add(MaxPooling2D(pool_size=(2, 2)))\n",
    "    model.add(Dropout(0.25))\n",
    "    model.add(Flatten())\n",
    "    model.add(Dense(25, activation = \"relu\"))\n",
    "    model.add(Dense(15, activation = \"relu\"))\n",
    "    model.add(Dense(1, activation = \"sigmoid\"))\n",
    "    \n",
    "    return model"
   ]
  },
  {
   "cell_type": "code",
   "execution_count": 145,
   "metadata": {},
   "outputs": [],
   "source": [
    "modelo_alt = model_alt()"
   ]
  },
  {
   "cell_type": "code",
   "execution_count": 146,
   "metadata": {},
   "outputs": [
    {
     "name": "stdout",
     "output_type": "stream",
     "text": [
      "Train on 56 samples, validate on 24 samples\n",
      "Epoch 1/30\n",
      "56/56 [==============================] - 2s 41ms/step - loss: 0.6926 - accuracy: 0.4286 - val_loss: 0.6768 - val_accuracy: 0.7917\n",
      "Epoch 2/30\n",
      "56/56 [==============================] - 2s 30ms/step - loss: 0.6479 - accuracy: 0.8929 - val_loss: 0.5770 - val_accuracy: 0.7917\n",
      "Epoch 3/30\n",
      "56/56 [==============================] - 2s 30ms/step - loss: 0.4726 - accuracy: 0.8929 - val_loss: 0.5407 - val_accuracy: 0.7917\n",
      "Epoch 4/30\n",
      "56/56 [==============================] - 2s 30ms/step - loss: 0.3459 - accuracy: 0.8929 - val_loss: 0.8460 - val_accuracy: 0.7917\n",
      "Epoch 5/30\n",
      "56/56 [==============================] - 2s 30ms/step - loss: 0.4414 - accuracy: 0.8929 - val_loss: 0.7580 - val_accuracy: 0.7917\n",
      "Epoch 6/30\n",
      "56/56 [==============================] - 2s 30ms/step - loss: 0.3781 - accuracy: 0.8929 - val_loss: 0.5865 - val_accuracy: 0.7917\n",
      "Epoch 7/30\n",
      "56/56 [==============================] - 2s 30ms/step - loss: 0.3398 - accuracy: 0.8929 - val_loss: 0.5155 - val_accuracy: 0.7917\n",
      "Epoch 8/30\n",
      "56/56 [==============================] - 2s 30ms/step - loss: 0.3634 - accuracy: 0.8929 - val_loss: 0.5120 - val_accuracy: 0.7917\n",
      "Epoch 9/30\n",
      "56/56 [==============================] - 2s 30ms/step - loss: 0.3815 - accuracy: 0.8929 - val_loss: 0.5120 - val_accuracy: 0.7917\n",
      "Epoch 10/30\n",
      "56/56 [==============================] - 2s 30ms/step - loss: 0.3695 - accuracy: 0.8929 - val_loss: 0.5261 - val_accuracy: 0.7917\n",
      "Epoch 11/30\n",
      "56/56 [==============================] - 2s 38ms/step - loss: 0.3427 - accuracy: 0.8929 - val_loss: 0.5659 - val_accuracy: 0.7917\n",
      "Epoch 12/30\n",
      "56/56 [==============================] - 2s 30ms/step - loss: 0.3446 - accuracy: 0.8929 - val_loss: 0.6171 - val_accuracy: 0.7917\n",
      "Epoch 13/30\n",
      "56/56 [==============================] - 2s 30ms/step - loss: 0.3518 - accuracy: 0.8929 - val_loss: 0.6216 - val_accuracy: 0.7917\n",
      "Epoch 14/30\n",
      "56/56 [==============================] - 2s 30ms/step - loss: 0.3525 - accuracy: 0.8929 - val_loss: 0.5981 - val_accuracy: 0.7917\n",
      "Epoch 15/30\n",
      "56/56 [==============================] - 2s 30ms/step - loss: 0.3437 - accuracy: 0.8929 - val_loss: 0.5544 - val_accuracy: 0.7917\n",
      "Epoch 16/30\n",
      "56/56 [==============================] - 2s 32ms/step - loss: 0.3375 - accuracy: 0.8929 - val_loss: 0.5317 - val_accuracy: 0.7917\n",
      "Epoch 17/30\n",
      "56/56 [==============================] - 2s 31ms/step - loss: 0.3437 - accuracy: 0.8929 - val_loss: 0.5235 - val_accuracy: 0.7917\n",
      "Epoch 18/30\n",
      "56/56 [==============================] - 2s 33ms/step - loss: 0.3490 - accuracy: 0.8929 - val_loss: 0.5238 - val_accuracy: 0.7917\n",
      "Epoch 19/30\n",
      "56/56 [==============================] - 2s 32ms/step - loss: 0.3482 - accuracy: 0.8929 - val_loss: 0.5336 - val_accuracy: 0.7917\n",
      "Epoch 20/30\n",
      "56/56 [==============================] - 2s 32ms/step - loss: 0.3418 - accuracy: 0.8929 - val_loss: 0.5516 - val_accuracy: 0.7917\n",
      "Epoch 21/30\n",
      "56/56 [==============================] - 2s 32ms/step - loss: 0.3397 - accuracy: 0.8929 - val_loss: 0.5746 - val_accuracy: 0.7917\n",
      "Epoch 22/30\n",
      "56/56 [==============================] - 2s 30ms/step - loss: 0.3422 - accuracy: 0.8929 - val_loss: 0.5889 - val_accuracy: 0.7917\n",
      "Epoch 23/30\n",
      "56/56 [==============================] - 2s 30ms/step - loss: 0.3436 - accuracy: 0.8929 - val_loss: 0.5885 - val_accuracy: 0.7917\n",
      "Epoch 24/30\n",
      "56/56 [==============================] - 2s 30ms/step - loss: 0.3477 - accuracy: 0.8929 - val_loss: 0.5647 - val_accuracy: 0.7917\n",
      "Epoch 25/30\n",
      "56/56 [==============================] - 2s 31ms/step - loss: 0.3440 - accuracy: 0.8929 - val_loss: 0.5495 - val_accuracy: 0.7917\n",
      "Epoch 26/30\n",
      "56/56 [==============================] - 2s 31ms/step - loss: 0.3407 - accuracy: 0.8929 - val_loss: 0.5483 - val_accuracy: 0.7917\n",
      "Epoch 27/30\n",
      "56/56 [==============================] - 2s 31ms/step - loss: 0.3429 - accuracy: 0.8929 - val_loss: 0.5457 - val_accuracy: 0.7917\n",
      "Epoch 28/30\n",
      "56/56 [==============================] - 2s 30ms/step - loss: 0.3406 - accuracy: 0.8929 - val_loss: 0.5554 - val_accuracy: 0.7917\n",
      "Epoch 29/30\n",
      "56/56 [==============================] - 2s 39ms/step - loss: 0.3404 - accuracy: 0.8929 - val_loss: 0.5609 - val_accuracy: 0.7917\n",
      "Epoch 30/30\n",
      "56/56 [==============================] - 2s 33ms/step - loss: 0.3404 - accuracy: 0.8929 - val_loss: 0.5647 - val_accuracy: 0.7917\n"
     ]
    }
   ],
   "source": [
    "modelo_alt.compile(loss = \"binary_crossentropy\", optimizer = \"adam\", metrics = [\"accuracy\"])\n",
    "history_alt = modelo_alt.fit(imgs,labels, epochs=30, validation_data = (imgs_val, labels_val))"
   ]
  },
  {
   "cell_type": "code",
   "execution_count": 148,
   "metadata": {},
   "outputs": [
    {
     "data": {
      "image/png": "[encoded data removed]",
      "text/plain": [
       "<Figure size 432x288 with 1 Axes>"
      ]
     },
     "metadata": {
      "needs_background": "light"
     },
     "output_type": "display_data"
    }
   ],
   "source": [
    "plt.plot(np.arange(0, 30), history_alt.history[\"loss\"], label = \"Loss modelo alt\")\n",
    "plt.plot(np.arange(0, 30), history.history[\"loss\"], label = \"Loss\")\n",
    "plt.xlabel(\"Epoch\")\n",
    "plt.legend(loc=\"upper left\")\n",
    "plt.show()"
   ]
  },
  {
   "cell_type": "code",
   "execution_count": 149,
   "metadata": {},
   "outputs": [
    {
     "data": {
      "image/png": "[encoded data removed]",
      "text/plain": [
       "<Figure size 432x288 with 1 Axes>"
      ]
     },
     "metadata": {
      "needs_background": "light"
     },
     "output_type": "display_data"
    }
   ],
   "source": [
    "plt.plot(np.arange(0, 30), history_alt.history[\"val_loss\"], label = \"val_loss alt\")\n",
    "plt.plot(np.arange(0, 30), history.history[\"val_loss\"], label = \"Val_loss\")\n",
    "plt.xlabel(\"Epoch\")\n",
    "plt.legend(loc=\"upper left\")\n",
    "plt.show()"
   ]
  },
  {
   "cell_type": "code",
   "execution_count": null,
   "metadata": {},
   "outputs": [],
   "source": []
  },
  {
   "cell_type": "code",
   "execution_count": null,
   "metadata": {},
   "outputs": [],
   "source": []
  }
 ],
 "metadata": {
  "kernelspec": {
   "display_name": "Python 3",
   "language": "python",
   "name": "python3"
  },
  "language_info": {
   "codemirror_mode": {
    "name": "ipython",
    "version": 3
   },
   "file_extension": ".py",
   "mimetype": "text/x-python",
   "name": "python",
   "nbconvert_exporter": "python",
   "pygments_lexer": "ipython3",
   "version": "3.6.9"
  }
 },
 "nbformat": 4,
 "nbformat_minor": 2
}
