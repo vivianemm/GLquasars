{
 "cells": [
  {
   "cell_type": "code",
   "execution_count": 61,
   "metadata": {},
   "outputs": [],
   "source": [
    "import numpy as np\n",
    "import pandas as pd\n",
    "import matplotlib.pyplot as plt\n",
    "from astropy.io import fits\n",
    "from astropy.visualization import MinMaxInterval\n",
    "from sklearn.model_selection import train_test_split\n",
    "import keras\n",
    "from keras.models import Sequential\n",
    "from keras.layers import Conv2D, Dense, Flatten, MaxPooling2D, Dropout"
   ]
  },
  {
   "cell_type": "markdown",
   "metadata": {},
   "source": [
    "## Reading a FITS file"
   ]
  },
  {
   "cell_type": "code",
   "execution_count": 62,
   "metadata": {},
   "outputs": [
    {
     "name": "stdout",
     "output_type": "stream",
     "text": [
      "Filename: /home/vivianemm/BLF/Images/EUC_J/imageEUC_J-200001.fits\n",
      "No.    Name      Ver    Type      Cards   Dimensions   Format\n",
      "  0  PRIMARY       1 PrimaryHDU      29   (66, 66)   float32   \n"
     ]
    }
   ],
   "source": [
    "#img_path = '/home/viviane/BLF_training/Images/EUC_J/imageEUC_J-200001.fits'\n",
    "img_path = '/home/vivianemm/BLF/Images/EUC_J/imageEUC_J-200001.fits'\n",
    "fits.info(img_path)"
   ]
  },
  {
   "cell_type": "code",
   "execution_count": 63,
   "metadata": {},
   "outputs": [
    {
     "name": "stdout",
     "output_type": "stream",
     "text": [
      "[[-9.76715930e-12  5.15664941e-12  1.09206437e-11 ... -5.59254899e-12\n",
      "  -3.11408560e-12  4.89244192e-12]\n",
      " [-1.53540358e-11  1.29798325e-11 -2.45361175e-12 ...  7.96089583e-12\n",
      "  -1.83813902e-11 -2.78579763e-12]\n",
      " [ 1.88017896e-12  9.41518478e-12  6.43359443e-13 ...  9.76120226e-13\n",
      "   5.17626610e-12 -4.57186676e-12]\n",
      " ...\n",
      " [-6.50529934e-12  1.61818284e-11  7.76066971e-12 ... -5.27057131e-12\n",
      "   5.44669128e-12  9.69319460e-13]\n",
      " [ 1.20240528e-11 -1.82952351e-12  2.04764972e-11 ...  1.14301635e-12\n",
      "   1.23559182e-12 -1.11187286e-12]\n",
      " [ 2.80688558e-12 -8.62631754e-12  4.48427536e-12 ...  4.49563910e-12\n",
      "   4.55615884e-12  3.62280019e-12]]\n"
     ]
    }
   ],
   "source": [
    "### using fits.getdata() --> np array\n",
    "img_data = fits.getdata(img_path, ext=0)\n",
    "print(img_data)"
   ]
  },
  {
   "cell_type": "code",
   "execution_count": 64,
   "metadata": {},
   "outputs": [
    {
     "data": {
      "text/plain": [
       "<matplotlib.colorbar.Colorbar at 0x7fe7ee76ca20>"
      ]
     },
     "execution_count": 64,
     "metadata": {},
     "output_type": "execute_result"
    },
    {
     "data": {
      "image/png": "[encoded data removed]",
      "text/plain": [
       "<Figure size 432x288 with 2 Axes>"
      ]
     },
     "metadata": {
      "needs_background": "light"
     },
     "output_type": "display_data"
    }
   ],
   "source": [
    "plt.figure()\n",
    "plt.imshow(img_data, cmap='gray')\n",
    "plt.colorbar()"
   ]
  },
  {
   "cell_type": "code",
   "execution_count": 65,
   "metadata": {},
   "outputs": [
    {
     "data": {
      "text/plain": [
       "SIMPLE  =                    T / file does conform to FITS standard             \n",
       "BITPIX  =                  -32 / number of bits per data pixel                  \n",
       "NAXIS   =                    2 / number of data axes                            \n",
       "NAXIS1  =                   66 / length of data axis 1                          \n",
       "NAXIS2  =                   66 / length of data axis 2                          \n",
       "EXTEND  =                    T / FITS dataset may contain extensions            \n",
       "COMMENT   FITS (Flexible Image Transport System) format is defined in 'Astronomy\n",
       "COMMENT   and Astrophysics', volume 376, page 359; bibcode: 2001A&A...376..359H \n",
       "WCSAXES =                    2 / number of World Coordinate System axes         \n",
       "CRPIX1  =                 33.5 / x-coordinate of reference pixel                \n",
       "CRPIX2  =                 33.5 / y-coordinate of reference pixel                \n",
       "CRVAL1  =                   0. / first axis value at reference pixel            \n",
       "CRVAL2  =                   0. / second axis value at reference pixel           \n",
       "CTYPE1  = 'RA---TAN'           / the coordinate type for the first axis         \n",
       "CTYPE2  = 'DEC--TAN'           / the coordinate type for the second axis        \n",
       "CUNIT1  = 'deg     '           / the coordinate unit for the first axis         \n",
       "CUNIT2  = 'deg     '           / the coordinate unit for the second axis        \n",
       "CDELT1  = -8.33333260176475E-05 / partial of first axis coordinate w.r.t. x     \n",
       "CDELT2  = 8.33333260176475E-05 / partial of second axis coordinate w.r.t. y     \n",
       "CROTA2  =                   0.                                                  \n",
       "CD1_1   = -8.33333260176475E-05 / partial of first axis coordinate w.r.t. x     \n",
       "CD1_2   =                   0. / partial of first axis coordinate w.r.t. y      \n",
       "CD2_1   =                   0. / partial of second axis coordinate w.r.t. x     \n",
       "CD2_2   = 8.33333260176475E-05 / partial of second axis coordinate w.r.t. y     \n",
       "NX      =                   66                                                  \n",
       "NY      =                   66                                                  \n",
       "HIERARCH range x = 9.59931110173784E-05 / radians                               \n",
       "RA      = 3.46759270735022E-07 / radians                                        \n",
       "DEC     = 1.38897332534521E-07 / radians                                        "
      ]
     },
     "execution_count": 65,
     "metadata": {},
     "output_type": "execute_result"
    }
   ],
   "source": [
    "# or using fits.open()  --> HDU object\n",
    "hdul = fits.open(img_path)\n",
    "img_data2 = hdul[0].data  # nparray\n",
    "hdul[0].header\n",
    "#hdul.close()"
   ]
  },
  {
   "cell_type": "markdown",
   "metadata": {},
   "source": [
    "## Creating a network"
   ]
  },
  {
   "cell_type": "code",
   "execution_count": 66,
   "metadata": {},
   "outputs": [],
   "source": [
    "import gc\n",
    "from keras.preprocessing.image import img_to_array\n",
    "from imutils import paths\n",
    "from sklearn.preprocessing import MultiLabelBinarizer\n",
    "import cv2\n",
    "import os\n",
    "def get_data(IMAGE_DIMS):\n",
    "    \n",
    "    blf = pd.read_csv('Database/blf_complete.csv', comment=\"#\")\n",
    "    #blf = blf.head(10000)\n",
    "\n",
    "    imgs = []\n",
    "    for path in blf['img_path_H']:\n",
    "        #print(path)\n",
    "        #hdul = fits.open(path)\n",
    "        #img_data = hdul[0].data  # nparray\n",
    "        #hdul.close()\n",
    "        image = cv2.imread(path)\n",
    "        if image is not None:\n",
    "            image = cv2.resize(image, (IMAGE_DIMS[1], IMAGE_DIMS[0]))\n",
    "            Data1=image\n",
    "            Data1[:,:,0]=image[:,:,2]\n",
    "            Data1[:,:,2]=image[:,:,0]\n",
    "            image=Data1\n",
    "            image = img_to_array(image)\n",
    "            image = image / 255.0\n",
    "        \n",
    "        #data.append(image)\n",
    "\n",
    "        #img_data = fits.getdata(path, ext=0)  # np array\n",
    "        #gc.collect()\n",
    "        \n",
    "        #img_data *= 1/img_data.max()\n",
    "        imgs.append(image)\n",
    "    imgs = np.array(imgs)\n",
    "\n",
    "\n",
    "    labels = np.array(blf['n_sources'])\n",
    "    \n",
    "    return imgs, labels"
   ]
  },
  {
   "cell_type": "code",
   "execution_count": 67,
   "metadata": {},
   "outputs": [],
   "source": [
    "imgs, labels = get_data((66,66,1))"
   ]
  },
  {
   "cell_type": "code",
   "execution_count": 68,
   "metadata": {},
   "outputs": [],
   "source": [
    "def remove_none(imgs, labels):\n",
    "    i_list =[]\n",
    "    for i in range(0, len(imgs)):\n",
    "        if imgs[i] is None:\n",
    "            i_list.append(i)\n",
    "\n",
    "    labels = np.delete(labels, i_list, 0)\n",
    "    imgs = np.delete(imgs, i_list, 0)\n",
    "\n",
    "    imgs_corrected=[]\n",
    "    for i in range(0,imgs.shape[0]):\n",
    "        imgs_corrected.append(imgs[i])\n",
    "    imgs_corrected=np.array(imgs_corrected)\n",
    "\n",
    "    return imgs_corrected, labels"
   ]
  },
  {
   "cell_type": "code",
   "execution_count": 69,
   "metadata": {},
   "outputs": [],
   "source": [
    "imgs, labels = remove_none(imgs, labels)"
   ]
  },
  {
   "cell_type": "code",
   "execution_count": 70,
   "metadata": {},
   "outputs": [],
   "source": [
    "np.save(\"imagens.npy\", imgs)\n",
    "np.save(\"labels.npy\", labels)"
   ]
  },
  {
   "cell_type": "code",
   "execution_count": 71,
   "metadata": {},
   "outputs": [],
   "source": [
    "#imgs = np.load('/home/vivianemm/imagens.npy')\n",
    "#labels = np.load(\"labels.npy\")"
   ]
  },
  {
   "cell_type": "code",
   "execution_count": 72,
   "metadata": {},
   "outputs": [],
   "source": [
    "def balance(labels, imgs):\n",
    "    a = np.unique(labels, return_counts=True)\n",
    "    n_lens = a[1][0]\n",
    "\n",
    "    b = np.where(labels == 1)\n",
    "    b[0].shape\n",
    "    r = np.random.choice(b[0], n_lens)\n",
    "\n",
    "    lens = np.where(labels == 0)\n",
    "\n",
    "    indices = np.concatenate((r, lens), axis=None)  # indices dos elementos que serao utilizados\n",
    "    \n",
    "    labels = labels[indices]\n",
    "    imgs = imgs[indices,]\n",
    "        \n",
    "    return labels, imgs"
   ]
  },
  {
   "cell_type": "code",
   "execution_count": 73,
   "metadata": {},
   "outputs": [],
   "source": [
    "labels, imgs = balance(labels, imgs)"
   ]
  },
  {
   "cell_type": "code",
   "execution_count": 74,
   "metadata": {},
   "outputs": [
    {
     "data": {
      "text/plain": [
       "(2001, 66, 66, 3)"
      ]
     },
     "execution_count": 74,
     "metadata": {},
     "output_type": "execute_result"
    }
   ],
   "source": [
    "imgs, imgs_test, labels, labels_test = train_test_split(imgs, labels, test_size=0.1, random_state=42)\n",
    "imgs, imgs_val, labels, labels_val = train_test_split(imgs, labels, test_size=0.30, random_state=42)\n",
    "#imgs = imgs.reshape(imgs.shape + (1,) )\n",
    "#imgs_test = imgs_test.reshape(imgs_test.shape + (1,))\n",
    "#imgs_val = imgs_val.reshape(imgs_val.shape + (1,))\n",
    "imgs_test.shape"
   ]
  },
  {
   "cell_type": "code",
   "execution_count": 75,
   "metadata": {},
   "outputs": [],
   "source": [
    "def model():\n",
    "    \n",
    "    model = Sequential()\n",
    "    model.add(Conv2D(32, kernel_size = (3,3), input_shape = (66,66,3), activation = \"relu\"))\n",
    "    #model.add(Conv2D(32, kernel_size = (3,3), activation = \"relu\"))\n",
    "    model.add(Conv2D(32, kernel_size = (3,3), activation = \"relu\"))\n",
    "    model.add(Flatten())\n",
    "    #model.add(Dense(25, activation = \"relu\"))\n",
    "    model.add(Dense(15, activation = \"relu\"))\n",
    "    model.add(Dense(1, activation = \"sigmoid\"))\n",
    "    \n",
    "    return model"
   ]
  },
  {
   "cell_type": "code",
   "execution_count": 76,
   "metadata": {},
   "outputs": [],
   "source": [
    "modelo = model()\n",
    "#modelo.summary()"
   ]
  },
  {
   "cell_type": "code",
   "execution_count": 77,
   "metadata": {},
   "outputs": [],
   "source": [
    "modelo.compile(loss = \"binary_crossentropy\", optimizer = \"adam\", metrics = [\"accuracy\"])"
   ]
  },
  {
   "cell_type": "code",
   "execution_count": 78,
   "metadata": {},
   "outputs": [
    {
     "name": "stdout",
     "output_type": "stream",
     "text": [
      "Train on 12604 samples, validate on 5403 samples\n",
      "Epoch 1/30\n",
      "12604/12604 [==============================] - 122s 10ms/step - loss: 0.6933 - accuracy: 0.4958 - val_loss: 0.6931 - val_accuracy: 0.4988\n",
      "Epoch 2/30\n",
      "12604/12604 [==============================] - 89s 7ms/step - loss: 0.6934 - accuracy: 0.4990 - val_loss: 0.6933 - val_accuracy: 0.5008\n",
      "Epoch 3/30\n",
      "12604/12604 [==============================] - 85s 7ms/step - loss: 0.6855 - accuracy: 0.5463 - val_loss: 0.6995 - val_accuracy: 0.5125\n",
      "Epoch 4/30\n",
      "12604/12604 [==============================] - 82s 6ms/step - loss: 0.6243 - accuracy: 0.6324 - val_loss: 0.7272 - val_accuracy: 0.5081\n",
      "Epoch 5/30\n",
      "12604/12604 [==============================] - 81s 6ms/step - loss: 0.5077 - accuracy: 0.7245 - val_loss: 0.9154 - val_accuracy: 0.5093\n",
      "Epoch 6/30\n",
      "12604/12604 [==============================] - 81s 6ms/step - loss: 0.3544 - accuracy: 0.8170 - val_loss: 1.2726 - val_accuracy: 0.5136\n",
      "Epoch 7/30\n",
      "12604/12604 [==============================] - 81s 6ms/step - loss: 0.2207 - accuracy: 0.8934 - val_loss: 1.8595 - val_accuracy: 0.5129\n",
      "Epoch 8/30\n",
      "12604/12604 [==============================] - 81s 6ms/step - loss: 0.1413 - accuracy: 0.9323 - val_loss: 2.5527 - val_accuracy: 0.5177\n",
      "Epoch 9/30\n",
      "12604/12604 [==============================] - 81s 6ms/step - loss: 0.0954 - accuracy: 0.9559 - val_loss: 3.4311 - val_accuracy: 0.5121\n",
      "Epoch 10/30\n",
      "12604/12604 [==============================] - 81s 6ms/step - loss: 0.0706 - accuracy: 0.9683 - val_loss: 3.6861 - val_accuracy: 0.5162\n",
      "Epoch 11/30\n",
      "12604/12604 [==============================] - 81s 6ms/step - loss: 0.0645 - accuracy: 0.9721 - val_loss: 3.9768 - val_accuracy: 0.5149\n",
      "Epoch 12/30\n",
      "12604/12604 [==============================] - 81s 6ms/step - loss: 0.0493 - accuracy: 0.9777 - val_loss: 4.3200 - val_accuracy: 0.5171\n",
      "Epoch 13/30\n",
      "12604/12604 [==============================] - 81s 6ms/step - loss: 0.0454 - accuracy: 0.9820 - val_loss: 4.8839 - val_accuracy: 0.5199\n",
      "Epoch 14/30\n",
      "12604/12604 [==============================] - 81s 6ms/step - loss: 0.0378 - accuracy: 0.9842 - val_loss: 4.8461 - val_accuracy: 0.5193\n",
      "Epoch 15/30\n",
      "12604/12604 [==============================] - 81s 6ms/step - loss: 0.0376 - accuracy: 0.9868 - val_loss: 4.5927 - val_accuracy: 0.5127\n",
      "Epoch 16/30\n",
      "12604/12604 [==============================] - 81s 6ms/step - loss: 0.0301 - accuracy: 0.9876 - val_loss: 4.9176 - val_accuracy: 0.5206\n",
      "Epoch 17/30\n",
      "12604/12604 [==============================] - 81s 6ms/step - loss: 0.0199 - accuracy: 0.9919 - val_loss: 5.1601 - val_accuracy: 0.5158\n",
      "Epoch 18/30\n",
      "12604/12604 [==============================] - 81s 6ms/step - loss: 0.0209 - accuracy: 0.9915 - val_loss: 5.3041 - val_accuracy: 0.5099\n",
      "Epoch 19/30\n",
      "12604/12604 [==============================] - 81s 6ms/step - loss: 0.0239 - accuracy: 0.9904 - val_loss: 5.3653 - val_accuracy: 0.5086\n",
      "Epoch 20/30\n",
      "12604/12604 [==============================] - 81s 6ms/step - loss: 0.0158 - accuracy: 0.9942 - val_loss: 5.5583 - val_accuracy: 0.5105\n",
      "Epoch 21/30\n",
      "12604/12604 [==============================] - 81s 6ms/step - loss: 0.0208 - accuracy: 0.9932 - val_loss: 4.7686 - val_accuracy: 0.5069\n",
      "Epoch 22/30\n",
      "12604/12604 [==============================] - 81s 6ms/step - loss: 0.0147 - accuracy: 0.9946 - val_loss: 5.2328 - val_accuracy: 0.5106\n",
      "Epoch 23/30\n",
      "12604/12604 [==============================] - 81s 6ms/step - loss: 0.0180 - accuracy: 0.9938 - val_loss: 5.7876 - val_accuracy: 0.5106\n",
      "Epoch 24/30\n",
      "12604/12604 [==============================] - 81s 6ms/step - loss: 0.0127 - accuracy: 0.9961 - val_loss: 6.1207 - val_accuracy: 0.5160\n",
      "Epoch 25/30\n",
      "12604/12604 [==============================] - 81s 6ms/step - loss: 0.0160 - accuracy: 0.9948 - val_loss: 5.5654 - val_accuracy: 0.5253\n",
      "Epoch 26/30\n",
      "12604/12604 [==============================] - 81s 6ms/step - loss: 0.0138 - accuracy: 0.9954 - val_loss: 5.5077 - val_accuracy: 0.5180\n",
      "Epoch 27/30\n",
      "12604/12604 [==============================] - 81s 6ms/step - loss: 0.0099 - accuracy: 0.9969 - val_loss: 5.4523 - val_accuracy: 0.5277\n",
      "Epoch 28/30\n",
      "12604/12604 [==============================] - 81s 6ms/step - loss: 0.0080 - accuracy: 0.9969 - val_loss: 5.7238 - val_accuracy: 0.5193\n",
      "Epoch 29/30\n",
      "12604/12604 [==============================] - 81s 6ms/step - loss: 0.0366 - accuracy: 0.9933 - val_loss: 5.8242 - val_accuracy: 0.5203\n",
      "Epoch 30/30\n",
      "12604/12604 [==============================] - 81s 6ms/step - loss: 0.0133 - accuracy: 0.9956 - val_loss: 5.5958 - val_accuracy: 0.5264\n"
     ]
    }
   ],
   "source": [
    "history = modelo.fit(imgs,labels, epochs=30, validation_data = (imgs_val, labels_val))"
   ]
  },
  {
   "cell_type": "code",
   "execution_count": 79,
   "metadata": {},
   "outputs": [
    {
     "data": {
      "image/png": "[encoded data removed]",
      "text/plain": [
       "<Figure size 432x288 with 1 Axes>"
      ]
     },
     "metadata": {
      "needs_background": "light"
     },
     "output_type": "display_data"
    }
   ],
   "source": [
    "plt.plot(np.arange(0, 30), history.history[\"loss\"], label = \"Erro de trainamento\")\n",
    "plt.plot(np.arange(0, 30), history.history[\"val_loss\"], label = \"Erro de validação\")\n",
    "plt.xlabel(\"Epoch\")\n",
    "plt.legend(loc=\"upper left\")\n",
    "plt.show()"
   ]
  },
  {
   "cell_type": "code",
   "execution_count": 80,
   "metadata": {},
   "outputs": [],
   "source": [
    "#plt.plot(np.arange(0, 30), history.history[\"acc\"], label = \"Erro de trainamento\")\n",
    "#plt.plot(np.arange(0, 30), history.history[\"val_acc\"], label = \"Erro de validação\")\n",
    "#plt.xlabel(\"Epoch\")\n",
    "#plt.legend(loc=\"upper left\")\n",
    "#plt.show()"
   ]
  },
  {
   "cell_type": "code",
   "execution_count": 81,
   "metadata": {},
   "outputs": [],
   "source": [
    "def model_alt():\n",
    "    \n",
    "    model = Sequential()\n",
    "    model.add(Conv2D(55, kernel_size = (3,3), input_shape = (66,66,3), activation = \"relu\"))\n",
    "    model.add(Conv2D(32, kernel_size = (3,3), activation = \"relu\"))\n",
    "    model.add(Conv2D(52, kernel_size = (3,3), activation = \"relu\"))\n",
    "    model.add(MaxPooling2D(pool_size=(2, 2)))\n",
    "    model.add(Dropout(0.25))\n",
    "    model.add(Flatten())\n",
    "    model.add(Dense(25, activation = \"relu\"))\n",
    "    model.add(Dense(15, activation = \"relu\"))\n",
    "    model.add(Dense(1, activation = \"sigmoid\"))\n",
    "    \n",
    "    return model"
   ]
  },
  {
   "cell_type": "code",
   "execution_count": 82,
   "metadata": {},
   "outputs": [
    {
     "name": "stdout",
     "output_type": "stream",
     "text": [
      "WARNING:tensorflow:From /home/vivianemm/.local/lib/python3.6/site-packages/keras/backend/tensorflow_backend.py:4070: The name tf.nn.max_pool is deprecated. Please use tf.nn.max_pool2d instead.\n",
      "\n"
     ]
    }
   ],
   "source": [
    "modelo_alt = model_alt()"
   ]
  },
  {
   "cell_type": "code",
   "execution_count": 83,
   "metadata": {},
   "outputs": [
    {
     "ename": "ValueError",
     "evalue": "Error when checking input: expected conv2d_7_input to have shape (66, 66, 1) but got array with shape (66, 66, 3)",
     "output_type": "error",
     "traceback": [
      "\u001b[0;31m---------------------------------------------------------------------------\u001b[0m",
      "\u001b[0;31mValueError\u001b[0m                                Traceback (most recent call last)",
      "\u001b[0;32m<ipython-input-83-a40b90b0cac5>\u001b[0m in \u001b[0;36m<module>\u001b[0;34m\u001b[0m\n\u001b[1;32m      1\u001b[0m \u001b[0mmodelo_alt\u001b[0m\u001b[0;34m.\u001b[0m\u001b[0mcompile\u001b[0m\u001b[0;34m(\u001b[0m\u001b[0mloss\u001b[0m \u001b[0;34m=\u001b[0m \u001b[0;34m\"binary_crossentropy\"\u001b[0m\u001b[0;34m,\u001b[0m \u001b[0moptimizer\u001b[0m \u001b[0;34m=\u001b[0m \u001b[0;34m\"adam\"\u001b[0m\u001b[0;34m,\u001b[0m \u001b[0mmetrics\u001b[0m \u001b[0;34m=\u001b[0m \u001b[0;34m[\u001b[0m\u001b[0;34m\"accuracy\"\u001b[0m\u001b[0;34m]\u001b[0m\u001b[0;34m)\u001b[0m\u001b[0;34m\u001b[0m\u001b[0;34m\u001b[0m\u001b[0m\n\u001b[0;32m----> 2\u001b[0;31m \u001b[0mhistory_alt\u001b[0m \u001b[0;34m=\u001b[0m \u001b[0mmodelo_alt\u001b[0m\u001b[0;34m.\u001b[0m\u001b[0mfit\u001b[0m\u001b[0;34m(\u001b[0m\u001b[0mimgs\u001b[0m\u001b[0;34m,\u001b[0m\u001b[0mlabels\u001b[0m\u001b[0;34m,\u001b[0m \u001b[0mepochs\u001b[0m\u001b[0;34m=\u001b[0m\u001b[0;36m30\u001b[0m\u001b[0;34m,\u001b[0m \u001b[0mvalidation_data\u001b[0m \u001b[0;34m=\u001b[0m \u001b[0;34m(\u001b[0m\u001b[0mimgs_val\u001b[0m\u001b[0;34m,\u001b[0m \u001b[0mlabels_val\u001b[0m\u001b[0;34m)\u001b[0m\u001b[0;34m)\u001b[0m\u001b[0;34m\u001b[0m\u001b[0;34m\u001b[0m\u001b[0m\n\u001b[0m",
      "\u001b[0;32m~/.local/lib/python3.6/site-packages/keras/engine/training.py\u001b[0m in \u001b[0;36mfit\u001b[0;34m(self, x, y, batch_size, epochs, verbose, callbacks, validation_split, validation_data, shuffle, class_weight, sample_weight, initial_epoch, steps_per_epoch, validation_steps, validation_freq, max_queue_size, workers, use_multiprocessing, **kwargs)\u001b[0m\n\u001b[1;32m   1152\u001b[0m             \u001b[0msample_weight\u001b[0m\u001b[0;34m=\u001b[0m\u001b[0msample_weight\u001b[0m\u001b[0;34m,\u001b[0m\u001b[0;34m\u001b[0m\u001b[0;34m\u001b[0m\u001b[0m\n\u001b[1;32m   1153\u001b[0m             \u001b[0mclass_weight\u001b[0m\u001b[0;34m=\u001b[0m\u001b[0mclass_weight\u001b[0m\u001b[0;34m,\u001b[0m\u001b[0;34m\u001b[0m\u001b[0;34m\u001b[0m\u001b[0m\n\u001b[0;32m-> 1154\u001b[0;31m             batch_size=batch_size)\n\u001b[0m\u001b[1;32m   1155\u001b[0m \u001b[0;34m\u001b[0m\u001b[0m\n\u001b[1;32m   1156\u001b[0m         \u001b[0;31m# Prepare validation data.\u001b[0m\u001b[0;34m\u001b[0m\u001b[0;34m\u001b[0m\u001b[0;34m\u001b[0m\u001b[0m\n",
      "\u001b[0;32m~/.local/lib/python3.6/site-packages/keras/engine/training.py\u001b[0m in \u001b[0;36m_standardize_user_data\u001b[0;34m(self, x, y, sample_weight, class_weight, check_array_lengths, batch_size)\u001b[0m\n\u001b[1;32m    577\u001b[0m             \u001b[0mfeed_input_shapes\u001b[0m\u001b[0;34m,\u001b[0m\u001b[0;34m\u001b[0m\u001b[0;34m\u001b[0m\u001b[0m\n\u001b[1;32m    578\u001b[0m             \u001b[0mcheck_batch_axis\u001b[0m\u001b[0;34m=\u001b[0m\u001b[0;32mFalse\u001b[0m\u001b[0;34m,\u001b[0m  \u001b[0;31m# Don't enforce the batch size.\u001b[0m\u001b[0;34m\u001b[0m\u001b[0;34m\u001b[0m\u001b[0m\n\u001b[0;32m--> 579\u001b[0;31m             exception_prefix='input')\n\u001b[0m\u001b[1;32m    580\u001b[0m \u001b[0;34m\u001b[0m\u001b[0m\n\u001b[1;32m    581\u001b[0m         \u001b[0;32mif\u001b[0m \u001b[0my\u001b[0m \u001b[0;32mis\u001b[0m \u001b[0;32mnot\u001b[0m \u001b[0;32mNone\u001b[0m\u001b[0;34m:\u001b[0m\u001b[0;34m\u001b[0m\u001b[0;34m\u001b[0m\u001b[0m\n",
      "\u001b[0;32m~/.local/lib/python3.6/site-packages/keras/engine/training_utils.py\u001b[0m in \u001b[0;36mstandardize_input_data\u001b[0;34m(data, names, shapes, check_batch_axis, exception_prefix)\u001b[0m\n\u001b[1;32m    143\u001b[0m                             \u001b[0;34m': expected '\u001b[0m \u001b[0;34m+\u001b[0m \u001b[0mnames\u001b[0m\u001b[0;34m[\u001b[0m\u001b[0mi\u001b[0m\u001b[0;34m]\u001b[0m \u001b[0;34m+\u001b[0m \u001b[0;34m' to have shape '\u001b[0m \u001b[0;34m+\u001b[0m\u001b[0;34m\u001b[0m\u001b[0;34m\u001b[0m\u001b[0m\n\u001b[1;32m    144\u001b[0m                             \u001b[0mstr\u001b[0m\u001b[0;34m(\u001b[0m\u001b[0mshape\u001b[0m\u001b[0;34m)\u001b[0m \u001b[0;34m+\u001b[0m \u001b[0;34m' but got array with shape '\u001b[0m \u001b[0;34m+\u001b[0m\u001b[0;34m\u001b[0m\u001b[0;34m\u001b[0m\u001b[0m\n\u001b[0;32m--> 145\u001b[0;31m                             str(data_shape))\n\u001b[0m\u001b[1;32m    146\u001b[0m     \u001b[0;32mreturn\u001b[0m \u001b[0mdata\u001b[0m\u001b[0;34m\u001b[0m\u001b[0;34m\u001b[0m\u001b[0m\n\u001b[1;32m    147\u001b[0m \u001b[0;34m\u001b[0m\u001b[0m\n",
      "\u001b[0;31mValueError\u001b[0m: Error when checking input: expected conv2d_7_input to have shape (66, 66, 1) but got array with shape (66, 66, 3)"
     ]
    }
   ],
   "source": [
    "modelo_alt.compile(loss = \"binary_crossentropy\", optimizer = \"adam\", metrics = [\"accuracy\"])\n",
    "history_alt = modelo_alt.fit(imgs,labels, epochs=30, validation_data = (imgs_val, labels_val))"
   ]
  },
  {
   "cell_type": "code",
   "execution_count": null,
   "metadata": {},
   "outputs": [],
   "source": [
    "plt.plot(np.arange(0, 30), history_alt.history[\"loss\"], label = \"Loss modelo alt\")\n",
    "plt.plot(np.arange(0, 30), history.history[\"loss\"], label = \"Loss\")\n",
    "plt.xlabel(\"Epoch\")\n",
    "plt.legend(loc=\"upper left\")\n",
    "plt.show()"
   ]
  },
  {
   "cell_type": "code",
   "execution_count": null,
   "metadata": {},
   "outputs": [],
   "source": [
    "plt.plot(np.arange(0, 30), history_alt.history[\"val_loss\"], label = \"val_loss alt\")\n",
    "plt.plot(np.arange(0, 30), history.history[\"val_loss\"], label = \"Val_loss\")\n",
    "plt.xlabel(\"Epoch\")\n",
    "plt.legend(loc=\"upper left\")\n",
    "plt.show()"
   ]
  },
  {
   "cell_type": "code",
   "execution_count": null,
   "metadata": {},
   "outputs": [],
   "source": [
    "a = pd.read_csv('Database/blf_complete.csv', comment=\"#\")\n",
    "a.set_index(a['ID'])\n",
    "a #['img_path_H'] #[213913]"
   ]
  },
  {
   "cell_type": "markdown",
   "metadata": {},
   "source": [
    "# Tables\n",
    "\n",
    "#### Separar features e target\n",
    "#### Verificar se existem váriaveis categóricas -> mapear para 0,1 (duas classes) ou one-hot-encoding (mais classes)\n",
    "#### Tratar dados faltantes\n",
    "#### Normalização\n",
    "#### Balanceamento\n",
    "#### Split -> treino, validação e teste\n",
    "#### Utilizar camadas densas no modelo"
   ]
  },
  {
   "cell_type": "code",
   "execution_count": 235,
   "metadata": {},
   "outputs": [],
   "source": [
    "def get_data_table():\n",
    "    \n",
    "    blf = pd.read_csv('Database/blf_complete.csv', comment=\"#\")\n",
    "    blf = blf.dropna()\n",
    "    blf.reset_index(inplace=True, drop=True)\n",
    "    labels = np.array(blf['n_sources'])\n",
    "    blf.drop(['n_sources', 'source_ID', 'ID'], inplace=True, axis=1)\n",
    "    blf.drop(['img_path_H', 'img_path_J', 'img_path_VIS', 'img_path_Y'], inplace=True, axis=1)\n",
    "    \n",
    "    blf.drop(['x_crit', 'y_crit', 'n_crit', 'r_source', 'crit_area', 'ein_area', 'n_gal_3', 'n_gal_5',\n",
    "             'n_gal_10', 'halo_mass', 'star_mass', 'n_source_im', 'n_pix_lens', 'sb_contrast', 'n_pix_source',\n",
    "             'mag_source', 'mag_lens', 'mag_eff', 'color_diff', 'z_source', 'z_lens'], inplace=True, axis=1)\n",
    "    \n",
    "    blf = (blf-blf.min())/(blf.max()-blf.min())  # normalizing (0 to 1)\n",
    "    \n",
    "    return blf, labels\n"
   ]
  },
  {
   "cell_type": "code",
   "execution_count": 246,
   "metadata": {},
   "outputs": [],
   "source": [
    "features, labels = get_data_table()"
   ]
  },
  {
   "cell_type": "code",
   "execution_count": 237,
   "metadata": {},
   "outputs": [
    {
     "data": {
      "text/plain": [
       "Index(['source_flux', 'lens_flux'], dtype='object')"
      ]
     },
     "execution_count": 237,
     "metadata": {},
     "output_type": "execute_result"
    }
   ],
   "source": [
    "features.columns"
   ]
  },
  {
   "cell_type": "code",
   "execution_count": null,
   "metadata": {},
   "outputs": [],
   "source": [
    "from ggplot import *\n",
    "#plt.plot(features['source_flux'], features['lens_flux'], c = labels)\n",
    "\n",
    "ggplot(aes(x='source_flux', y='lens_flux', color=labels), data=features)  + geom_point()"
   ]
  },
  {
   "cell_type": "code",
   "execution_count": 238,
   "metadata": {},
   "outputs": [],
   "source": [
    "def balance_table(features, labels):\n",
    "    \n",
    "    features = features.to_numpy()\n",
    "    \n",
    "    not_lens = np.unique(labels, return_counts=True)[1][0]  # number of 0's\n",
    "\n",
    "    lens_index = np.where(labels == 1)\n",
    "    lens_index[0].shape\n",
    "    sample_lens = np.random.choice(lens_index[0], not_lens)\n",
    "\n",
    "    not_lens_index = np.where(labels == 0)\n",
    "\n",
    "    indices = np.concatenate((sample_lens, not_lens_index), axis=None)  # indices dos elementos que serao utilizados\n",
    "    \n",
    "    labels = labels[indices]\n",
    "    features = features[indices,]\n",
    "        \n",
    "    return features, labels"
   ]
  },
  {
   "cell_type": "code",
   "execution_count": 239,
   "metadata": {},
   "outputs": [],
   "source": [
    "features, labels = balance_table(features, labels)"
   ]
  },
  {
   "cell_type": "code",
   "execution_count": 240,
   "metadata": {},
   "outputs": [],
   "source": [
    "features, features_test, labels, labels_test = train_test_split(features, labels, test_size=0.1, random_state=42)\n",
    "features, features_val, labels, labels_val = train_test_split(features, labels, test_size=0.30, random_state=42)"
   ]
  },
  {
   "cell_type": "code",
   "execution_count": 241,
   "metadata": {},
   "outputs": [],
   "source": [
    "def model_table():\n",
    "    \n",
    "    model = Sequential()\n",
    "    #model.add(Dense(25, activation = \"relu\"))\n",
    "    model.add(Dense(5, activation = \"relu\"))\n",
    "    model.add(Dense(1, activation = \"sigmoid\"))\n",
    "    \n",
    "    return model"
   ]
  },
  {
   "cell_type": "code",
   "execution_count": 242,
   "metadata": {},
   "outputs": [],
   "source": [
    "model_t = model_table()"
   ]
  },
  {
   "cell_type": "code",
   "execution_count": 243,
   "metadata": {},
   "outputs": [],
   "source": [
    "model_t.compile(loss = \"binary_crossentropy\", optimizer = \"adam\", metrics = [\"accuracy\"])"
   ]
  },
  {
   "cell_type": "code",
   "execution_count": 244,
   "metadata": {},
   "outputs": [
    {
     "name": "stdout",
     "output_type": "stream",
     "text": [
      "Train on 55955 samples, validate on 23982 samples\n",
      "Epoch 1/30\n",
      "55955/55955 [==============================] - 2s 40us/step - loss: 0.1184 - accuracy: 0.9989 - val_loss: 0.0056 - val_accuracy: 1.0000\n",
      "Epoch 2/30\n",
      "55955/55955 [==============================] - 2s 36us/step - loss: 0.0024 - accuracy: 1.0000 - val_loss: 9.3950e-04 - val_accuracy: 1.0000\n",
      "Epoch 3/30\n",
      "55955/55955 [==============================] - 2s 37us/step - loss: 5.2172e-04 - accuracy: 1.0000 - val_loss: 2.6579e-04 - val_accuracy: 1.0000\n",
      "Epoch 4/30\n",
      "55955/55955 [==============================] - 2s 35us/step - loss: 1.5984e-04 - accuracy: 1.0000 - val_loss: 8.8737e-05 - val_accuracy: 1.0000\n",
      "Epoch 5/30\n",
      "55955/55955 [==============================] - 2s 37us/step - loss: 5.5166e-05 - accuracy: 1.0000 - val_loss: 3.1763e-05 - val_accuracy: 1.0000\n",
      "Epoch 6/30\n",
      "55955/55955 [==============================] - 2s 36us/step - loss: 2.0061e-05 - accuracy: 1.0000 - val_loss: 1.1760e-05 - val_accuracy: 1.0000\n",
      "Epoch 7/30\n",
      "55955/55955 [==============================] - 2s 36us/step - loss: 7.4925e-06 - accuracy: 1.0000 - val_loss: 4.4381e-06 - val_accuracy: 1.0000\n",
      "Epoch 8/30\n",
      "55955/55955 [==============================] - 2s 36us/step - loss: 2.8433e-06 - accuracy: 1.0000 - val_loss: 1.6957e-06 - val_accuracy: 1.0000\n",
      "Epoch 9/30\n",
      "55955/55955 [==============================] - 2s 36us/step - loss: 1.0908e-06 - accuracy: 1.0000 - val_loss: 6.5392e-07 - val_accuracy: 1.0000\n",
      "Epoch 10/30\n",
      "55955/55955 [==============================] - 2s 35us/step - loss: 4.2211e-07 - accuracy: 1.0000 - val_loss: 2.5441e-07 - val_accuracy: 1.0000\n",
      "Epoch 11/30\n",
      "55955/55955 [==============================] - 2s 35us/step - loss: 1.6484e-07 - accuracy: 1.0000 - val_loss: 1.0013e-07 - val_accuracy: 1.0000\n",
      "Epoch 12/30\n",
      "55955/55955 [==============================] - 2s 36us/step - loss: 6.5496e-08 - accuracy: 1.0000 - val_loss: 3.8736e-08 - val_accuracy: 1.0000\n",
      "Epoch 13/30\n",
      "55955/55955 [==============================] - 2s 36us/step - loss: 2.7403e-08 - accuracy: 1.0000 - val_loss: 2.5065e-08 - val_accuracy: 1.0000\n",
      "Epoch 14/30\n",
      "55955/55955 [==============================] - 2s 35us/step - loss: 2.4990e-08 - accuracy: 1.0000 - val_loss: 2.5026e-08 - val_accuracy: 1.0000\n",
      "Epoch 15/30\n",
      "55955/55955 [==============================] - 2s 36us/step - loss: 2.4961e-08 - accuracy: 1.0000 - val_loss: 2.5008e-08 - val_accuracy: 1.0000\n",
      "Epoch 16/30\n",
      "55955/55955 [==============================] - 2s 37us/step - loss: 2.4949e-08 - accuracy: 1.0000 - val_loss: 2.5002e-08 - val_accuracy: 1.0000\n",
      "Epoch 17/30\n",
      "55955/55955 [==============================] - 2s 36us/step - loss: 2.4948e-08 - accuracy: 1.0000 - val_loss: 2.5002e-08 - val_accuracy: 1.0000\n",
      "Epoch 18/30\n",
      "55955/55955 [==============================] - 2s 37us/step - loss: 2.4948e-08 - accuracy: 1.0000 - val_loss: 2.5002e-08 - val_accuracy: 1.0000\n",
      "Epoch 19/30\n",
      "55955/55955 [==============================] - 2s 36us/step - loss: 2.4948e-08 - accuracy: 1.0000 - val_loss: 2.5002e-08 - val_accuracy: 1.0000\n",
      "Epoch 20/30\n",
      "55955/55955 [==============================] - 2s 36us/step - loss: 2.4948e-08 - accuracy: 1.0000 - val_loss: 2.5002e-08 - val_accuracy: 1.0000\n",
      "Epoch 21/30\n",
      "55955/55955 [==============================] - 2s 36us/step - loss: 2.4948e-08 - accuracy: 1.0000 - val_loss: 2.5002e-08 - val_accuracy: 1.0000\n",
      "Epoch 22/30\n",
      "55955/55955 [==============================] - 2s 35us/step - loss: 2.4948e-08 - accuracy: 1.0000 - val_loss: 2.5002e-08 - val_accuracy: 1.0000\n",
      "Epoch 23/30\n",
      "55955/55955 [==============================] - 2s 35us/step - loss: 2.4948e-08 - accuracy: 1.0000 - val_loss: 2.5002e-08 - val_accuracy: 1.0000\n",
      "Epoch 24/30\n",
      "55955/55955 [==============================] - 2s 36us/step - loss: 2.4948e-08 - accuracy: 1.0000 - val_loss: 2.5002e-08 - val_accuracy: 1.0000\n",
      "Epoch 25/30\n",
      "55955/55955 [==============================] - 2s 35us/step - loss: 2.4948e-08 - accuracy: 1.0000 - val_loss: 2.5002e-08 - val_accuracy: 1.0000\n",
      "Epoch 26/30\n",
      "55955/55955 [==============================] - 2s 36us/step - loss: 2.4948e-08 - accuracy: 1.0000 - val_loss: 2.5002e-08 - val_accuracy: 1.0000\n",
      "Epoch 27/30\n",
      "55955/55955 [==============================] - 2s 35us/step - loss: 2.4948e-08 - accuracy: 1.0000 - val_loss: 2.5002e-08 - val_accuracy: 1.0000\n",
      "Epoch 28/30\n",
      "55955/55955 [==============================] - 2s 37us/step - loss: 2.4948e-08 - accuracy: 1.0000 - val_loss: 2.5002e-08 - val_accuracy: 1.0000\n",
      "Epoch 29/30\n",
      "55955/55955 [==============================] - 2s 36us/step - loss: 2.4948e-08 - accuracy: 1.0000 - val_loss: 2.5002e-08 - val_accuracy: 1.0000\n",
      "Epoch 30/30\n",
      "55955/55955 [==============================] - 2s 37us/step - loss: 2.4948e-08 - accuracy: 1.0000 - val_loss: 2.5002e-08 - val_accuracy: 1.0000\n"
     ]
    }
   ],
   "source": [
    "history = model_t.fit(features,labels, epochs=30, validation_data = (features_val, labels_val))"
   ]
  },
  {
   "cell_type": "code",
   "execution_count": 234,
   "metadata": {},
   "outputs": [
    {
     "name": "stdout",
     "output_type": "stream",
     "text": [
      "8882/8882 [==============================] - 0s 12us/step\n"
     ]
    },
    {
     "data": {
      "text/plain": [
       "[1.0148236533932561e-09, 1.0]"
      ]
     },
     "execution_count": 234,
     "metadata": {},
     "output_type": "execute_result"
    }
   ],
   "source": [
    "model_t.evaluate(features_test, labels_test)"
   ]
  },
  {
   "cell_type": "code",
   "execution_count": 219,
   "metadata": {},
   "outputs": [
    {
     "data": {
      "image/png": "[encoded data removed]",
      "text/plain": [
       "<Figure size 432x288 with 1 Axes>"
      ]
     },
     "metadata": {
      "needs_background": "light"
     },
     "output_type": "display_data"
    }
   ],
   "source": [
    "plt.plot(np.arange(0, 30), history.history[\"loss\"], label = \"Loss\")\n",
    "plt.plot(np.arange(0, 30), history.history[\"val_loss\"], label = \"Val Loss\")\n",
    "plt.xlabel(\"Epoch\")\n",
    "plt.legend(loc=\"upper left\")\n",
    "plt.show()"
   ]
  },
  {
   "cell_type": "code",
   "execution_count": null,
   "metadata": {},
   "outputs": [],
   "source": []
  }
 ],
 "metadata": {
  "kernelspec": {
   "display_name": "Python 3",
   "language": "python",
   "name": "python3"
  },
  "language_info": {
   "codemirror_mode": {
    "name": "ipython",
    "version": 3
   },
   "file_extension": ".py",
   "mimetype": "text/x-python",
   "name": "python",
   "nbconvert_exporter": "python",
   "pygments_lexer": "ipython3",
   "version": "3.6.9"
  }
 },
 "nbformat": 4,
 "nbformat_minor": 2
}
