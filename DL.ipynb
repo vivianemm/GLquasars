{
 "cells": [
  {
   "cell_type": "code",
   "execution_count": 14,
   "metadata": {},
   "outputs": [],
   "source": [
    "import numpy as np\n",
    "import pandas as pd\n",
    "import matplotlib.pyplot as plt\n",
    "from astropy.io import fits\n",
    "from astropy.visualization import MinMaxInterval\n",
    "from sklearn.model_selection import train_test_split\n",
    "import keras\n",
    "from keras.models import Sequential\n",
    "from keras.layers import Conv2D, Dense, Flatten, MaxPooling2D, Dropout"
   ]
  },
  {
   "cell_type": "markdown",
   "metadata": {},
   "source": [
    "## Reading a FITS file"
   ]
  },
  {
   "cell_type": "code",
   "execution_count": 2,
   "metadata": {},
   "outputs": [
    {
     "name": "stdout",
     "output_type": "stream",
     "text": [
      "Filename: /home/vivianemm/BLF/Images/EUC_J/imageEUC_J-200001.fits\n",
      "No.    Name      Ver    Type      Cards   Dimensions   Format\n",
      "  0  PRIMARY       1 PrimaryHDU      29   (66, 66)   float32   \n"
     ]
    }
   ],
   "source": [
    "#img_path = '/home/viviane/BLF_training/Images/EUC_J/imageEUC_J-200001.fits'\n",
    "img_path = '/home/vivianemm/BLF/Images/EUC_J/imageEUC_J-200001.fits'\n",
    "fits.info(img_path)"
   ]
  },
  {
   "cell_type": "code",
   "execution_count": 3,
   "metadata": {},
   "outputs": [
    {
     "name": "stdout",
     "output_type": "stream",
     "text": [
      "[[-9.76715930e-12  5.15664941e-12  1.09206437e-11 ... -5.59254899e-12\n",
      "  -3.11408560e-12  4.89244192e-12]\n",
      " [-1.53540358e-11  1.29798325e-11 -2.45361175e-12 ...  7.96089583e-12\n",
      "  -1.83813902e-11 -2.78579763e-12]\n",
      " [ 1.88017896e-12  9.41518478e-12  6.43359443e-13 ...  9.76120226e-13\n",
      "   5.17626610e-12 -4.57186676e-12]\n",
      " ...\n",
      " [-6.50529934e-12  1.61818284e-11  7.76066971e-12 ... -5.27057131e-12\n",
      "   5.44669128e-12  9.69319460e-13]\n",
      " [ 1.20240528e-11 -1.82952351e-12  2.04764972e-11 ...  1.14301635e-12\n",
      "   1.23559182e-12 -1.11187286e-12]\n",
      " [ 2.80688558e-12 -8.62631754e-12  4.48427536e-12 ...  4.49563910e-12\n",
      "   4.55615884e-12  3.62280019e-12]]\n"
     ]
    }
   ],
   "source": [
    "### using fits.getdata() --> np array\n",
    "img_data = fits.getdata(img_path, ext=0)\n",
    "print(img_data)"
   ]
  },
  {
   "cell_type": "code",
   "execution_count": 4,
   "metadata": {},
   "outputs": [
    {
     "data": {
      "text/plain": [
       "<matplotlib.colorbar.Colorbar at 0x7f2eb300dd30>"
      ]
     },
     "execution_count": 4,
     "metadata": {},
     "output_type": "execute_result"
    },
    {
     "data": {
      "image/png": "[encoded data removed]",
      "text/plain": [
       "<Figure size 432x288 with 2 Axes>"
      ]
     },
     "metadata": {
      "needs_background": "light"
     },
     "output_type": "display_data"
    }
   ],
   "source": [
    "plt.figure()\n",
    "plt.imshow(img_data, cmap='gray')\n",
    "plt.colorbar()"
   ]
  },
  {
   "cell_type": "code",
   "execution_count": 5,
   "metadata": {},
   "outputs": [
    {
     "data": {
      "text/plain": [
       "SIMPLE  =                    T / file does conform to FITS standard             \n",
       "BITPIX  =                  -32 / number of bits per data pixel                  \n",
       "NAXIS   =                    2 / number of data axes                            \n",
       "NAXIS1  =                   66 / length of data axis 1                          \n",
       "NAXIS2  =                   66 / length of data axis 2                          \n",
       "EXTEND  =                    T / FITS dataset may contain extensions            \n",
       "COMMENT   FITS (Flexible Image Transport System) format is defined in 'Astronomy\n",
       "COMMENT   and Astrophysics', volume 376, page 359; bibcode: 2001A&A...376..359H \n",
       "WCSAXES =                    2 / number of World Coordinate System axes         \n",
       "CRPIX1  =                 33.5 / x-coordinate of reference pixel                \n",
       "CRPIX2  =                 33.5 / y-coordinate of reference pixel                \n",
       "CRVAL1  =                   0. / first axis value at reference pixel            \n",
       "CRVAL2  =                   0. / second axis value at reference pixel           \n",
       "CTYPE1  = 'RA---TAN'           / the coordinate type for the first axis         \n",
       "CTYPE2  = 'DEC--TAN'           / the coordinate type for the second axis        \n",
       "CUNIT1  = 'deg     '           / the coordinate unit for the first axis         \n",
       "CUNIT2  = 'deg     '           / the coordinate unit for the second axis        \n",
       "CDELT1  = -8.33333260176475E-05 / partial of first axis coordinate w.r.t. x     \n",
       "CDELT2  = 8.33333260176475E-05 / partial of second axis coordinate w.r.t. y     \n",
       "CROTA2  =                   0.                                                  \n",
       "CD1_1   = -8.33333260176475E-05 / partial of first axis coordinate w.r.t. x     \n",
       "CD1_2   =                   0. / partial of first axis coordinate w.r.t. y      \n",
       "CD2_1   =                   0. / partial of second axis coordinate w.r.t. x     \n",
       "CD2_2   = 8.33333260176475E-05 / partial of second axis coordinate w.r.t. y     \n",
       "NX      =                   66                                                  \n",
       "NY      =                   66                                                  \n",
       "HIERARCH range x = 9.59931110173784E-05 / radians                               \n",
       "RA      = 3.46759270735022E-07 / radians                                        \n",
       "DEC     = 1.38897332534521E-07 / radians                                        "
      ]
     },
     "execution_count": 5,
     "metadata": {},
     "output_type": "execute_result"
    }
   ],
   "source": [
    "# or using fits.open()  --> HDU object\n",
    "hdul = fits.open(img_path)\n",
    "img_data2 = hdul[0].data  # nparray\n",
    "hdul[0].header\n",
    "#hdul.close()"
   ]
  },
  {
   "cell_type": "markdown",
   "metadata": {},
   "source": [
    "## Creating a network"
   ]
  },
  {
   "cell_type": "code",
   "execution_count": 44,
   "metadata": {},
   "outputs": [],
   "source": [
    "import gc\n",
    "from keras.preprocessing.image import img_to_array\n",
    "from imutils import paths\n",
    "from sklearn.preprocessing import MultiLabelBinarizer\n",
    "import cv2\n",
    "import os\n",
    "def get_data(IMAGE_DIMS):\n",
    "    \n",
    "    blf = pd.read_csv('Database/blf_complete.csv', comment=\"#\")\n",
    "    blf = blf.head(10000)\n",
    "\n",
    "    imgs = []\n",
    "    for path in blf['img_path_H']:\n",
    "        #print(path)\n",
    "        #hdul = fits.open(path)\n",
    "        #img_data = hdul[0].data  # nparray\n",
    "        #hdul.close()\n",
    "        image = cv2.imread(path)\n",
    "        if image is not None:\n",
    "            image = cv2.resize(image, (IMAGE_DIMS[1], IMAGE_DIMS[0]))\n",
    "            Data1=image\n",
    "            Data1[:,:,0]=image[:,:,2]\n",
    "            Data1[:,:,2]=image[:,:,0]\n",
    "            image=Data1\n",
    "            image = img_to_array(image)            \n",
    "        \n",
    "        #data.append(image)\n",
    "\n",
    "        #img_data = fits.getdata(path, ext=0)  # np array\n",
    "        #gc.collect()\n",
    "        \n",
    "        #img_data *= 1/img_data.max()\n",
    "        imgs.append(image)\n",
    "    imgs = np.array(imgs)\n",
    "    imgs = imgs / 255.0\n",
    "\n",
    "    labels = np.array(blf['n_sources'])\n",
    "    \n",
    "    return imgs, labels"
   ]
  },
  {
   "cell_type": "code",
   "execution_count": 45,
   "metadata": {},
   "outputs": [],
   "source": [
    "imgs, labels = get_data((66,66,1))"
   ]
  },
  {
   "cell_type": "code",
   "execution_count": 46,
   "metadata": {},
   "outputs": [
    {
     "data": {
      "text/plain": [
       "10000"
      ]
     },
     "execution_count": 46,
     "metadata": {},
     "output_type": "execute_result"
    }
   ],
   "source": [
    "len(imgs)"
   ]
  },
  {
   "cell_type": "code",
   "execution_count": 47,
   "metadata": {},
   "outputs": [
    {
     "data": {
      "text/plain": [
       "(66, 66, 3)"
      ]
     },
     "execution_count": 47,
     "metadata": {},
     "output_type": "execute_result"
    }
   ],
   "source": [
    "imgs[1].shape"
   ]
  },
  {
   "cell_type": "code",
   "execution_count": 48,
   "metadata": {},
   "outputs": [],
   "source": [
    "i_list =[]\n",
    "for i in range(0, len(imgs)):\n",
    "    if imgs[i] is None:\n",
    "        i_list.append(i)\n",
    "        \n",
    "labels = np.delete(labels, i_list, 0)\n",
    "imgs = np.delete(imgs, i_list, 0)"
   ]
  },
  {
   "cell_type": "code",
   "execution_count": 49,
   "metadata": {},
   "outputs": [
    {
     "data": {
      "text/plain": [
       "10000"
      ]
     },
     "execution_count": 49,
     "metadata": {},
     "output_type": "execute_result"
    }
   ],
   "source": [
    "len(imgs)"
   ]
  },
  {
   "cell_type": "code",
   "execution_count": 50,
   "metadata": {},
   "outputs": [
    {
     "data": {
      "text/plain": [
       "(66, 3)"
      ]
     },
     "execution_count": 50,
     "metadata": {},
     "output_type": "execute_result"
    }
   ],
   "source": [
    "imgs[1][0].shape"
   ]
  },
  {
   "cell_type": "code",
   "execution_count": 51,
   "metadata": {},
   "outputs": [
    {
     "data": {
      "text/plain": [
       "(10000, 66, 66, 3)"
      ]
     },
     "execution_count": 51,
     "metadata": {},
     "output_type": "execute_result"
    }
   ],
   "source": [
    "l=[]\n",
    "for i in range(0,imgs.shape[0]):\n",
    "    l.append(imgs[i])\n",
    "l=np.array(l)\n",
    "l.shape\n"
   ]
  },
  {
   "cell_type": "code",
   "execution_count": 52,
   "metadata": {},
   "outputs": [],
   "source": [
    "imgs = l"
   ]
  },
  {
   "cell_type": "code",
   "execution_count": 53,
   "metadata": {},
   "outputs": [],
   "source": [
    "np.save(\"imagens.npy\", imgs)\n",
    "np.save(\"labels.npy\", labels)\n",
    "# imgs = np.load(\"imagens.npy\")\n",
    "# labels = np.load(\"labels.npy\")"
   ]
  },
  {
   "cell_type": "code",
   "execution_count": 54,
   "metadata": {},
   "outputs": [
    {
     "data": {
      "text/plain": [
       "(1000, 66, 66, 3)"
      ]
     },
     "execution_count": 54,
     "metadata": {},
     "output_type": "execute_result"
    }
   ],
   "source": [
    "imgs, imgs_test, labels, labels_test = train_test_split(imgs, labels, test_size=0.1, random_state=42)\n",
    "imgs, imgs_val, labels, labels_val = train_test_split(imgs, labels, test_size=0.30, random_state=42)\n",
    "#imgs = imgs.reshape(imgs.shape + (1,) )\n",
    "#imgs_test = imgs_test.reshape(imgs_test.shape + (1,))\n",
    "#imgs_val = imgs_val.reshape(imgs_val.shape + (1,))\n",
    "imgs_test.shape"
   ]
  },
  {
   "cell_type": "code",
   "execution_count": 55,
   "metadata": {},
   "outputs": [],
   "source": [
    "def model():\n",
    "    \n",
    "    model = Sequential()\n",
    "    model.add(Conv2D(32, kernel_size = (3,3), input_shape = (66,66,3), activation = \"relu\"))\n",
    "    model.add(Conv2D(32, kernel_size = (3,3), activation = \"relu\"))\n",
    "    model.add(Conv2D(32, kernel_size = (3,3), activation = \"relu\"))\n",
    "    model.add(Flatten())\n",
    "    model.add(Dense(25, activation = \"relu\"))\n",
    "    model.add(Dense(15, activation = \"relu\"))\n",
    "    model.add(Dense(1, activation = \"sigmoid\"))\n",
    "    \n",
    "    return model"
   ]
  },
  {
   "cell_type": "code",
   "execution_count": 56,
   "metadata": {},
   "outputs": [],
   "source": [
    "modelo = model()"
   ]
  },
  {
   "cell_type": "code",
   "execution_count": 57,
   "metadata": {},
   "outputs": [],
   "source": [
    "#modelo.summary()"
   ]
  },
  {
   "cell_type": "code",
   "execution_count": 58,
   "metadata": {},
   "outputs": [],
   "source": [
    "modelo.compile(loss = \"binary_crossentropy\", optimizer = \"adam\", metrics = [\"accuracy\"])"
   ]
  },
  {
   "cell_type": "code",
   "execution_count": 59,
   "metadata": {},
   "outputs": [
    {
     "name": "stdout",
     "output_type": "stream",
     "text": [
      "WARNING:tensorflow:From /home/vivianemm/.local/lib/python3.6/site-packages/keras/backend/tensorflow_backend.py:422: The name tf.global_variables is deprecated. Please use tf.compat.v1.global_variables instead.\n",
      "\n",
      "Train on 6300 samples, validate on 2700 samples\n",
      "Epoch 1/30\n",
      "6300/6300 [==============================] - 42s 7ms/step - loss: 0.4835 - accuracy: 0.8903 - val_loss: 0.3343 - val_accuracy: 0.9048\n",
      "Epoch 2/30\n",
      "6300/6300 [==============================] - 40s 6ms/step - loss: 0.3050 - accuracy: 0.8957 - val_loss: 0.3869 - val_accuracy: 0.9015\n",
      "Epoch 3/30\n",
      "6300/6300 [==============================] - 40s 6ms/step - loss: 0.2198 - accuracy: 0.9186 - val_loss: 0.5025 - val_accuracy: 0.8970\n",
      "Epoch 4/30\n",
      "6300/6300 [==============================] - 40s 6ms/step - loss: 0.1359 - accuracy: 0.9492 - val_loss: 0.6961 - val_accuracy: 0.8737\n",
      "Epoch 5/30\n",
      "6300/6300 [==============================] - 41s 6ms/step - loss: 0.0912 - accuracy: 0.9660 - val_loss: 0.9540 - val_accuracy: 0.8593\n",
      "Epoch 6/30\n",
      "6300/6300 [==============================] - 42s 7ms/step - loss: 0.0647 - accuracy: 0.9773 - val_loss: 0.8588 - val_accuracy: 0.8341\n",
      "Epoch 7/30\n",
      "6300/6300 [==============================] - 40s 6ms/step - loss: 0.0507 - accuracy: 0.9822 - val_loss: 1.3555 - val_accuracy: 0.8519\n",
      "Epoch 8/30\n",
      "6300/6300 [==============================] - 41s 6ms/step - loss: 0.0334 - accuracy: 0.9879 - val_loss: 1.4071 - val_accuracy: 0.8678\n",
      "Epoch 9/30\n",
      "6300/6300 [==============================] - 43s 7ms/step - loss: 0.0331 - accuracy: 0.9892 - val_loss: 1.6037 - val_accuracy: 0.8585\n",
      "Epoch 10/30\n",
      "6300/6300 [==============================] - 43s 7ms/step - loss: 0.0177 - accuracy: 0.9933 - val_loss: 1.7309 - val_accuracy: 0.8515\n",
      "Epoch 11/30\n",
      "6300/6300 [==============================] - 43s 7ms/step - loss: 0.0100 - accuracy: 0.9971 - val_loss: 2.1814 - val_accuracy: 0.8463\n",
      "Epoch 12/30\n",
      "6300/6300 [==============================] - 43s 7ms/step - loss: 0.0146 - accuracy: 0.9952 - val_loss: 1.4431 - val_accuracy: 0.8507\n",
      "Epoch 13/30\n",
      "6300/6300 [==============================] - 41s 7ms/step - loss: 0.0452 - accuracy: 0.9857 - val_loss: 1.6211 - val_accuracy: 0.8396\n",
      "Epoch 14/30\n",
      "6300/6300 [==============================] - 42s 7ms/step - loss: 0.0201 - accuracy: 0.9940 - val_loss: 1.8138 - val_accuracy: 0.8248\n",
      "Epoch 15/30\n",
      "6300/6300 [==============================] - 43s 7ms/step - loss: 0.0053 - accuracy: 0.9986 - val_loss: 2.3053 - val_accuracy: 0.8393\n",
      "Epoch 16/30\n",
      "6300/6300 [==============================] - 42s 7ms/step - loss: 0.0032 - accuracy: 0.9990 - val_loss: 2.3499 - val_accuracy: 0.8137\n",
      "Epoch 17/30\n",
      "6300/6300 [==============================] - 42s 7ms/step - loss: 0.0067 - accuracy: 0.9976 - val_loss: 2.4590 - val_accuracy: 0.8444\n",
      "Epoch 18/30\n",
      "6272/6300 [============================>.] - ETA: 0s - loss: 0.0108 - accuracy: 0.9970"
     ]
    },
    {
     "ename": "KeyboardInterrupt",
     "evalue": "",
     "output_type": "error",
     "traceback": [
      "\u001b[0;31m---------------------------------------------------------------------------\u001b[0m",
      "\u001b[0;31mKeyboardInterrupt\u001b[0m                         Traceback (most recent call last)",
      "\u001b[0;32m<ipython-input-59-a2bcb43538c1>\u001b[0m in \u001b[0;36m<module>\u001b[0;34m\u001b[0m\n\u001b[0;32m----> 1\u001b[0;31m \u001b[0mhistory\u001b[0m \u001b[0;34m=\u001b[0m \u001b[0mmodelo\u001b[0m\u001b[0;34m.\u001b[0m\u001b[0mfit\u001b[0m\u001b[0;34m(\u001b[0m\u001b[0mimgs\u001b[0m\u001b[0;34m,\u001b[0m\u001b[0mlabels\u001b[0m\u001b[0;34m,\u001b[0m \u001b[0mepochs\u001b[0m\u001b[0;34m=\u001b[0m\u001b[0;36m30\u001b[0m\u001b[0;34m,\u001b[0m \u001b[0mvalidation_data\u001b[0m \u001b[0;34m=\u001b[0m \u001b[0;34m(\u001b[0m\u001b[0mimgs_val\u001b[0m\u001b[0;34m,\u001b[0m \u001b[0mlabels_val\u001b[0m\u001b[0;34m)\u001b[0m\u001b[0;34m)\u001b[0m\u001b[0;34m\u001b[0m\u001b[0;34m\u001b[0m\u001b[0m\n\u001b[0m",
      "\u001b[0;32m~/.local/lib/python3.6/site-packages/keras/engine/training.py\u001b[0m in \u001b[0;36mfit\u001b[0;34m(self, x, y, batch_size, epochs, verbose, callbacks, validation_split, validation_data, shuffle, class_weight, sample_weight, initial_epoch, steps_per_epoch, validation_steps, validation_freq, max_queue_size, workers, use_multiprocessing, **kwargs)\u001b[0m\n\u001b[1;32m   1237\u001b[0m                                         \u001b[0msteps_per_epoch\u001b[0m\u001b[0;34m=\u001b[0m\u001b[0msteps_per_epoch\u001b[0m\u001b[0;34m,\u001b[0m\u001b[0;34m\u001b[0m\u001b[0;34m\u001b[0m\u001b[0m\n\u001b[1;32m   1238\u001b[0m                                         \u001b[0mvalidation_steps\u001b[0m\u001b[0;34m=\u001b[0m\u001b[0mvalidation_steps\u001b[0m\u001b[0;34m,\u001b[0m\u001b[0;34m\u001b[0m\u001b[0;34m\u001b[0m\u001b[0m\n\u001b[0;32m-> 1239\u001b[0;31m                                         validation_freq=validation_freq)\n\u001b[0m\u001b[1;32m   1240\u001b[0m \u001b[0;34m\u001b[0m\u001b[0m\n\u001b[1;32m   1241\u001b[0m     def evaluate(self,\n",
      "\u001b[0;32m~/.local/lib/python3.6/site-packages/keras/engine/training_arrays.py\u001b[0m in \u001b[0;36mfit_loop\u001b[0;34m(model, fit_function, fit_inputs, out_labels, batch_size, epochs, verbose, callbacks, val_function, val_inputs, shuffle, initial_epoch, steps_per_epoch, validation_steps, validation_freq)\u001b[0m\n\u001b[1;32m    208\u001b[0m                                          \u001b[0mbatch_size\u001b[0m\u001b[0;34m=\u001b[0m\u001b[0mbatch_size\u001b[0m\u001b[0;34m,\u001b[0m\u001b[0;34m\u001b[0m\u001b[0;34m\u001b[0m\u001b[0m\n\u001b[1;32m    209\u001b[0m                                          \u001b[0mcallbacks\u001b[0m\u001b[0;34m=\u001b[0m\u001b[0mcallbacks\u001b[0m\u001b[0;34m,\u001b[0m\u001b[0;34m\u001b[0m\u001b[0;34m\u001b[0m\u001b[0m\n\u001b[0;32m--> 210\u001b[0;31m                                          verbose=0)\n\u001b[0m\u001b[1;32m    211\u001b[0m                     \u001b[0mval_outs\u001b[0m \u001b[0;34m=\u001b[0m \u001b[0mto_list\u001b[0m\u001b[0;34m(\u001b[0m\u001b[0mval_outs\u001b[0m\u001b[0;34m)\u001b[0m\u001b[0;34m\u001b[0m\u001b[0;34m\u001b[0m\u001b[0m\n\u001b[1;32m    212\u001b[0m                     \u001b[0;31m# Same labels assumed.\u001b[0m\u001b[0;34m\u001b[0m\u001b[0;34m\u001b[0m\u001b[0;34m\u001b[0m\u001b[0m\n",
      "\u001b[0;32m~/.local/lib/python3.6/site-packages/keras/engine/training_arrays.py\u001b[0m in \u001b[0;36mtest_loop\u001b[0;34m(model, f, ins, batch_size, verbose, steps, callbacks)\u001b[0m\n\u001b[1;32m    447\u001b[0m             \u001b[0mbatch_logs\u001b[0m \u001b[0;34m=\u001b[0m \u001b[0;34m{\u001b[0m\u001b[0;34m'batch'\u001b[0m\u001b[0;34m:\u001b[0m \u001b[0mbatch_index\u001b[0m\u001b[0;34m,\u001b[0m \u001b[0;34m'size'\u001b[0m\u001b[0;34m:\u001b[0m \u001b[0mlen\u001b[0m\u001b[0;34m(\u001b[0m\u001b[0mbatch_ids\u001b[0m\u001b[0;34m)\u001b[0m\u001b[0;34m}\u001b[0m\u001b[0;34m\u001b[0m\u001b[0;34m\u001b[0m\u001b[0m\n\u001b[1;32m    448\u001b[0m             \u001b[0mcallbacks\u001b[0m\u001b[0;34m.\u001b[0m\u001b[0m_call_batch_hook\u001b[0m\u001b[0;34m(\u001b[0m\u001b[0;34m'test'\u001b[0m\u001b[0;34m,\u001b[0m \u001b[0;34m'begin'\u001b[0m\u001b[0;34m,\u001b[0m \u001b[0mbatch_index\u001b[0m\u001b[0;34m,\u001b[0m \u001b[0mbatch_logs\u001b[0m\u001b[0;34m)\u001b[0m\u001b[0;34m\u001b[0m\u001b[0;34m\u001b[0m\u001b[0m\n\u001b[0;32m--> 449\u001b[0;31m             \u001b[0mbatch_outs\u001b[0m \u001b[0;34m=\u001b[0m \u001b[0mf\u001b[0m\u001b[0;34m(\u001b[0m\u001b[0mins_batch\u001b[0m\u001b[0;34m)\u001b[0m\u001b[0;34m\u001b[0m\u001b[0;34m\u001b[0m\u001b[0m\n\u001b[0m\u001b[1;32m    450\u001b[0m             \u001b[0;32mif\u001b[0m \u001b[0misinstance\u001b[0m\u001b[0;34m(\u001b[0m\u001b[0mbatch_outs\u001b[0m\u001b[0;34m,\u001b[0m \u001b[0mlist\u001b[0m\u001b[0;34m)\u001b[0m\u001b[0;34m:\u001b[0m\u001b[0;34m\u001b[0m\u001b[0;34m\u001b[0m\u001b[0m\n\u001b[1;32m    451\u001b[0m                 \u001b[0;32mif\u001b[0m \u001b[0mbatch_index\u001b[0m \u001b[0;34m==\u001b[0m \u001b[0;36m0\u001b[0m\u001b[0;34m:\u001b[0m\u001b[0;34m\u001b[0m\u001b[0;34m\u001b[0m\u001b[0m\n",
      "\u001b[0;32m~/.local/lib/python3.6/site-packages/tensorflow/python/keras/backend.py\u001b[0m in \u001b[0;36m__call__\u001b[0;34m(self, inputs)\u001b[0m\n\u001b[1;32m   3290\u001b[0m \u001b[0;34m\u001b[0m\u001b[0m\n\u001b[1;32m   3291\u001b[0m     fetched = self._callable_fn(*array_vals,\n\u001b[0;32m-> 3292\u001b[0;31m                                 run_metadata=self.run_metadata)\n\u001b[0m\u001b[1;32m   3293\u001b[0m     \u001b[0mself\u001b[0m\u001b[0;34m.\u001b[0m\u001b[0m_call_fetch_callbacks\u001b[0m\u001b[0;34m(\u001b[0m\u001b[0mfetched\u001b[0m\u001b[0;34m[\u001b[0m\u001b[0;34m-\u001b[0m\u001b[0mlen\u001b[0m\u001b[0;34m(\u001b[0m\u001b[0mself\u001b[0m\u001b[0;34m.\u001b[0m\u001b[0m_fetches\u001b[0m\u001b[0;34m)\u001b[0m\u001b[0;34m:\u001b[0m\u001b[0;34m]\u001b[0m\u001b[0;34m)\u001b[0m\u001b[0;34m\u001b[0m\u001b[0;34m\u001b[0m\u001b[0m\n\u001b[1;32m   3294\u001b[0m     output_structure = nest.pack_sequence_as(\n",
      "\u001b[0;32m~/.local/lib/python3.6/site-packages/tensorflow/python/client/session.py\u001b[0m in \u001b[0;36m__call__\u001b[0;34m(self, *args, **kwargs)\u001b[0m\n\u001b[1;32m   1456\u001b[0m         ret = tf_session.TF_SessionRunCallable(self._session._session,\n\u001b[1;32m   1457\u001b[0m                                                \u001b[0mself\u001b[0m\u001b[0;34m.\u001b[0m\u001b[0m_handle\u001b[0m\u001b[0;34m,\u001b[0m \u001b[0margs\u001b[0m\u001b[0;34m,\u001b[0m\u001b[0;34m\u001b[0m\u001b[0;34m\u001b[0m\u001b[0m\n\u001b[0;32m-> 1458\u001b[0;31m                                                run_metadata_ptr)\n\u001b[0m\u001b[1;32m   1459\u001b[0m         \u001b[0;32mif\u001b[0m \u001b[0mrun_metadata\u001b[0m\u001b[0;34m:\u001b[0m\u001b[0;34m\u001b[0m\u001b[0;34m\u001b[0m\u001b[0m\n\u001b[1;32m   1460\u001b[0m           \u001b[0mproto_data\u001b[0m \u001b[0;34m=\u001b[0m \u001b[0mtf_session\u001b[0m\u001b[0;34m.\u001b[0m\u001b[0mTF_GetBuffer\u001b[0m\u001b[0;34m(\u001b[0m\u001b[0mrun_metadata_ptr\u001b[0m\u001b[0;34m)\u001b[0m\u001b[0;34m\u001b[0m\u001b[0;34m\u001b[0m\u001b[0m\n",
      "\u001b[0;31mKeyboardInterrupt\u001b[0m: "
     ]
    }
   ],
   "source": [
    "history = modelo.fit(imgs,labels, epochs=30, validation_data = (imgs_val, labels_val))"
   ]
  },
  {
   "cell_type": "code",
   "execution_count": null,
   "metadata": {},
   "outputs": [],
   "source": [
    "plt.plot(np.arange(0, 30), history.history[\"loss\"], label = \"Erro de trainamento\")\n",
    "plt.plot(np.arange(0, 30), history.history[\"val_loss\"], label = \"Erro de validação\")\n",
    "plt.xlabel(\"Epoch\")\n",
    "plt.legend(loc=\"upper left\")\n",
    "plt.show()"
   ]
  },
  {
   "cell_type": "code",
   "execution_count": null,
   "metadata": {},
   "outputs": [],
   "source": [
    "#plt.plot(np.arange(0, 30), history.history[\"acc\"], label = \"Erro de trainamento\")\n",
    "#plt.plot(np.arange(0, 30), history.history[\"val_acc\"], label = \"Erro de validação\")\n",
    "#plt.xlabel(\"Epoch\")\n",
    "#plt.legend(loc=\"upper left\")\n",
    "#plt.show()"
   ]
  },
  {
   "cell_type": "code",
   "execution_count": null,
   "metadata": {},
   "outputs": [],
   "source": [
    "def model_alt():\n",
    "    \n",
    "    model = Sequential()\n",
    "    model.add(Conv2D(55, kernel_size = (3,3), input_shape = (66,66,1), activation = \"relu\"))\n",
    "    model.add(Conv2D(32, kernel_size = (3,3), activation = \"relu\"))\n",
    "    model.add(Conv2D(52, kernel_size = (3,3), activation = \"relu\"))\n",
    "    model.add(MaxPooling2D(pool_size=(2, 2)))\n",
    "    model.add(Dropout(0.25))\n",
    "    model.add(Flatten())\n",
    "    model.add(Dense(25, activation = \"relu\"))\n",
    "    model.add(Dense(15, activation = \"relu\"))\n",
    "    model.add(Dense(1, activation = \"sigmoid\"))\n",
    "    \n",
    "    return model"
   ]
  },
  {
   "cell_type": "code",
   "execution_count": null,
   "metadata": {},
   "outputs": [],
   "source": [
    "modelo_alt = model_alt()"
   ]
  },
  {
   "cell_type": "code",
   "execution_count": null,
   "metadata": {},
   "outputs": [],
   "source": [
    "modelo_alt.compile(loss = \"binary_crossentropy\", optimizer = \"adam\", metrics = [\"accuracy\"])\n",
    "history_alt = modelo_alt.fit(imgs,labels, epochs=30, validation_data = (imgs_val, labels_val))"
   ]
  },
  {
   "cell_type": "code",
   "execution_count": null,
   "metadata": {},
   "outputs": [],
   "source": [
    "plt.plot(np.arange(0, 30), history_alt.history[\"loss\"], label = \"Loss modelo alt\")\n",
    "plt.plot(np.arange(0, 30), history.history[\"loss\"], label = \"Loss\")\n",
    "plt.xlabel(\"Epoch\")\n",
    "plt.legend(loc=\"upper left\")\n",
    "plt.show()"
   ]
  },
  {
   "cell_type": "code",
   "execution_count": null,
   "metadata": {},
   "outputs": [],
   "source": [
    "plt.plot(np.arange(0, 30), history_alt.history[\"val_loss\"], label = \"val_loss alt\")\n",
    "plt.plot(np.arange(0, 30), history.history[\"val_loss\"], label = \"Val_loss\")\n",
    "plt.xlabel(\"Epoch\")\n",
    "plt.legend(loc=\"upper left\")\n",
    "plt.show()"
   ]
  },
  {
   "cell_type": "code",
   "execution_count": null,
   "metadata": {},
   "outputs": [],
   "source": [
    "a = pd.read_csv('Database/blf_complete.csv', comment=\"#\")\n",
    "a.set_index(a['ID'])\n",
    "a #['img_path_H'] #[213913]"
   ]
  },
  {
   "cell_type": "code",
   "execution_count": null,
   "metadata": {},
   "outputs": [],
   "source": []
  }
 ],
 "metadata": {
  "kernelspec": {
   "display_name": "Python 3",
   "language": "python",
   "name": "python3"
  },
  "language_info": {
   "codemirror_mode": {
    "name": "ipython",
    "version": 3
   },
   "file_extension": ".py",
   "mimetype": "text/x-python",
   "name": "python",
   "nbconvert_exporter": "python",
   "pygments_lexer": "ipython3",
   "version": "3.6.9"
  }
 },
 "nbformat": 4,
 "nbformat_minor": 2
}
