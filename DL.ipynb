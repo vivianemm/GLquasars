{
 "cells": [
  {
   "cell_type": "code",
   "execution_count": 79,
   "metadata": {},
   "outputs": [],
   "source": [
    "import numpy as np\n",
    "import pandas as pd\n",
    "import matplotlib.pyplot as plt\n",
    "from astropy.io import fits\n",
    "from astropy.visualization import MinMaxInterval\n",
    "import cv2\n",
    "import os\n",
    "\n",
    "import keras\n",
    "from sklearn.model_selection import train_test_split\n",
    "from keras.models import Sequential\n",
    "from keras.layers import Conv2D, Dense, Flatten, MaxPooling2D, Dropout\n",
    "from keras.preprocessing.image import img_to_array\n",
    "from keras.preprocessing.image import ImageDataGenerator\n",
    "\n",
    "import warnings\n",
    "warnings.filterwarnings('ignore')"
   ]
  },
  {
   "cell_type": "markdown",
   "metadata": {},
   "source": [
    "## Reading a FITS file"
   ]
  },
  {
   "cell_type": "code",
   "execution_count": 62,
   "metadata": {},
   "outputs": [
    {
     "name": "stdout",
     "output_type": "stream",
     "text": [
      "Filename: /home/vivianemm/BLF/Images/EUC_J/imageEUC_J-200001.fits\n",
      "No.    Name      Ver    Type      Cards   Dimensions   Format\n",
      "  0  PRIMARY       1 PrimaryHDU      29   (66, 66)   float32   \n"
     ]
    }
   ],
   "source": [
    "#img_path = '/home/viviane/BLF_training/Images/EUC_J/imageEUC_J-200001.fits'\n",
    "img_path = '/home/vivianemm/BLF/Images/EUC_J/imageEUC_J-200001.fits'\n",
    "fits.info(img_path)"
   ]
  },
  {
   "cell_type": "code",
   "execution_count": 63,
   "metadata": {},
   "outputs": [
    {
     "name": "stdout",
     "output_type": "stream",
     "text": [
      "[[-9.76715930e-12  5.15664941e-12  1.09206437e-11 ... -5.59254899e-12\n",
      "  -3.11408560e-12  4.89244192e-12]\n",
      " [-1.53540358e-11  1.29798325e-11 -2.45361175e-12 ...  7.96089583e-12\n",
      "  -1.83813902e-11 -2.78579763e-12]\n",
      " [ 1.88017896e-12  9.41518478e-12  6.43359443e-13 ...  9.76120226e-13\n",
      "   5.17626610e-12 -4.57186676e-12]\n",
      " ...\n",
      " [-6.50529934e-12  1.61818284e-11  7.76066971e-12 ... -5.27057131e-12\n",
      "   5.44669128e-12  9.69319460e-13]\n",
      " [ 1.20240528e-11 -1.82952351e-12  2.04764972e-11 ...  1.14301635e-12\n",
      "   1.23559182e-12 -1.11187286e-12]\n",
      " [ 2.80688558e-12 -8.62631754e-12  4.48427536e-12 ...  4.49563910e-12\n",
      "   4.55615884e-12  3.62280019e-12]]\n"
     ]
    }
   ],
   "source": [
    "### using fits.getdata() --> np array\n",
    "img_data = fits.getdata(img_path, ext=0)\n",
    "print(img_data)"
   ]
  },
  {
   "cell_type": "code",
   "execution_count": 64,
   "metadata": {},
   "outputs": [
    {
     "data": {
      "text/plain": [
       "<matplotlib.colorbar.Colorbar at 0x7fe7ee76ca20>"
      ]
     },
     "execution_count": 64,
     "metadata": {},
     "output_type": "execute_result"
    },
    {
     "data": {
      "image/png": "[encoded data removed]",
      "text/plain": [
       "<Figure size 432x288 with 2 Axes>"
      ]
     },
     "metadata": {
      "needs_background": "light"
     },
     "output_type": "display_data"
    }
   ],
   "source": [
    "plt.figure()\n",
    "plt.imshow(img_data, cmap='gray')\n",
    "plt.colorbar()"
   ]
  },
  {
   "cell_type": "code",
   "execution_count": 65,
   "metadata": {},
   "outputs": [
    {
     "data": {
      "text/plain": [
       "SIMPLE  =                    T / file does conform to FITS standard             \n",
       "BITPIX  =                  -32 / number of bits per data pixel                  \n",
       "NAXIS   =                    2 / number of data axes                            \n",
       "NAXIS1  =                   66 / length of data axis 1                          \n",
       "NAXIS2  =                   66 / length of data axis 2                          \n",
       "EXTEND  =                    T / FITS dataset may contain extensions            \n",
       "COMMENT   FITS (Flexible Image Transport System) format is defined in 'Astronomy\n",
       "COMMENT   and Astrophysics', volume 376, page 359; bibcode: 2001A&A...376..359H \n",
       "WCSAXES =                    2 / number of World Coordinate System axes         \n",
       "CRPIX1  =                 33.5 / x-coordinate of reference pixel                \n",
       "CRPIX2  =                 33.5 / y-coordinate of reference pixel                \n",
       "CRVAL1  =                   0. / first axis value at reference pixel            \n",
       "CRVAL2  =                   0. / second axis value at reference pixel           \n",
       "CTYPE1  = 'RA---TAN'           / the coordinate type for the first axis         \n",
       "CTYPE2  = 'DEC--TAN'           / the coordinate type for the second axis        \n",
       "CUNIT1  = 'deg     '           / the coordinate unit for the first axis         \n",
       "CUNIT2  = 'deg     '           / the coordinate unit for the second axis        \n",
       "CDELT1  = -8.33333260176475E-05 / partial of first axis coordinate w.r.t. x     \n",
       "CDELT2  = 8.33333260176475E-05 / partial of second axis coordinate w.r.t. y     \n",
       "CROTA2  =                   0.                                                  \n",
       "CD1_1   = -8.33333260176475E-05 / partial of first axis coordinate w.r.t. x     \n",
       "CD1_2   =                   0. / partial of first axis coordinate w.r.t. y      \n",
       "CD2_1   =                   0. / partial of second axis coordinate w.r.t. x     \n",
       "CD2_2   = 8.33333260176475E-05 / partial of second axis coordinate w.r.t. y     \n",
       "NX      =                   66                                                  \n",
       "NY      =                   66                                                  \n",
       "HIERARCH range x = 9.59931110173784E-05 / radians                               \n",
       "RA      = 3.46759270735022E-07 / radians                                        \n",
       "DEC     = 1.38897332534521E-07 / radians                                        "
      ]
     },
     "execution_count": 65,
     "metadata": {},
     "output_type": "execute_result"
    }
   ],
   "source": [
    "# or using fits.open()  --> HDU object\n",
    "hdul = fits.open(img_path)\n",
    "img_data2 = hdul[0].data  # nparray\n",
    "hdul[0].header\n",
    "#hdul.close()"
   ]
  },
  {
   "cell_type": "markdown",
   "metadata": {},
   "source": [
    "### Pre processing"
   ]
  },
  {
   "cell_type": "code",
   "execution_count": 13,
   "metadata": {},
   "outputs": [],
   "source": [
    "import os"
   ]
  },
  {
   "cell_type": "code",
   "execution_count": 55,
   "metadata": {},
   "outputs": [
    {
     "data": {
      "text/html": [
       "<div>\n",
       "<style scoped>\n",
       "    .dataframe tbody tr th:only-of-type {\n",
       "        vertical-align: middle;\n",
       "    }\n",
       "\n",
       "    .dataframe tbody tr th {\n",
       "        vertical-align: top;\n",
       "    }\n",
       "\n",
       "    .dataframe thead th {\n",
       "        text-align: right;\n",
       "    }\n",
       "</style>\n",
       "<table border=\"1\" class=\"dataframe\">\n",
       "  <thead>\n",
       "    <tr style=\"text-align: right;\">\n",
       "      <th></th>\n",
       "      <th>ID</th>\n",
       "      <th>x_crit</th>\n",
       "      <th>y_crit</th>\n",
       "      <th>source_ID</th>\n",
       "      <th>z_source</th>\n",
       "      <th>z_lens</th>\n",
       "      <th>mag_source</th>\n",
       "      <th>ein_area</th>\n",
       "      <th>n_crit</th>\n",
       "      <th>r_source</th>\n",
       "      <th>...</th>\n",
       "      <th>n_gal_5</th>\n",
       "      <th>n_gal_10</th>\n",
       "      <th>halo_mass</th>\n",
       "      <th>star_mass</th>\n",
       "      <th>mag_lens</th>\n",
       "      <th>n_sources</th>\n",
       "      <th>img_path_H</th>\n",
       "      <th>img_path_J</th>\n",
       "      <th>img_path_VIS</th>\n",
       "      <th>img_path_Y</th>\n",
       "    </tr>\n",
       "  </thead>\n",
       "  <tbody>\n",
       "    <tr>\n",
       "      <th>0</th>\n",
       "      <td>200001</td>\n",
       "      <td>3.467590e-07</td>\n",
       "      <td>1.388970e-07</td>\n",
       "      <td>5131</td>\n",
       "      <td>1.96</td>\n",
       "      <td>0.699792</td>\n",
       "      <td>22.0469</td>\n",
       "      <td>3.714770e-10</td>\n",
       "      <td>19</td>\n",
       "      <td>3.259740e-06</td>\n",
       "      <td>...</td>\n",
       "      <td>2</td>\n",
       "      <td>5</td>\n",
       "      <td>5.046820e+13</td>\n",
       "      <td>6.426010e+11</td>\n",
       "      <td>20.2312</td>\n",
       "      <td>1</td>\n",
       "      <td>/home/vivianemm/BLF/Images/EUC_H/imageEUC_H-20...</td>\n",
       "      <td>/home/vivianemm/BLF/Images/EUC_J/imageEUC_J-20...</td>\n",
       "      <td>/home/vivianemm/BLF/Images/EUC_VIS/imageEUC_VI...</td>\n",
       "      <td>/home/vivianemm/BLF/Images/EUC_Y/imageEUC_Y-20...</td>\n",
       "    </tr>\n",
       "    <tr>\n",
       "      <th>1</th>\n",
       "      <td>200002</td>\n",
       "      <td>2.440650e-07</td>\n",
       "      <td>-2.128040e-07</td>\n",
       "      <td>7183</td>\n",
       "      <td>1.96</td>\n",
       "      <td>0.522781</td>\n",
       "      <td>25.4845</td>\n",
       "      <td>5.677310e-10</td>\n",
       "      <td>12</td>\n",
       "      <td>3.097520e-06</td>\n",
       "      <td>...</td>\n",
       "      <td>0</td>\n",
       "      <td>4</td>\n",
       "      <td>1.027460e+14</td>\n",
       "      <td>8.192230e+11</td>\n",
       "      <td>18.9784</td>\n",
       "      <td>1</td>\n",
       "      <td>/home/vivianemm/BLF/Images/EUC_H/imageEUC_H-20...</td>\n",
       "      <td>/home/vivianemm/BLF/Images/EUC_J/imageEUC_J-20...</td>\n",
       "      <td>/home/vivianemm/BLF/Images/EUC_VIS/imageEUC_VI...</td>\n",
       "      <td>/home/vivianemm/BLF/Images/EUC_Y/imageEUC_Y-20...</td>\n",
       "    </tr>\n",
       "    <tr>\n",
       "      <th>2</th>\n",
       "      <td>200003</td>\n",
       "      <td>4.086340e-07</td>\n",
       "      <td>2.556650e-07</td>\n",
       "      <td>4746</td>\n",
       "      <td>2.10</td>\n",
       "      <td>0.684567</td>\n",
       "      <td>25.4078</td>\n",
       "      <td>1.857780e-09</td>\n",
       "      <td>41</td>\n",
       "      <td>1.691660e-05</td>\n",
       "      <td>...</td>\n",
       "      <td>2</td>\n",
       "      <td>10</td>\n",
       "      <td>4.105040e+14</td>\n",
       "      <td>1.151740e+12</td>\n",
       "      <td>19.2772</td>\n",
       "      <td>0</td>\n",
       "      <td>/home/vivianemm/BLF/Images/EUC_H/imageEUC_H-20...</td>\n",
       "      <td>/home/vivianemm/BLF/Images/EUC_J/imageEUC_J-20...</td>\n",
       "      <td>/home/vivianemm/BLF/Images/EUC_VIS/imageEUC_VI...</td>\n",
       "      <td>/home/vivianemm/BLF/Images/EUC_Y/imageEUC_Y-20...</td>\n",
       "    </tr>\n",
       "    <tr>\n",
       "      <th>3</th>\n",
       "      <td>200004</td>\n",
       "      <td>7.584890e-08</td>\n",
       "      <td>-1.600640e-08</td>\n",
       "      <td>4426</td>\n",
       "      <td>1.93</td>\n",
       "      <td>0.540055</td>\n",
       "      <td>25.6997</td>\n",
       "      <td>7.307720e-10</td>\n",
       "      <td>24</td>\n",
       "      <td>1.506090e-05</td>\n",
       "      <td>...</td>\n",
       "      <td>4</td>\n",
       "      <td>9</td>\n",
       "      <td>1.729910e+14</td>\n",
       "      <td>4.497190e+11</td>\n",
       "      <td>19.1146</td>\n",
       "      <td>1</td>\n",
       "      <td>/home/vivianemm/BLF/Images/EUC_H/imageEUC_H-20...</td>\n",
       "      <td>/home/vivianemm/BLF/Images/EUC_J/imageEUC_J-20...</td>\n",
       "      <td>/home/vivianemm/BLF/Images/EUC_VIS/imageEUC_VI...</td>\n",
       "      <td>/home/vivianemm/BLF/Images/EUC_Y/imageEUC_Y-20...</td>\n",
       "    </tr>\n",
       "    <tr>\n",
       "      <th>4</th>\n",
       "      <td>200005</td>\n",
       "      <td>2.980050e-07</td>\n",
       "      <td>3.114750e-07</td>\n",
       "      <td>3389</td>\n",
       "      <td>2.62</td>\n",
       "      <td>0.734329</td>\n",
       "      <td>26.0315</td>\n",
       "      <td>6.982860e-10</td>\n",
       "      <td>23</td>\n",
       "      <td>6.095680e-06</td>\n",
       "      <td>...</td>\n",
       "      <td>3</td>\n",
       "      <td>9</td>\n",
       "      <td>7.507740e+13</td>\n",
       "      <td>8.194420e+11</td>\n",
       "      <td>20.3108</td>\n",
       "      <td>1</td>\n",
       "      <td>/home/vivianemm/BLF/Images/EUC_H/imageEUC_H-20...</td>\n",
       "      <td>/home/vivianemm/BLF/Images/EUC_J/imageEUC_J-20...</td>\n",
       "      <td>/home/vivianemm/BLF/Images/EUC_VIS/imageEUC_VI...</td>\n",
       "      <td>/home/vivianemm/BLF/Images/EUC_Y/imageEUC_Y-20...</td>\n",
       "    </tr>\n",
       "    <tr>\n",
       "      <th>...</th>\n",
       "      <td>...</td>\n",
       "      <td>...</td>\n",
       "      <td>...</td>\n",
       "      <td>...</td>\n",
       "      <td>...</td>\n",
       "      <td>...</td>\n",
       "      <td>...</td>\n",
       "      <td>...</td>\n",
       "      <td>...</td>\n",
       "      <td>...</td>\n",
       "      <td>...</td>\n",
       "      <td>...</td>\n",
       "      <td>...</td>\n",
       "      <td>...</td>\n",
       "      <td>...</td>\n",
       "      <td>...</td>\n",
       "      <td>...</td>\n",
       "      <td>...</td>\n",
       "      <td>...</td>\n",
       "      <td>...</td>\n",
       "      <td>...</td>\n",
       "    </tr>\n",
       "    <tr>\n",
       "      <th>99986</th>\n",
       "      <td>299996</td>\n",
       "      <td>8.426930e-08</td>\n",
       "      <td>4.142970e-07</td>\n",
       "      <td>9732</td>\n",
       "      <td>2.33</td>\n",
       "      <td>0.454103</td>\n",
       "      <td>27.6100</td>\n",
       "      <td>2.289920e-10</td>\n",
       "      <td>22</td>\n",
       "      <td>1.108540e-05</td>\n",
       "      <td>...</td>\n",
       "      <td>4</td>\n",
       "      <td>6</td>\n",
       "      <td>2.217870e+13</td>\n",
       "      <td>3.244700e+11</td>\n",
       "      <td>19.3234</td>\n",
       "      <td>1</td>\n",
       "      <td>/home/vivianemm/BLF/Images/EUC_H/imageEUC_H-29...</td>\n",
       "      <td>/home/vivianemm/BLF/Images/EUC_J/imageEUC_J-29...</td>\n",
       "      <td>/home/vivianemm/BLF/Images/EUC_VIS/imageEUC_VI...</td>\n",
       "      <td>/home/vivianemm/BLF/Images/EUC_Y/imageEUC_Y-29...</td>\n",
       "    </tr>\n",
       "    <tr>\n",
       "      <th>99987</th>\n",
       "      <td>299997</td>\n",
       "      <td>-5.844760e-08</td>\n",
       "      <td>-2.954790e-07</td>\n",
       "      <td>3872</td>\n",
       "      <td>2.51</td>\n",
       "      <td>1.020240</td>\n",
       "      <td>27.0104</td>\n",
       "      <td>1.044180e-10</td>\n",
       "      <td>17</td>\n",
       "      <td>2.699780e-06</td>\n",
       "      <td>...</td>\n",
       "      <td>1</td>\n",
       "      <td>3</td>\n",
       "      <td>1.116210e+13</td>\n",
       "      <td>4.611810e+11</td>\n",
       "      <td>22.4231</td>\n",
       "      <td>1</td>\n",
       "      <td>/home/vivianemm/BLF/Images/EUC_H/imageEUC_H-29...</td>\n",
       "      <td>/home/vivianemm/BLF/Images/EUC_J/imageEUC_J-29...</td>\n",
       "      <td>/home/vivianemm/BLF/Images/EUC_VIS/imageEUC_VI...</td>\n",
       "      <td>/home/vivianemm/BLF/Images/EUC_Y/imageEUC_Y-29...</td>\n",
       "    </tr>\n",
       "    <tr>\n",
       "      <th>99988</th>\n",
       "      <td>299998</td>\n",
       "      <td>1.750520e-07</td>\n",
       "      <td>-3.489430e-07</td>\n",
       "      <td>1479</td>\n",
       "      <td>2.34</td>\n",
       "      <td>0.880956</td>\n",
       "      <td>26.9190</td>\n",
       "      <td>2.586480e-10</td>\n",
       "      <td>14</td>\n",
       "      <td>5.093080e-06</td>\n",
       "      <td>...</td>\n",
       "      <td>2</td>\n",
       "      <td>5</td>\n",
       "      <td>2.244270e+13</td>\n",
       "      <td>6.148510e+11</td>\n",
       "      <td>21.2026</td>\n",
       "      <td>1</td>\n",
       "      <td>/home/vivianemm/BLF/Images/EUC_H/imageEUC_H-29...</td>\n",
       "      <td>/home/vivianemm/BLF/Images/EUC_J/imageEUC_J-29...</td>\n",
       "      <td>/home/vivianemm/BLF/Images/EUC_VIS/imageEUC_VI...</td>\n",
       "      <td>/home/vivianemm/BLF/Images/EUC_Y/imageEUC_Y-29...</td>\n",
       "    </tr>\n",
       "    <tr>\n",
       "      <th>99989</th>\n",
       "      <td>299999</td>\n",
       "      <td>-1.074260e-07</td>\n",
       "      <td>-1.454120e-07</td>\n",
       "      <td>5679</td>\n",
       "      <td>3.34</td>\n",
       "      <td>1.018260</td>\n",
       "      <td>27.5704</td>\n",
       "      <td>3.439960e-10</td>\n",
       "      <td>11</td>\n",
       "      <td>6.165830e-06</td>\n",
       "      <td>...</td>\n",
       "      <td>1</td>\n",
       "      <td>3</td>\n",
       "      <td>2.956680e+13</td>\n",
       "      <td>8.741080e+11</td>\n",
       "      <td>21.6255</td>\n",
       "      <td>1</td>\n",
       "      <td>/home/vivianemm/BLF/Images/EUC_H/imageEUC_H-29...</td>\n",
       "      <td>/home/vivianemm/BLF/Images/EUC_J/imageEUC_J-29...</td>\n",
       "      <td>/home/vivianemm/BLF/Images/EUC_VIS/imageEUC_VI...</td>\n",
       "      <td>/home/vivianemm/BLF/Images/EUC_Y/imageEUC_Y-29...</td>\n",
       "    </tr>\n",
       "    <tr>\n",
       "      <th>99990</th>\n",
       "      <td>300000</td>\n",
       "      <td>2.950420e-07</td>\n",
       "      <td>3.626340e-07</td>\n",
       "      <td>1655</td>\n",
       "      <td>2.52</td>\n",
       "      <td>1.697940</td>\n",
       "      <td>26.2494</td>\n",
       "      <td>1.710360e-10</td>\n",
       "      <td>22</td>\n",
       "      <td>7.766160e-07</td>\n",
       "      <td>...</td>\n",
       "      <td>2</td>\n",
       "      <td>5</td>\n",
       "      <td>1.173860e+13</td>\n",
       "      <td>3.987750e+11</td>\n",
       "      <td>24.3183</td>\n",
       "      <td>1</td>\n",
       "      <td>/home/vivianemm/BLF/Images/EUC_H/imageEUC_H-30...</td>\n",
       "      <td>/home/vivianemm/BLF/Images/EUC_J/imageEUC_J-30...</td>\n",
       "      <td>/home/vivianemm/BLF/Images/EUC_VIS/imageEUC_VI...</td>\n",
       "      <td>/home/vivianemm/BLF/Images/EUC_Y/imageEUC_Y-30...</td>\n",
       "    </tr>\n",
       "  </tbody>\n",
       "</table>\n",
       "<p>99991 rows × 30 columns</p>\n",
       "</div>"
      ],
      "text/plain": [
       "           ID        x_crit        y_crit  source_ID  z_source    z_lens  \\\n",
       "0      200001  3.467590e-07  1.388970e-07       5131      1.96  0.699792   \n",
       "1      200002  2.440650e-07 -2.128040e-07       7183      1.96  0.522781   \n",
       "2      200003  4.086340e-07  2.556650e-07       4746      2.10  0.684567   \n",
       "3      200004  7.584890e-08 -1.600640e-08       4426      1.93  0.540055   \n",
       "4      200005  2.980050e-07  3.114750e-07       3389      2.62  0.734329   \n",
       "...       ...           ...           ...        ...       ...       ...   \n",
       "99986  299996  8.426930e-08  4.142970e-07       9732      2.33  0.454103   \n",
       "99987  299997 -5.844760e-08 -2.954790e-07       3872      2.51  1.020240   \n",
       "99988  299998  1.750520e-07 -3.489430e-07       1479      2.34  0.880956   \n",
       "99989  299999 -1.074260e-07 -1.454120e-07       5679      3.34  1.018260   \n",
       "99990  300000  2.950420e-07  3.626340e-07       1655      2.52  1.697940   \n",
       "\n",
       "       mag_source      ein_area  n_crit      r_source  ...  n_gal_5  n_gal_10  \\\n",
       "0         22.0469  3.714770e-10      19  3.259740e-06  ...        2         5   \n",
       "1         25.4845  5.677310e-10      12  3.097520e-06  ...        0         4   \n",
       "2         25.4078  1.857780e-09      41  1.691660e-05  ...        2        10   \n",
       "3         25.6997  7.307720e-10      24  1.506090e-05  ...        4         9   \n",
       "4         26.0315  6.982860e-10      23  6.095680e-06  ...        3         9   \n",
       "...           ...           ...     ...           ...  ...      ...       ...   \n",
       "99986     27.6100  2.289920e-10      22  1.108540e-05  ...        4         6   \n",
       "99987     27.0104  1.044180e-10      17  2.699780e-06  ...        1         3   \n",
       "99988     26.9190  2.586480e-10      14  5.093080e-06  ...        2         5   \n",
       "99989     27.5704  3.439960e-10      11  6.165830e-06  ...        1         3   \n",
       "99990     26.2494  1.710360e-10      22  7.766160e-07  ...        2         5   \n",
       "\n",
       "          halo_mass     star_mass  mag_lens  n_sources  \\\n",
       "0      5.046820e+13  6.426010e+11   20.2312          1   \n",
       "1      1.027460e+14  8.192230e+11   18.9784          1   \n",
       "2      4.105040e+14  1.151740e+12   19.2772          0   \n",
       "3      1.729910e+14  4.497190e+11   19.1146          1   \n",
       "4      7.507740e+13  8.194420e+11   20.3108          1   \n",
       "...             ...           ...       ...        ...   \n",
       "99986  2.217870e+13  3.244700e+11   19.3234          1   \n",
       "99987  1.116210e+13  4.611810e+11   22.4231          1   \n",
       "99988  2.244270e+13  6.148510e+11   21.2026          1   \n",
       "99989  2.956680e+13  8.741080e+11   21.6255          1   \n",
       "99990  1.173860e+13  3.987750e+11   24.3183          1   \n",
       "\n",
       "                                              img_path_H  \\\n",
       "0      /home/vivianemm/BLF/Images/EUC_H/imageEUC_H-20...   \n",
       "1      /home/vivianemm/BLF/Images/EUC_H/imageEUC_H-20...   \n",
       "2      /home/vivianemm/BLF/Images/EUC_H/imageEUC_H-20...   \n",
       "3      /home/vivianemm/BLF/Images/EUC_H/imageEUC_H-20...   \n",
       "4      /home/vivianemm/BLF/Images/EUC_H/imageEUC_H-20...   \n",
       "...                                                  ...   \n",
       "99986  /home/vivianemm/BLF/Images/EUC_H/imageEUC_H-29...   \n",
       "99987  /home/vivianemm/BLF/Images/EUC_H/imageEUC_H-29...   \n",
       "99988  /home/vivianemm/BLF/Images/EUC_H/imageEUC_H-29...   \n",
       "99989  /home/vivianemm/BLF/Images/EUC_H/imageEUC_H-29...   \n",
       "99990  /home/vivianemm/BLF/Images/EUC_H/imageEUC_H-30...   \n",
       "\n",
       "                                              img_path_J  \\\n",
       "0      /home/vivianemm/BLF/Images/EUC_J/imageEUC_J-20...   \n",
       "1      /home/vivianemm/BLF/Images/EUC_J/imageEUC_J-20...   \n",
       "2      /home/vivianemm/BLF/Images/EUC_J/imageEUC_J-20...   \n",
       "3      /home/vivianemm/BLF/Images/EUC_J/imageEUC_J-20...   \n",
       "4      /home/vivianemm/BLF/Images/EUC_J/imageEUC_J-20...   \n",
       "...                                                  ...   \n",
       "99986  /home/vivianemm/BLF/Images/EUC_J/imageEUC_J-29...   \n",
       "99987  /home/vivianemm/BLF/Images/EUC_J/imageEUC_J-29...   \n",
       "99988  /home/vivianemm/BLF/Images/EUC_J/imageEUC_J-29...   \n",
       "99989  /home/vivianemm/BLF/Images/EUC_J/imageEUC_J-29...   \n",
       "99990  /home/vivianemm/BLF/Images/EUC_J/imageEUC_J-30...   \n",
       "\n",
       "                                            img_path_VIS  \\\n",
       "0      /home/vivianemm/BLF/Images/EUC_VIS/imageEUC_VI...   \n",
       "1      /home/vivianemm/BLF/Images/EUC_VIS/imageEUC_VI...   \n",
       "2      /home/vivianemm/BLF/Images/EUC_VIS/imageEUC_VI...   \n",
       "3      /home/vivianemm/BLF/Images/EUC_VIS/imageEUC_VI...   \n",
       "4      /home/vivianemm/BLF/Images/EUC_VIS/imageEUC_VI...   \n",
       "...                                                  ...   \n",
       "99986  /home/vivianemm/BLF/Images/EUC_VIS/imageEUC_VI...   \n",
       "99987  /home/vivianemm/BLF/Images/EUC_VIS/imageEUC_VI...   \n",
       "99988  /home/vivianemm/BLF/Images/EUC_VIS/imageEUC_VI...   \n",
       "99989  /home/vivianemm/BLF/Images/EUC_VIS/imageEUC_VI...   \n",
       "99990  /home/vivianemm/BLF/Images/EUC_VIS/imageEUC_VI...   \n",
       "\n",
       "                                              img_path_Y  \n",
       "0      /home/vivianemm/BLF/Images/EUC_Y/imageEUC_Y-20...  \n",
       "1      /home/vivianemm/BLF/Images/EUC_Y/imageEUC_Y-20...  \n",
       "2      /home/vivianemm/BLF/Images/EUC_Y/imageEUC_Y-20...  \n",
       "3      /home/vivianemm/BLF/Images/EUC_Y/imageEUC_Y-20...  \n",
       "4      /home/vivianemm/BLF/Images/EUC_Y/imageEUC_Y-20...  \n",
       "...                                                  ...  \n",
       "99986  /home/vivianemm/BLF/Images/EUC_Y/imageEUC_Y-29...  \n",
       "99987  /home/vivianemm/BLF/Images/EUC_Y/imageEUC_Y-29...  \n",
       "99988  /home/vivianemm/BLF/Images/EUC_Y/imageEUC_Y-29...  \n",
       "99989  /home/vivianemm/BLF/Images/EUC_Y/imageEUC_Y-29...  \n",
       "99990  /home/vivianemm/BLF/Images/EUC_Y/imageEUC_Y-30...  \n",
       "\n",
       "[99991 rows x 30 columns]"
      ]
     },
     "execution_count": 55,
     "metadata": {},
     "output_type": "execute_result"
    }
   ],
   "source": [
    "# files in folders\n",
    "files_H = os.listdir(\"/home/vivianemm/BLF/Images/EUC_H\")\n",
    "files_J = os.listdir(\"/home/vivianemm/BLF/Images/EUC_J\")\n",
    "files_VIS = os.listdir(\"/home/vivianemm/BLF/Images/EUC_VIS\")\n",
    "files_Y = os.listdir(\"/home/vivianemm/BLF/Images/EUC_Y\")\n",
    "file_paths_H = ['/home/vivianemm/BLF/Images/EUC_H/'+ file for file in files_H]  # has .pngs and .fits files\n",
    "file_paths_J = ['/home/vivianemm/BLF/Images/EUC_J/'+ file for file in files_J]\n",
    "file_paths_VIS = ['/home/vivianemm/BLF/Images/EUC_VIS/'+ file for file in files_VIS]\n",
    "file_paths_Y = ['/home/vivianemm/BLF/Images/EUC_Y/'+ file for file in files_Y]\n",
    "\n",
    "# paths in csv\n",
    "catalog = pd.read_csv('/home/vivianemm/GravLens/Database/blf_complete.csv', comment='#')\n",
    "paths_H = list(catalog['img_path_H'])\n",
    "paths_J = list(catalog['img_path_J'])\n",
    "paths_VIS = list(catalog['img_path_VIS'])\n",
    "paths_Y = list(catalog['img_path_Y'])\n",
    "\n",
    "\n",
    "# filter H\n",
    "intersection_H = list(set(file_paths_H) & set(paths_H))\n",
    "inter_H = pd.DataFrame(intersection_H)\n",
    "inter_H.columns = ['img_path_H']\n",
    "\n",
    "result_H = pd.merge(catalog, inter_H, how='inner', on=['img_path_H'])\n",
    "\n",
    "\n",
    "# filter J\n",
    "intersection_J = list(set(file_paths_J) & set(paths_J))\n",
    "inter_J = pd.DataFrame(intersection_J)\n",
    "inter_J.columns = ['img_path_J']\n",
    "result_HJ = pd.merge(result_H, inter_J, how='inner', on=['img_path_J'])\n",
    "\n",
    "# filter VIS\n",
    "intersection_VIS = list(set(file_paths_VIS) & set(paths_VIS))\n",
    "inter_VIS = pd.DataFrame(intersection_VIS)\n",
    "inter_VIS.columns = ['img_path_VIS']\n",
    "result_HJV = pd.merge(result_HJ, inter_VIS, how='inner', on=['img_path_VIS'])\n",
    "\n",
    "# filter Y\n",
    "intersection_Y = list(set(file_paths_Y) & set(paths_Y))\n",
    "inter_Y = pd.DataFrame(intersection_Y)\n",
    "inter_Y.columns = ['img_path_Y']\n",
    "result_HJVY = pd.merge(result_HJV, inter_Y, how='inner', on=['img_path_Y'])\n",
    "\n",
    "result_HJVY"
   ]
  },
  {
   "cell_type": "markdown",
   "metadata": {},
   "source": [
    "## Creating a network"
   ]
  },
  {
   "cell_type": "code",
   "execution_count": 64,
   "metadata": {},
   "outputs": [],
   "source": [
    "import gc\n",
    "from keras.preprocessing.image import img_to_array\n",
    "from imutils import paths\n",
    "from sklearn.preprocessing import MultiLabelBinarizer\n",
    "import cv2\n",
    "import os\n",
    "\n",
    "# reads png images (filter given in parameters)\n",
    "# filters: H, J, VIS, Y\n",
    "\n",
    "def get_data(IMAGE_DIMS):\n",
    "    \n",
    "    blf = result_HJVY\n",
    "    blf_0 = blf[blf['n_sources'] == 0]  # not lens  ->  minority class\n",
    "    blf_1 = blf[blf['n_sources'] == 1]  # lens\n",
    "    \n",
    "    ######## blf 0 #########\n",
    "    imgs_0 = np.zeros((len(blf_0), IMAGE_DIMS[1], IMAGE_DIMS[0], 4))\n",
    "    filter_cont = 0\n",
    "    \n",
    "    for filter in ['H', 'J', 'VIS', 'Y']:\n",
    "        \n",
    "        imgs = []\n",
    "        for path in blf_0['img_path_{}'.format(filter)]:\n",
    "\n",
    "                image = cv2.imread(path)\n",
    "                image = cv2.resize(image, (IMAGE_DIMS[1], IMAGE_DIMS[0]))\n",
    "                gray = cv2.cvtColor(image, cv2.COLOR_BGR2GRAY)\n",
    "                image = img_to_array(gray)\n",
    "                image = image / 255.0  # normalizing (between 0 and 1)\n",
    "\n",
    "                imgs.append(image)\n",
    "            \n",
    "        \n",
    "        imgs = np.array(imgs)\n",
    "        imgs = np.reshape(imgs, (imgs.shape[0], imgs.shape[1], imgs.shape[2] ))\n",
    "        imgs_0[:,:,:,filter_cont] = imgs\n",
    "        filter_cont += 1 \n",
    "\n",
    "    labels_0 = np.array(blf_0['n_sources'])\n",
    "    \n",
    "    \n",
    "    ######### blf 1 ##########\n",
    "    blf_1 = blf_1.sample(n=len(blf_0), random_state=1)\n",
    "    imgs_1 = np.zeros((len(blf_0), IMAGE_DIMS[1], IMAGE_DIMS[0], 4))\n",
    "   \n",
    "    cont = 0\n",
    "    for filter in ['H', 'J', 'VIS', 'Y']:\n",
    "        \n",
    "        imgs = []\n",
    "        for path in blf_1['img_path_{}'.format(filter)]:\n",
    "            image = cv2.imread(path)\n",
    "            image = cv2.resize(image, (IMAGE_DIMS[1], IMAGE_DIMS[0]))\n",
    "            gray = cv2.cvtColor(image, cv2.COLOR_BGR2GRAY)\n",
    "            image = img_to_array(gray)\n",
    "            image = image / 255.0  # normalizing (between 0 and 1)\n",
    "\n",
    "            imgs.append(image)\n",
    "            \n",
    "        \n",
    "        imgs = np.array(imgs)\n",
    "        imgs = np.reshape(imgs, (imgs.shape[0], imgs.shape[1], imgs.shape[2] ))\n",
    "        imgs_1[:,:,:,cont] = imgs\n",
    "        cont += 1 \n",
    "\n",
    "    labels_1 = np.array(blf_1['n_sources'])\n",
    "    \n",
    "    ####### concatenating imgs and labels from blf_0 and blf_1 #######\n",
    "    imgs = np.concatenate((imgs_0, imgs_1), axis=0)\n",
    "    labels = np.concatenate((labels_0, labels_1), axis=0)\n",
    "    \n",
    "    \n",
    "    return imgs, labels"
   ]
  },
  {
   "cell_type": "code",
   "execution_count": 65,
   "metadata": {},
   "outputs": [
    {
     "name": "stdout",
     "output_type": "stream",
     "text": [
      "(10004, 66, 66)\n",
      "(10004, 66, 66)\n",
      "(10004, 66, 66)\n",
      "(10004, 66, 66)\n"
     ]
    }
   ],
   "source": [
    "imgs, labels = get_data((66,66))"
   ]
  },
  {
   "cell_type": "code",
   "execution_count": 6,
   "metadata": {},
   "outputs": [],
   "source": [
    "#imgs = np.load('/home/vivianemm/imagens.npy')\n",
    "#labels = np.load(\"labels.npy\")"
   ]
  },
  {
   "cell_type": "code",
   "execution_count": 7,
   "metadata": {},
   "outputs": [],
   "source": [
    "def balance(labels, imgs):\n",
    "    a = np.unique(labels, return_counts=True)\n",
    "    n_lens = a[1][0]\n",
    "\n",
    "    b = np.where(labels == 1)\n",
    "    b[0].shape\n",
    "    r = np.random.choice(b[0], n_lens)\n",
    "\n",
    "    lens = np.where(labels == 0)\n",
    "\n",
    "    indices = np.concatenate((r, lens), axis=None)  # indices dos elementos que serao utilizados\n",
    "    \n",
    "    labels = labels[indices]\n",
    "    imgs = imgs[indices,]\n",
    "        \n",
    "    return labels, imgs"
   ]
  },
  {
   "cell_type": "code",
   "execution_count": 75,
   "metadata": {},
   "outputs": [],
   "source": [
    "np.save(\"images.npy\", imgs)\n",
    "np.save(\"labels.npy\", labels)"
   ]
  },
  {
   "cell_type": "code",
   "execution_count": 66,
   "metadata": {},
   "outputs": [
    {
     "data": {
      "text/plain": [
       "(2001, 66, 66, 4)"
      ]
     },
     "execution_count": 66,
     "metadata": {},
     "output_type": "execute_result"
    }
   ],
   "source": [
    "# Splitting dataset into training, validation and test data    model = Sequential()\n",
    "    model.add(Conv2D(32, kernel_size = (11,11), input_shape = (66,66,4), activation = \"relu\"))\n",
    "    model.add(Dropout(1/3.0))\n",
    "    model.add(Conv2D(64, kernel_size = (5,5), activation = \"relu\"))\n",
    "    model.add(Dropout(1/3.0))\n",
    "    model.add(Conv2D(64, kernel_size = (3,3), activation = \"relu\"))\n",
    "    model.add(Dropout(1/3.0))\n",
    "    model.add(Flatten())\n",
    "    model.add(Dense(256, activation = \"relu\"))\n",
    "    model.add(Dropout(1/2.0))\n",
    "    model.add(Dense(64, activation = \"relu\"))\n",
    "    model.add(Dropout(1/2.0))\n",
    "    model.add(Dense(1, activation = \"sigmoid\"))\n",
    "imgs, imgs_test, labels, labels_test = train_test_split(imgs, labels, test_size=0.1, random_state=42)\n",
    "imgs, imgs_val, labels, labels_val = train_test_split(imgs, labels, test_size=0.30, random_state=42)"
   ]
  },
  {
   "cell_type": "code",
   "execution_count": null,
   "metadata": {},
   "outputs": [],
   "source": [
    "# Data augmentation\n",
    "aug = ImageDataGenerator(rotation_range=180, width_shift_range=0.1, height_shift_range=0.1, \n",
    "                         shear_range=0.1, zoom_range=0.1, fill_mode='nearest',\n",
    "                         horizontal_flip=True, vertical_flip=True)"
   ]
  },
  {
   "cell_type": "code",
   "execution_count": 71,
   "metadata": {},
   "outputs": [],
   "source": [
    "def model():\n",
    "    \n",
    "    model = Sequential()\n",
    "    model.add(Conv2D(32, kernel_size = (11,11), input_shape = (66,66,4), activation = \"relu\"))\n",
    "    model.add(Dropout(1/3.0))\n",
    "    model.add(Conv2D(64, kernel_size = (5,5), activation = \"relu\"))\n",
    "    model.add(Dropout(1/3.0))\n",
    "    model.add(Conv2D(64, kernel_size = (3,3), activation = \"relu\"))\n",
    "    model.add(Dropout(1/3.0))\n",
    "    model.add(Flatten())\n",
    "    model.add(Dense(256, activation = \"relu\"))\n",
    "    model.add(Dropout(1/2.0))\n",
    "    model.add(Dense(64, activation = \"relu\"))\n",
    "    model.add(Dropout(1/2.0))\n",
    "    model.add(Dense(1, activation = \"sigmoid\"))\n",
    "    \n",
    "    return model"
   ]
  },
  {
   "cell_type": "code",
   "execution_count": 72,
   "metadata": {},
   "outputs": [],
   "source": [
    "modelo = model()\n",
    "modelo.compile(loss = \"binary_crossentropy\", optimizer = \"adam\", metrics = [\"accuracy\"])"
   ]
  },
  {
   "cell_type": "code",
   "execution_count": 73,
   "metadata": {},
   "outputs": [],
   "source": [
    "#modelo.summary()"
   ]
  },
  {
   "cell_type": "code",
   "execution_count": null,
   "metadata": {},
   "outputs": [],
   "source": [
    "from keras.optimizers import Adam\n",
    "learning_rate = 10**(-3)\n",
    "opt = Adam(lr = learning_rate, decay = (1/0.99 - 1)/(imgs.shape[0]/32))"
   ]
  },
  {
   "cell_type": "code",
   "execution_count": null,
   "metadata": {},
   "outputs": [],
   "source": [
    "history = modelo.fit_generator(aug.flow(imgs,labels), epochs=300, validation_data = (imgs_val, labels_val))"
   ]
  },
  {
   "cell_type": "code",
   "execution_count": null,
   "metadata": {},
   "outputs": [],
   "source": [
    "def plot_loss(model):\n",
    "    \n",
    "    plt.plot(np.arange(0, 30), history.history[\"loss\"], label = \"training loss\")\n",
    "    plt.plot(np.arange(0, 30), history.history[\"val_loss\"], label = \"Validation loss\")\n",
    "    plt.xlabel(\"Epoch\")\n",
    "    plt.legend(loc=\"upper left\")\n",
    "    plt.show()\n",
    "    \n",
    "    return None"
   ]
  },
  {
   "cell_type": "code",
   "execution_count": 80,
   "metadata": {},
   "outputs": [],
   "source": [
    "#plt.plot(np.arange(0, 30), history.history[\"acc\"], label = \"Erro de trainamento\")\n",
    "#plt.plot(np.arange(0, 30), history.history[\"val_acc\"], label = \"Erro de validação\")\n",
    "#plt.xlabel(\"Epoch\")\n",
    "#plt.legend(loc=\"upper left\")\n",
    "#plt.show()"
   ]
  },
  {
   "cell_type": "code",
   "execution_count": 81,
   "metadata": {},
   "outputs": [],
   "source": [
    "def model_alt():\n",
    "    \n",
    "    model = Sequential()\n",
    "    model.add(Conv2D(55, kernel_size = (3,3), input_shape = (66,66,3), activation = \"relu\"))\n",
    "    model.add(Conv2D(32, kernel_size = (3,3), activation = \"relu\"))\n",
    "    model.add(Conv2D(52, kernel_size = (3,3), activation = \"relu\"))\n",
    "    model.add(MaxPooling2D(pool_size=(2, 2)))\n",
    "    model.add(Dropout(0.25))\n",
    "    model.add(Flatten())\n",
    "    model.add(Dense(25, activation = \"relu\"))\n",
    "    model.add(Dense(15, activation = \"relu\"))\n",
    "    model.add(Dense(1, activation = \"sigmoid\"))\n",
    "    \n",
    "    return model"
   ]
  },
  {
   "cell_type": "code",
   "execution_count": 82,
   "metadata": {},
   "outputs": [
    {
     "name": "stdout",
     "output_type": "stream",
     "text": [
      "WARNING:tensorflow:From /home/vivianemm/.local/lib/python3.6/site-packages/keras/backend/tensorflow_backend.py:4070: The name tf.nn.max_pool is deprecated. Please use tf.nn.max_pool2d instead.\n",
      "\n"
     ]
    }
   ],
   "source": [
    "modelo_alt = model_alt()"
   ]
  },
  {
   "cell_type": "code",
   "execution_count": 83,
   "metadata": {},
   "outputs": [
    {
     "ename": "ValueError",
     "evalue": "Error when checking input: expected conv2d_7_input to have shape (66, 66, 1) but got array with shape (66, 66, 3)",
     "output_type": "error",
     "traceback": [
      "\u001b[0;31m---------------------------------------------------------------------------\u001b[0m",
      "\u001b[0;31mValueError\u001b[0m                                Traceback (most recent call last)",
      "\u001b[0;32m<ipython-input-83-a40b90b0cac5>\u001b[0m in \u001b[0;36m<module>\u001b[0;34m\u001b[0m\n\u001b[1;32m      1\u001b[0m \u001b[0mmodelo_alt\u001b[0m\u001b[0;34m.\u001b[0m\u001b[0mcompile\u001b[0m\u001b[0;34m(\u001b[0m\u001b[0mloss\u001b[0m \u001b[0;34m=\u001b[0m \u001b[0;34m\"binary_crossentropy\"\u001b[0m\u001b[0;34m,\u001b[0m \u001b[0moptimizer\u001b[0m \u001b[0;34m=\u001b[0m \u001b[0;34m\"adam\"\u001b[0m\u001b[0;34m,\u001b[0m \u001b[0mmetrics\u001b[0m \u001b[0;34m=\u001b[0m \u001b[0;34m[\u001b[0m\u001b[0;34m\"accuracy\"\u001b[0m\u001b[0;34m]\u001b[0m\u001b[0;34m)\u001b[0m\u001b[0;34m\u001b[0m\u001b[0;34m\u001b[0m\u001b[0m\n\u001b[0;32m----> 2\u001b[0;31m \u001b[0mhistory_alt\u001b[0m \u001b[0;34m=\u001b[0m \u001b[0mmodelo_alt\u001b[0m\u001b[0;34m.\u001b[0m\u001b[0mfit\u001b[0m\u001b[0;34m(\u001b[0m\u001b[0mimgs\u001b[0m\u001b[0;34m,\u001b[0m\u001b[0mlabels\u001b[0m\u001b[0;34m,\u001b[0m \u001b[0mepochs\u001b[0m\u001b[0;34m=\u001b[0m\u001b[0;36m30\u001b[0m\u001b[0;34m,\u001b[0m \u001b[0mvalidation_data\u001b[0m \u001b[0;34m=\u001b[0m \u001b[0;34m(\u001b[0m\u001b[0mimgs_val\u001b[0m\u001b[0;34m,\u001b[0m \u001b[0mlabels_val\u001b[0m\u001b[0;34m)\u001b[0m\u001b[0;34m)\u001b[0m\u001b[0;34m\u001b[0m\u001b[0;34m\u001b[0m\u001b[0m\n\u001b[0m",
      "\u001b[0;32m~/.local/lib/python3.6/site-packages/keras/engine/training.py\u001b[0m in \u001b[0;36mfit\u001b[0;34m(self, x, y, batch_size, epochs, verbose, callbacks, validation_split, validation_data, shuffle, class_weight, sample_weight, initial_epoch, steps_per_epoch, validation_steps, validation_freq, max_queue_size, workers, use_multiprocessing, **kwargs)\u001b[0m\n\u001b[1;32m   1152\u001b[0m             \u001b[0msample_weight\u001b[0m\u001b[0;34m=\u001b[0m\u001b[0msample_weight\u001b[0m\u001b[0;34m,\u001b[0m\u001b[0;34m\u001b[0m\u001b[0;34m\u001b[0m\u001b[0m\n\u001b[1;32m   1153\u001b[0m             \u001b[0mclass_weight\u001b[0m\u001b[0;34m=\u001b[0m\u001b[0mclass_weight\u001b[0m\u001b[0;34m,\u001b[0m\u001b[0;34m\u001b[0m\u001b[0;34m\u001b[0m\u001b[0m\n\u001b[0;32m-> 1154\u001b[0;31m             batch_size=batch_size)\n\u001b[0m\u001b[1;32m   1155\u001b[0m \u001b[0;34m\u001b[0m\u001b[0m\n\u001b[1;32m   1156\u001b[0m         \u001b[0;31m# Prepare validation data.\u001b[0m\u001b[0;34m\u001b[0m\u001b[0;34m\u001b[0m\u001b[0;34m\u001b[0m\u001b[0m\n",
      "\u001b[0;32m~/.local/lib/python3.6/site-packages/keras/engine/training.py\u001b[0m in \u001b[0;36m_standardize_user_data\u001b[0;34m(self, x, y, sample_weight, class_weight, check_array_lengths, batch_size)\u001b[0m\n\u001b[1;32m    577\u001b[0m             \u001b[0mfeed_input_shapes\u001b[0m\u001b[0;34m,\u001b[0m\u001b[0;34m\u001b[0m\u001b[0;34m\u001b[0m\u001b[0m\n\u001b[1;32m    578\u001b[0m             \u001b[0mcheck_batch_axis\u001b[0m\u001b[0;34m=\u001b[0m\u001b[0;32mFalse\u001b[0m\u001b[0;34m,\u001b[0m  \u001b[0;31m# Don't enforce the batch size.\u001b[0m\u001b[0;34m\u001b[0m\u001b[0;34m\u001b[0m\u001b[0m\n\u001b[0;32m--> 579\u001b[0;31m             exception_prefix='input')\n\u001b[0m\u001b[1;32m    580\u001b[0m \u001b[0;34m\u001b[0m\u001b[0m\n\u001b[1;32m    581\u001b[0m         \u001b[0;32mif\u001b[0m \u001b[0my\u001b[0m \u001b[0;32mis\u001b[0m \u001b[0;32mnot\u001b[0m \u001b[0;32mNone\u001b[0m\u001b[0;34m:\u001b[0m\u001b[0;34m\u001b[0m\u001b[0;34m\u001b[0m\u001b[0m\n",
      "\u001b[0;32m~/.local/lib/python3.6/site-packages/keras/engine/training_utils.py\u001b[0m in \u001b[0;36mstandardize_input_data\u001b[0;34m(data, names, shapes, check_batch_axis, exception_prefix)\u001b[0m\n\u001b[1;32m    143\u001b[0m                             \u001b[0;34m': expected '\u001b[0m \u001b[0;34m+\u001b[0m \u001b[0mnames\u001b[0m\u001b[0;34m[\u001b[0m\u001b[0mi\u001b[0m\u001b[0;34m]\u001b[0m \u001b[0;34m+\u001b[0m \u001b[0;34m' to have shape '\u001b[0m \u001b[0;34m+\u001b[0m\u001b[0;34m\u001b[0m\u001b[0;34m\u001b[0m\u001b[0m\n\u001b[1;32m    144\u001b[0m                             \u001b[0mstr\u001b[0m\u001b[0;34m(\u001b[0m\u001b[0mshape\u001b[0m\u001b[0;34m)\u001b[0m \u001b[0;34m+\u001b[0m \u001b[0;34m' but got array with shape '\u001b[0m \u001b[0;34m+\u001b[0m\u001b[0;34m\u001b[0m\u001b[0;34m\u001b[0m\u001b[0m\n\u001b[0;32m--> 145\u001b[0;31m                             str(data_shape))\n\u001b[0m\u001b[1;32m    146\u001b[0m     \u001b[0;32mreturn\u001b[0m \u001b[0mdata\u001b[0m\u001b[0;34m\u001b[0m\u001b[0;34m\u001b[0m\u001b[0m\n\u001b[1;32m    147\u001b[0m \u001b[0;34m\u001b[0m\u001b[0m\n",
      "\u001b[0;31mValueError\u001b[0m: Error when checking input: expected conv2d_7_input to have shape (66, 66, 1) but got array with shape (66, 66, 3)"
     ]
    }
   ],
   "source": [
    "modelo_alt.compile(loss = \"binary_crossentropy\", optimizer = \"adam\", metrics = [\"accuracy\"])\n",
    "history_alt = modelo_alt.fit(imgs,labels, epochs=30, validation_data = (imgs_val, labels_val))"
   ]
  },
  {
   "cell_type": "code",
   "execution_count": null,
   "metadata": {},
   "outputs": [],
   "source": [
    "plt.plot(np.arange(0, 30), history_alt.history[\"loss\"], label = \"Loss modelo alt\")\n",
    "plt.plot(np.arange(0, 30), history.history[\"loss\"], label = \"Loss\")\n",
    "plt.xlabel(\"Epoch\")\n",
    "plt.legend(loc=\"upper left\")\n",
    "plt.show()"
   ]
  },
  {
   "cell_type": "code",
   "execution_count": null,
   "metadata": {},
   "outputs": [],
   "source": [
    "plt.plot(np.arange(0, 30), history_alt.history[\"val_loss\"], label = \"val_loss alt\")\n",
    "plt.plot(np.arange(0, 30), history.history[\"val_loss\"], label = \"Val_loss\")\n",
    "plt.xlabel(\"Epoch\")\n",
    "plt.legend(loc=\"upper left\")\n",
    "plt.show()"
   ]
  },
  {
   "cell_type": "code",
   "execution_count": null,
   "metadata": {},
   "outputs": [],
   "source": [
    "a = pd.read_csv('Database/blf_complete.csv', comment=\"#\")\n",
    "a.set_index(a['ID'])\n",
    "a #['img_path_H'] #[213913]"
   ]
  },
  {
   "cell_type": "markdown",
   "metadata": {},
   "source": [
    "# Tables\n",
    "\n",
    "#### Separar features e target\n",
    "#### Verificar se existem váriaveis categóricas -> mapear para 0,1 (duas classes) ou one-hot-encoding (mais classes)\n",
    "#### Tratar dados faltantes\n",
    "#### Normalização\n",
    "#### Balanceamento\n",
    "#### Split -> treino, validação e teste\n",
    "#### Utilizar camadas densas no modelo"
   ]
  },
  {
   "cell_type": "code",
   "execution_count": 235,
   "metadata": {},
   "outputs": [],
   "source": [
    "def get_data_table():\n",
    "    \n",
    "    blf = pd.read_csv('Database/blf_complete.csv', comment=\"#\")\n",
    "    blf = blf.dropna()\n",
    "    blf.reset_index(inplace=True, drop=True)\n",
    "    labels = np.array(blf['n_sources'])\n",
    "    blf.drop(['n_sources', 'source_ID', 'ID'], inplace=True, axis=1)\n",
    "    blf.drop(['img_path_H', 'img_path_J', 'img_path_VIS', 'img_path_Y'], inplace=True, axis=1)\n",
    "    \n",
    "    blf.drop(['x_crit', 'y_crit', 'n_crit', 'r_source', 'crit_area', 'ein_area', 'n_gal_3', 'n_gal_5',\n",
    "             'n_gal_10', 'halo_mass', 'star_mass', 'n_source_im', 'n_pix_lens', 'sb_contrast', 'n_pix_source',\n",
    "             'mag_source', 'mag_lens', 'mag_eff', 'color_diff', 'z_source', 'z_lens'], inplace=True, axis=1)\n",
    "    \n",
    "    blf = (blf-blf.min())/(blf.max()-blf.min())  # normalizing (0 to 1)\n",
    "    \n",
    "    return blf, labels\n"
   ]
  },
  {
   "cell_type": "code",
   "execution_count": 246,
   "metadata": {},
   "outputs": [],
   "source": [
    "features, labels = get_data_table()"
   ]
  },
  {
   "cell_type": "code",
   "execution_count": 237,
   "metadata": {},
   "outputs": [
    {
     "data": {
      "text/plain": [
       "Index(['source_flux', 'lens_flux'], dtype='object')"
      ]
     },
     "execution_count": 237,
     "metadata": {},
     "output_type": "execute_result"
    }
   ],
   "source": [
    "features.columns"
   ]
  },
  {
   "cell_type": "code",
   "execution_count": null,
   "metadata": {},
   "outputs": [],
   "source": [
    "from ggplot import *\n",
    "#plt.plot(features['source_flux'], features['lens_flux'], c = labels)\n",
    "\n",
    "ggplot(aes(x='source_flux', y='lens_flux', color=labels), data=features)  + geom_point()"
   ]
  },
  {
   "cell_type": "code",
   "execution_count": 238,
   "metadata": {},
   "outputs": [],
   "source": [
    "def balance_table(features, labels):\n",
    "    \n",
    "    features = features.to_numpy()\n",
    "    \n",
    "    not_lens = np.unique(labels, return_counts=True)[1][0]  # number of 0's\n",
    "\n",
    "    lens_index = np.where(labels == 1)\n",
    "    lens_index[0].shape\n",
    "    sample_lens = np.random.choice(lens_index[0], not_lens)\n",
    "\n",
    "    not_lens_index = np.where(labels == 0)\n",
    "\n",
    "    indices = np.concatenate((sample_lens, not_lens_index), axis=None)  # indices dos elementos que serao utilizados\n",
    "    \n",
    "    labels = labels[indices]\n",
    "    features = features[indices,]\n",
    "        \n",
    "    return features, labels"
   ]
  },
  {
   "cell_type": "code",
   "execution_count": 239,
   "metadata": {},
   "outputs": [],
   "source": [
    "features, labels = balance_table(features, labels)"
   ]
  },
  {
   "cell_type": "code",
   "execution_count": 240,
   "metadata": {},
   "outputs": [],
   "source": [
    "features, features_test, labels, labels_test = train_test_split(features, labels, test_size=0.1, random_state=42)\n",
    "features, features_val, labels, labels_val = train_test_split(features, labels, test_size=0.30, random_state=42)"
   ]
  },
  {
   "cell_type": "code",
   "execution_count": 241,
   "metadata": {},
   "outputs": [],
   "source": [
    "def model_table():\n",
    "    \n",
    "    model = Sequential()\n",
    "    #model.add(Dense(25, activation = \"relu\"))\n",
    "    model.add(Dense(5, activation = \"relu\"))\n",
    "    model.add(Dense(1, activation = \"sigmoid\"))\n",
    "    \n",
    "    return model"
   ]
  },
  {
   "cell_type": "code",
   "execution_count": 242,
   "metadata": {},
   "outputs": [],
   "source": [
    "model_t = model_table()"
   ]
  },
  {
   "cell_type": "code",
   "execution_count": 243,
   "metadata": {},
   "outputs": [],
   "source": [
    "model_t.compile(loss = \"binary_crossentropy\", optimizer = \"adam\", metrics = [\"accuracy\"])"
   ]
  },
  {
   "cell_type": "code",
   "execution_count": 244,
   "metadata": {},
   "outputs": [
    {
     "name": "stdout",
     "output_type": "stream",
     "text": [
      "Train on 55955 samples, validate on 23982 samples\n",
      "Epoch 1/30\n",
      "55955/55955 [==============================] - 2s 40us/step - loss: 0.1184 - accuracy: 0.9989 - val_loss: 0.0056 - val_accuracy: 1.0000\n",
      "Epoch 2/30\n",
      "55955/55955 [==============================] - 2s 36us/step - loss: 0.0024 - accuracy: 1.0000 - val_loss: 9.3950e-04 - val_accuracy: 1.0000\n",
      "Epoch 3/30\n",
      "55955/55955 [==============================] - 2s 37us/step - loss: 5.2172e-04 - accuracy: 1.0000 - val_loss: 2.6579e-04 - val_accuracy: 1.0000\n",
      "Epoch 4/30\n",
      "55955/55955 [==============================] - 2s 35us/step - loss: 1.5984e-04 - accuracy: 1.0000 - val_loss: 8.8737e-05 - val_accuracy: 1.0000\n",
      "Epoch 5/30\n",
      "55955/55955 [==============================] - 2s 37us/step - loss: 5.5166e-05 - accuracy: 1.0000 - val_loss: 3.1763e-05 - val_accuracy: 1.0000\n",
      "Epoch 6/30\n",
      "55955/55955 [==============================] - 2s 36us/step - loss: 2.0061e-05 - accuracy: 1.0000 - val_loss: 1.1760e-05 - val_accuracy: 1.0000\n",
      "Epoch 7/30\n",
      "55955/55955 [==============================] - 2s 36us/step - loss: 7.4925e-06 - accuracy: 1.0000 - val_loss: 4.4381e-06 - val_accuracy: 1.0000\n",
      "Epoch 8/30\n",
      "55955/55955 [==============================] - 2s 36us/step - loss: 2.8433e-06 - accuracy: 1.0000 - val_loss: 1.6957e-06 - val_accuracy: 1.0000\n",
      "Epoch 9/30\n",
      "55955/55955 [==============================] - 2s 36us/step - loss: 1.0908e-06 - accuracy: 1.0000 - val_loss: 6.5392e-07 - val_accuracy: 1.0000\n",
      "Epoch 10/30\n",
      "55955/55955 [==============================] - 2s 35us/step - loss: 4.2211e-07 - accuracy: 1.0000 - val_loss: 2.5441e-07 - val_accuracy: 1.0000\n",
      "Epoch 11/30\n",
      "55955/55955 [==============================] - 2s 35us/step - loss: 1.6484e-07 - accuracy: 1.0000 - val_loss: 1.0013e-07 - val_accuracy: 1.0000\n",
      "Epoch 12/30\n",
      "55955/55955 [==============================] - 2s 36us/step - loss: 6.5496e-08 - accuracy: 1.0000 - val_loss: 3.8736e-08 - val_accuracy: 1.0000\n",
      "Epoch 13/30\n",
      "55955/55955 [==============================] - 2s 36us/step - loss: 2.7403e-08 - accuracy: 1.0000 - val_loss: 2.5065e-08 - val_accuracy: 1.0000\n",
      "Epoch 14/30\n",
      "55955/55955 [==============================] - 2s 35us/step - loss: 2.4990e-08 - accuracy: 1.0000 - val_loss: 2.5026e-08 - val_accuracy: 1.0000\n",
      "Epoch 15/30\n",
      "55955/55955 [==============================] - 2s 36us/step - loss: 2.4961e-08 - accuracy: 1.0000 - val_loss: 2.5008e-08 - val_accuracy: 1.0000\n",
      "Epoch 16/30\n",
      "55955/55955 [==============================] - 2s 37us/step - loss: 2.4949e-08 - accuracy: 1.0000 - val_loss: 2.5002e-08 - val_accuracy: 1.0000\n",
      "Epoch 17/30\n",
      "55955/55955 [==============================] - 2s 36us/step - loss: 2.4948e-08 - accuracy: 1.0000 - val_loss: 2.5002e-08 - val_accuracy: 1.0000\n",
      "Epoch 18/30\n",
      "55955/55955 [==============================] - 2s 37us/step - loss: 2.4948e-08 - accuracy: 1.0000 - val_loss: 2.5002e-08 - val_accuracy: 1.0000\n",
      "Epoch 19/30\n",
      "55955/55955 [==============================] - 2s 36us/step - loss: 2.4948e-08 - accuracy: 1.0000 - val_loss: 2.5002e-08 - val_accuracy: 1.0000\n",
      "Epoch 20/30\n",
      "55955/55955 [==============================] - 2s 36us/step - loss: 2.4948e-08 - accuracy: 1.0000 - val_loss: 2.5002e-08 - val_accuracy: 1.0000\n",
      "Epoch 21/30\n",
      "55955/55955 [==============================] - 2s 36us/step - loss: 2.4948e-08 - accuracy: 1.0000 - val_loss: 2.5002e-08 - val_accuracy: 1.0000\n",
      "Epoch 22/30\n",
      "55955/55955 [==============================] - 2s 35us/step - loss: 2.4948e-08 - accuracy: 1.0000 - val_loss: 2.5002e-08 - val_accuracy: 1.0000\n",
      "Epoch 23/30\n",
      "55955/55955 [==============================] - 2s 35us/step - loss: 2.4948e-08 - accuracy: 1.0000 - val_loss: 2.5002e-08 - val_accuracy: 1.0000\n",
      "Epoch 24/30\n",
      "55955/55955 [==============================] - 2s 36us/step - loss: 2.4948e-08 - accuracy: 1.0000 - val_loss: 2.5002e-08 - val_accuracy: 1.0000\n",
      "Epoch 25/30\n",
      "55955/55955 [==============================] - 2s 35us/step - loss: 2.4948e-08 - accuracy: 1.0000 - val_loss: 2.5002e-08 - val_accuracy: 1.0000\n",
      "Epoch 26/30\n",
      "55955/55955 [==============================] - 2s 36us/step - loss: 2.4948e-08 - accuracy: 1.0000 - val_loss: 2.5002e-08 - val_accuracy: 1.0000\n",
      "Epoch 27/30\n",
      "55955/55955 [==============================] - 2s 35us/step - loss: 2.4948e-08 - accuracy: 1.0000 - val_loss: 2.5002e-08 - val_accuracy: 1.0000\n",
      "Epoch 28/30\n",
      "55955/55955 [==============================] - 2s 37us/step - loss: 2.4948e-08 - accuracy: 1.0000 - val_loss: 2.5002e-08 - val_accuracy: 1.0000\n",
      "Epoch 29/30\n",
      "55955/55955 [==============================] - 2s 36us/step - loss: 2.4948e-08 - accuracy: 1.0000 - val_loss: 2.5002e-08 - val_accuracy: 1.0000\n",
      "Epoch 30/30\n",
      "55955/55955 [==============================] - 2s 37us/step - loss: 2.4948e-08 - accuracy: 1.0000 - val_loss: 2.5002e-08 - val_accuracy: 1.0000\n"
     ]
    }
   ],
   "source": [
    "history = model_t.fit(features,labels, epochs=30, validation_data = (features_val, labels_val))"
   ]
  },
  {
   "cell_type": "code",
   "execution_count": 234,
   "metadata": {},
   "outputs": [
    {
     "name": "stdout",
     "output_type": "stream",
     "text": [
      "8882/8882 [==============================] - 0s 12us/step\n"
     ]
    },
    {
     "data": {
      "text/plain": [
       "[1.0148236533932561e-09, 1.0]"
      ]
     },
     "execution_count": 234,
     "metadata": {},
     "output_type": "execute_result"
    }
   ],
   "source": [
    "model_t.evaluate(features_test, labels_test)"
   ]
  },
  {
   "cell_type": "code",
   "execution_count": 219,
   "metadata": {},
   "outputs": [
    {
     "data": {
      "image/png": "[encoded data removed]",
      "text/plain": [
       "<Figure size 432x288 with 1 Axes>"
      ]
     },
     "metadata": {
      "needs_background": "light"
     },
     "output_type": "display_data"
    }
   ],
   "source": [
    "plt.plot(np.arange(0, 30), history.history[\"loss\"], label = \"Loss\")\n",
    "plt.plot(np.arange(0, 30), history.history[\"val_loss\"], label = \"Val Loss\")\n",
    "plt.xlabel(\"Epoch\")\n",
    "plt.legend(loc=\"upper left\")\n",
    "plt.show()"
   ]
  },
  {
   "cell_type": "code",
   "execution_count": null,
   "metadata": {},
   "outputs": [],
   "source": []
  }
 ],
 "metadata": {
  "kernelspec": {
   "display_name": "Python 3",
   "language": "python",
   "name": "python3"
  },
  "language_info": {
   "codemirror_mode": {
    "name": "ipython",
    "version": 3
   },
   "file_extension": ".py",
   "mimetype": "text/x-python",
   "name": "python",
   "nbconvert_exporter": "python",
   "pygments_lexer": "ipython3",
   "version": "3.6.9"
  }
 },
 "nbformat": 4,
 "nbformat_minor": 2
}
